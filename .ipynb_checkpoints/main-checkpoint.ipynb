{
 "cells": [
  {
   "cell_type": "code",
   "execution_count": 1,
   "metadata": {},
   "outputs": [],
   "source": [
    "import trafpy.generator as tpg"
   ]
  },
  {
   "cell_type": "code",
   "execution_count": 2,
   "metadata": {},
   "outputs": [],
   "source": [
    "PATH = r'data/interactive_test/'\n",
    "NUM_DEMANDS = 2000"
   ]
  },
  {
   "cell_type": "markdown",
   "metadata": {},
   "source": [
    "## Generate Random Variables from 'Named' Distribution"
   ]
  },
  {
   "cell_type": "code",
   "execution_count": 3,
   "metadata": {},
   "outputs": [
    {
     "data": {
      "application/vnd.jupyter.widget-view+json": {
       "model_id": "f895335c1e164760818f5b1e818c1298",
       "version_major": 2,
       "version_minor": 0
      },
      "text/plain": [
       "interactive(children=(FloatText(value=5.0, description='_alpha:', step=0.1), FloatText(value=0.5, description=…"
      ]
     },
     "metadata": {},
     "output_type": "display_data"
    },
    {
     "name": "stdout",
     "output_type": "stream",
     "text": [
      "Time to save data to data/interactive_test/random_variable_v3.pickle: 0.028318405151367188 s\n"
     ]
    }
   ],
   "source": [
    "rand_vars = tpg.gen_named_val_dist(dist='weibull',\n",
    "                                   interactive_plot=True,\n",
    "                                   xlim=None,\n",
    "                                   rand_var_name='Random Variable',\n",
    "                                   prob_rand_var_less_than=None,\n",
    "                                   num_bins=0,\n",
    "                                   size=NUM_DEMANDS)"
   ]
  },
  {
   "cell_type": "code",
   "execution_count": 4,
   "metadata": {},
   "outputs": [
    {
     "name": "stdout",
     "output_type": "stream",
     "text": [
      "Time to save data to data/interactive_test/random_variable.pickle: 0.013111352920532227 s\n"
     ]
    }
   ],
   "source": [
    "# save\n",
    "filename = 'random_variable'\n",
    "tpg.pickle_data(PATH+filename, rand_vars.result)"
   ]
  },
  {
   "cell_type": "code",
   "execution_count": null,
   "metadata": {},
   "outputs": [],
   "source": []
  }
 ],
 "metadata": {
  "kernelspec": {
   "display_name": "Python 3",
   "language": "python",
   "name": "python3"
  },
  "language_info": {
   "codemirror_mode": {
    "name": "ipython",
    "version": 3
   },
   "file_extension": ".py",
   "mimetype": "text/x-python",
   "name": "python",
   "nbconvert_exporter": "python",
   "pygments_lexer": "ipython3",
   "version": "3.7.7"
  }
 },
 "nbformat": 4,
 "nbformat_minor": 4
}
