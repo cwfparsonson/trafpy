{
 "cells": [
  {
   "cell_type": "markdown",
   "metadata": {},
   "source": [
    "# Visually Shaping Distributions with TrafPy\n",
    "\n",
    "This Notebook shows an example of how to shape distributions with `TrafPy`. We will save our shaped distributions, re-load them, and use them to generate custom flow-centric traffic data, which we will then save in .pickle format such that you'd be able to import the traffic into any simulation, emulation, or experimentation environment. We will also organise the demonstrated traffic into time slots and generate an sqlite data base which we can save to our disk and access during a simulation, thereby enabling us to scale to very large simulation sizes."
   ]
  },
  {
   "cell_type": "markdown",
   "metadata": {},
   "source": [
    "Import the `trafpy.generator` module"
   ]
  },
  {
   "cell_type": "code",
   "execution_count": 1,
   "metadata": {},
   "outputs": [],
   "source": [
    "import trafpy.generator as tpg"
   ]
  },
  {
   "cell_type": "markdown",
   "metadata": {},
   "source": [
    "Set global path"
   ]
  },
  {
   "cell_type": "code",
   "execution_count": 2,
   "metadata": {},
   "outputs": [],
   "source": [
    "from pathlib import Path\n",
    "import gzip\n",
    "import pickle\n",
    "\n",
    "PATH = 'data/visually_shape_and_generate_custom_traffic/'\n",
    "Path(PATH).mkdir(exist_ok=True, parents=True)"
   ]
  },
  {
   "cell_type": "markdown",
   "metadata": {},
   "source": [
    "## Generate Random Variables from 'Named' Distribution\n",
    "\n",
    "Generate a distribution of random variables using one of the following standard named distributions:\n",
    "\n",
    "- exponential\n",
    "- lognormal\n",
    "- weibull\n",
    "- pareto\n",
    "\n",
    "This might be e.g. interarrival times, sizes, number of nodes in a job, probability of job dependency/edge formation etc...\n",
    "\n",
    "Note that to turn on the interactive functionality of these plotting functions, we simply set `interactive_plot=True`.\n",
    "\n",
    "In the below example, try setting the arguments as `dist='weibull'`, `min_val=None`, `max_val=None`, `round_to_nearest=None`, and `size=150000`. Run the cell, and set the `TrafPy` parameters which pop up as `_alpha=5` and `_lambda=0.5` before clicking 'Run Interact'. You will see a print out of the distribution characteristics you've generated, a histogram, and the corresponding CDF. Feel free to play around with these parameters and to enter different named distribution names to shape your own distributions."
   ]
  },
  {
   "cell_type": "code",
   "execution_count": 3,
   "metadata": {},
   "outputs": [
    {
     "data": {
      "application/vnd.jupyter.widget-view+json": {
       "model_id": "0c9e7b34a6284d24847a4c98bed48119",
       "version_major": 2,
       "version_minor": 0
      },
      "text/plain": [
       "interactive(children=(FloatText(value=5.0, description='_alpha:', step=0.1), FloatText(value=0.5, description=…"
      ]
     },
     "metadata": {},
     "output_type": "display_data"
    }
   ],
   "source": [
    "rand_vars = tpg.gen_named_val_dist(dist='weibull',\n",
    "                                   interactive_plot=True,\n",
    "                                   xlim=None, # [1, 10000] None\n",
    "                                   min_val=None, # 50 None\n",
    "                                   max_val=None, # 200 None\n",
    "                                   round_to_nearest=None, # None 25\n",
    "                                   num_decimal_places=2,\n",
    "                                   rand_var_name='Random Variable',\n",
    "#                                    prob_rand_var_less_than=[4847, 9431],\n",
    "                                   num_bins=0,\n",
    "                                   size=150000)"
   ]
  },
  {
   "cell_type": "markdown",
   "metadata": {},
   "source": [
    "Note that to use our `TrafPy` parameters to re-generate a distribution we've visually shaped, we simply make a note of the parameters and enter them into the same function but now setting `interactive_plot=False`. This is a key feature of `TrafPy` which enables users to share and re-generate distributions and traffic data given only a handful of `TrafPy` parameters.\n",
    "\n",
    "E.g. Assuming we shaped a distribution with `TrafPy` parameters `dist='weibull'`, `min_val=None`, `max_val=None`, `round_to_nearest=None`, and named distribution parameters `_alpha=5` and `_lambda=0.5`, we would reproduce this distribution with:"
   ]
  },
  {
   "cell_type": "code",
   "execution_count": 4,
   "metadata": {},
   "outputs": [],
   "source": [
    "dist = tpg.gen_named_val_dist(dist='weibull',\n",
    "                              interactive_plot=False,\n",
    "                              params={'_alpha': 5, '_lambda': 0.5},\n",
    "                              round_to_nearest=None,\n",
    "                              min_val=None,\n",
    "                              max_val=None)"
   ]
  },
  {
   "cell_type": "code",
   "execution_count": 5,
   "metadata": {},
   "outputs": [],
   "source": [
    "# save\n",
    "filename = PATH+'random_variable.pickle'\n",
    "with gzip.open(filename, 'wb') as f:\n",
    "    pickle.dump(rand_vars.result, f)"
   ]
  },
  {
   "cell_type": "markdown",
   "metadata": {},
   "source": [
    "## Generate Random Variables from Arbitrary 'Multimodal' Distribution\n",
    "\n",
    "In previous cells we considered standard distributions (exponential, lognormal, weibull, pareto...). These are common distributions which occur in many different scenarios. However, sometimes in real scenarios distributions might not fall into these well-defined distribution categories. \n",
    "\n",
    "Multimodal distributions are distributions with >= 2 different modes. A multimodal distribution with 2 modes is a special case called a 'bimodal distribution', which is very common. \n",
    "\n",
    "The traffic toolbox allows you to generate arbitrary multimodal distributions. This is very powerful because with access to the above standard distributions and the arbitrary multimodal distribution generator, any distribution can be generated if you are able to shape it sufficiently.\n",
    "\n",
    "Generating multimodal distributions is a little more involved than generating the standard distributions was, but it can still be done in a matter of seconds using `TrafPy`. \n",
    "\n",
    "There are a few simple steps to generating an arbitrary multimodal distribution:\n",
    "\n",
    "1. Decide the number of modes (i.e. peaks) and other distribution characteristics\n",
    "2. Shape each mode individually\n",
    "3. Combine all of modes together and add some 'background noise' to the distribution such that the modes are 'joined' together to form a single multimodal distribution (background noise can be set to 0 if desired)\n",
    "4. Use your multimodal distribution to generate demands\n",
    "5. Save the generated demands"
   ]
  },
  {
   "cell_type": "code",
   "execution_count": 6,
   "metadata": {},
   "outputs": [],
   "source": [
    "# 1. define distribution variables\n",
    "min_val=1\n",
    "max_val=1e5\n",
    "num_modes=2\n",
    "xlim=None\n",
    "rand_var_name='Random Variable'\n",
    "round_to_nearest=1\n",
    "num_decimal_places=1"
   ]
  },
  {
   "cell_type": "code",
   "execution_count": 7,
   "metadata": {
    "scrolled": false
   },
   "outputs": [
    {
     "data": {
      "application/vnd.jupyter.widget-view+json": {
       "model_id": "d0d1557d38fc491db7c79aa5830b0e75",
       "version_major": 2,
       "version_minor": 0
      },
      "text/plain": [
       "interactive(children=(BoundedIntText(value=50000, description='Location:', max=100000, min=1), FloatText(value…"
      ]
     },
     "metadata": {},
     "output_type": "display_data"
    },
    {
     "data": {
      "application/vnd.jupyter.widget-view+json": {
       "model_id": "b9d5f775188c428e872646ded54e8c02",
       "version_major": 2,
       "version_minor": 0
      },
      "text/plain": [
       "interactive(children=(BoundedIntText(value=50000, description='Location:', max=100000, min=1), FloatText(value…"
      ]
     },
     "metadata": {},
     "output_type": "display_data"
    }
   ],
   "source": [
    "# 2. shape each mode\n",
    "data_dict = tpg.gen_skew_dists(min_val=min_val,\n",
    "                               max_val=max_val,\n",
    "                               num_modes=num_modes,\n",
    "                               xlim=xlim,\n",
    "                               rand_var_name=rand_var_name,\n",
    "                               round_to_nearest=round_to_nearest,\n",
    "                               num_decimal_places=num_decimal_places)"
   ]
  },
  {
   "cell_type": "code",
   "execution_count": 8,
   "metadata": {},
   "outputs": [
    {
     "data": {
      "application/vnd.jupyter.widget-view+json": {
       "model_id": "58fd411c879f44f2b53bc6b37955ae05",
       "version_major": 2,
       "version_minor": 0
      },
      "text/plain": [
       "interactive(children=(FloatText(value=0.5, description='bg_factor', step=0.001), Checkbox(value=False, descrip…"
      ]
     },
     "metadata": {},
     "output_type": "display_data"
    }
   ],
   "source": [
    "# 3. combine modes to form multimodal distribution\n",
    "multimodal_prob_dist = tpg.combine_multiple_mode_dists(data_dict,\n",
    "                                                       min_val=min_val,\n",
    "                                                       max_val=max_val,\n",
    "                                                       xlim=xlim,\n",
    "                                                       rand_var_name=rand_var_name,\n",
    "                                                       round_to_nearest=round_to_nearest,\n",
    "                                                       num_decimal_places=num_decimal_places)"
   ]
  },
  {
   "cell_type": "code",
   "execution_count": 9,
   "metadata": {},
   "outputs": [
    {
     "ename": "AttributeError",
     "evalue": "'NoneType' object has no attribute 'keys'",
     "output_type": "error",
     "traceback": [
      "\u001b[0;31m---------------------------------------------------------------------------\u001b[0m",
      "\u001b[0;31mAttributeError\u001b[0m                            Traceback (most recent call last)",
      "\u001b[0;32m<ipython-input-9-b6f620432959>\u001b[0m in \u001b[0;36m<module>\u001b[0;34m\u001b[0m\n\u001b[1;32m      1\u001b[0m \u001b[0;31m# 4. use dist to generate random variables\u001b[0m\u001b[0;34m\u001b[0m\u001b[0;34m\u001b[0m\u001b[0;34m\u001b[0m\u001b[0m\n\u001b[0;32m----> 2\u001b[0;31m rand_vars = tpg.gen_rand_vars_from_discretised_dist(unique_vars=list(multimodal_prob_dist.result.keys()),\n\u001b[0m\u001b[1;32m      3\u001b[0m                                                     \u001b[0mprobabilities\u001b[0m\u001b[0;34m=\u001b[0m\u001b[0mlist\u001b[0m\u001b[0;34m(\u001b[0m\u001b[0mmultimodal_prob_dist\u001b[0m\u001b[0;34m.\u001b[0m\u001b[0mresult\u001b[0m\u001b[0;34m.\u001b[0m\u001b[0mvalues\u001b[0m\u001b[0;34m(\u001b[0m\u001b[0;34m)\u001b[0m\u001b[0;34m)\u001b[0m\u001b[0;34m,\u001b[0m\u001b[0;34m\u001b[0m\u001b[0;34m\u001b[0m\u001b[0m\n\u001b[1;32m      4\u001b[0m                                                     num_demands=150000)\n",
      "\u001b[0;31mAttributeError\u001b[0m: 'NoneType' object has no attribute 'keys'"
     ]
    }
   ],
   "source": [
    "# 4. use dist to generate random variables\n",
    "rand_vars = tpg.gen_rand_vars_from_discretised_dist(unique_vars=list(multimodal_prob_dist.result.keys()),\n",
    "                                                    probabilities=list(multimodal_prob_dist.result.values()),\n",
    "                                                    num_demands=150000)"
   ]
  },
  {
   "cell_type": "code",
   "execution_count": null,
   "metadata": {},
   "outputs": [],
   "source": [
    "# 5. save\n",
    "filename = PATH+'multimodal_random_variable.pickle'\n",
    "with gzip.open(filename, 'wb') as f:\n",
    "    pickle.dump(rand_vars, f)"
   ]
  },
  {
   "cell_type": "markdown",
   "metadata": {},
   "source": [
    "## Generate Discrete Probability Distribution from Random Variables\n",
    "\n",
    "Previous cells generated random variable data. However, sometimes it might be desirable to have the probability distribution/probability mass function (PMF) of the generated data rather than all the original generated data. Using the PMF, anyone can sample randomly from the PMF to produce new data with similar characteristics to the original data which you generated.\n",
    "\n",
    "Run this cell to load your previously generated distribution data and convert it into a PMF"
   ]
  },
  {
   "cell_type": "code",
   "execution_count": 10,
   "metadata": {},
   "outputs": [
    {
     "ename": "TypeError",
     "evalue": "'NoneType' object is not iterable",
     "output_type": "error",
     "traceback": [
      "\u001b[0;31m---------------------------------------------------------------------------\u001b[0m",
      "\u001b[0;31mTypeError\u001b[0m                                 Traceback (most recent call last)",
      "\u001b[0;32m<ipython-input-10-4149d4803b85>\u001b[0m in \u001b[0;36m<module>\u001b[0;34m\u001b[0m\n\u001b[1;32m      4\u001b[0m xk, pmf = tpg.gen_discrete_prob_dist(rand_vars, \n\u001b[1;32m      5\u001b[0m                                      \u001b[0mround_to_nearest\u001b[0m\u001b[0;34m=\u001b[0m\u001b[0;32mNone\u001b[0m\u001b[0;34m,\u001b[0m\u001b[0;34m\u001b[0m\u001b[0;34m\u001b[0m\u001b[0m\n\u001b[0;32m----> 6\u001b[0;31m                                      num_decimal_places=2)\n\u001b[0m\u001b[1;32m      7\u001b[0m \u001b[0mprob_dist\u001b[0m \u001b[0;34m=\u001b[0m \u001b[0;34m{\u001b[0m\u001b[0mvar\u001b[0m\u001b[0;34m:\u001b[0m \u001b[0mprob\u001b[0m \u001b[0;32mfor\u001b[0m \u001b[0mvar\u001b[0m\u001b[0;34m,\u001b[0m\u001b[0mprob\u001b[0m \u001b[0;32min\u001b[0m \u001b[0mzip\u001b[0m\u001b[0;34m(\u001b[0m\u001b[0mxk\u001b[0m\u001b[0;34m,\u001b[0m \u001b[0mpmf\u001b[0m\u001b[0;34m)\u001b[0m\u001b[0;34m}\u001b[0m\u001b[0;34m\u001b[0m\u001b[0;34m\u001b[0m\u001b[0m\n",
      "\u001b[0;32m~/Insync/zciccwf@ucl.ac.uk/OneDriveBiz/ipes_cdt/phd_project/projects/trafpy/trafpy/generator/src/dists/val_dists.py\u001b[0m in \u001b[0;36mgen_discrete_prob_dist\u001b[0;34m(rand_vars, unique_vars, round_to_nearest, num_decimal_places, path_to_save)\u001b[0m\n\u001b[1;32m   1101\u001b[0m         \u001b[0;31m# given unique rand vars, init each one as having occurred 0 times\u001b[0m\u001b[0;34m\u001b[0m\u001b[0;34m\u001b[0m\u001b[0;34m\u001b[0m\u001b[0m\n\u001b[1;32m   1102\u001b[0m         \u001b[0mcounter_dict\u001b[0m \u001b[0;34m=\u001b[0m \u001b[0;34m{\u001b[0m\u001b[0munique_var\u001b[0m\u001b[0;34m:\u001b[0m \u001b[0;36m0\u001b[0m \u001b[0;32mfor\u001b[0m \u001b[0munique_var\u001b[0m \u001b[0;32min\u001b[0m \u001b[0munique_vars\u001b[0m\u001b[0;34m}\u001b[0m\u001b[0;34m\u001b[0m\u001b[0;34m\u001b[0m\u001b[0m\n\u001b[0;32m-> 1103\u001b[0;31m     \u001b[0;32mfor\u001b[0m \u001b[0mvar\u001b[0m \u001b[0;32min\u001b[0m \u001b[0mdiscretised_rand_vars\u001b[0m\u001b[0;34m:\u001b[0m\u001b[0;34m\u001b[0m\u001b[0;34m\u001b[0m\u001b[0m\n\u001b[0m\u001b[1;32m   1104\u001b[0m         \u001b[0;32mtry\u001b[0m\u001b[0;34m:\u001b[0m\u001b[0;34m\u001b[0m\u001b[0;34m\u001b[0m\u001b[0m\n\u001b[1;32m   1105\u001b[0m             \u001b[0mcounter_dict\u001b[0m\u001b[0;34m[\u001b[0m\u001b[0mvar\u001b[0m\u001b[0;34m]\u001b[0m \u001b[0;34m+=\u001b[0m \u001b[0;36m1\u001b[0m\u001b[0;34m\u001b[0m\u001b[0;34m\u001b[0m\u001b[0m\n",
      "\u001b[0;31mTypeError\u001b[0m: 'NoneType' object is not iterable"
     ]
    }
   ],
   "source": [
    "filename = 'random_variable.pickle'\n",
    "with gzip.open(PATH+'random_variable.pickle', 'rb') as f:\n",
    "    rand_vars = pickle.load(f)\n",
    "xk, pmf = tpg.gen_discrete_prob_dist(rand_vars, \n",
    "                                     round_to_nearest=None,\n",
    "                                     num_decimal_places=2)\n",
    "prob_dist = {var: prob for var,prob in zip(xk, pmf)}"
   ]
  },
  {
   "cell_type": "code",
   "execution_count": null,
   "metadata": {},
   "outputs": [],
   "source": [
    "# save\n",
    "filename = PATH+'prob_dist.pickle'\n",
    "with gzip.open(filename, 'wb') as f:\n",
    "    pickle.dump(prob_dist, f)"
   ]
  },
  {
   "cell_type": "markdown",
   "metadata": {},
   "source": [
    "## Generate Random Variables from Discrete Probability Distribution\n",
    "\n",
    "Load a previously saved distribution and sample from it to generate any number of random variable data points. This function/cell does not plot the distribution, which avoids long delay times when trying to generate very large amounts of data."
   ]
  },
  {
   "cell_type": "code",
   "execution_count": 11,
   "metadata": {},
   "outputs": [],
   "source": [
    "with gzip.open(PATH+'prob_dist.pickle', 'rb') as f:\n",
    "    prob_dist = pickle.load(f)\n",
    "rand_vars = tpg.gen_rand_vars_from_discretised_dist(unique_vars=list(prob_dist.keys()),\n",
    "                                                    probabilities=list(prob_dist.values()),\n",
    "                                                    num_demands=150000)"
   ]
  },
  {
   "cell_type": "code",
   "execution_count": 12,
   "metadata": {},
   "outputs": [],
   "source": [
    "# save\n",
    "filename = PATH+'random_variables_from_prob_dist.pickle'\n",
    "with gzip.open(filename, 'wb') as f:\n",
    "    pickle.dump(rand_vars, f)"
   ]
  },
  {
   "cell_type": "markdown",
   "metadata": {},
   "source": [
    "## Generate Source-Destination Node Distribution\n",
    "\n",
    "Generate a matrix describing the traffic distribution of each source-node pair in a network."
   ]
  },
  {
   "cell_type": "code",
   "execution_count": 13,
   "metadata": {},
   "outputs": [
    {
     "data": {
      "image/png": "[encoded data removed]",
      "text/plain": [
       "<Figure size 288x288 with 2 Axes>"
      ]
     },
     "metadata": {
      "needs_background": "light"
     },
     "output_type": "display_data"
    },
    {
     "name": "stdout",
     "output_type": "stream",
     "text": [
      "Src-dst edge weights in chord diagram are all the same, leading to 0 rescaled values. Decrease chord_edge_display_threshold to ensure a range of edge values are included in the chord diagram.\n"
     ]
    }
   ],
   "source": [
    "net = tpg.gen_arbitrary_network(num_eps=12, ep_label='ep')\n",
    "ENDPOINTS = net.graph['endpoints']\n",
    "\n",
    "# comment out all except one below\n",
    "\n",
    "node_dist, _ = tpg.gen_uniform_node_dist(eps=ENDPOINTS,\n",
    "                                         show_fig=True,\n",
    "                                         print_data=False)\n",
    "\n",
    "# node_dist, _ = tpg.gen_multimodal_node_dist(eps=ENDPOINTS,\n",
    "#                                             skewed_nodes=[],\n",
    "#                                             skewed_node_probs=[],\n",
    "#                                             num_skewed_nodes=None,\n",
    "#                                             show_fig=True,\n",
    "#                                             print_data=True)\n",
    "\n",
    "# node_dist, _ = tpg.gen_multimodal_node_pair_dist(eps=ENDPOINTS,\n",
    "#                                                  skewed_pairs=[],\n",
    "#                                                  skewed_pair_probs=[],\n",
    "#                                                  num_skewed_pairs=None,\n",
    "#                                                  show_fig=True,\n",
    "#                                                  print_data=True)"
   ]
  },
  {
   "cell_type": "code",
   "execution_count": 14,
   "metadata": {},
   "outputs": [],
   "source": [
    "# save\n",
    "filename = PATH+'node_dist.pickle'\n",
    "with gzip.open(filename, 'wb') as f:\n",
    "    pickle.dump(node_dist, f)"
   ]
  },
  {
   "cell_type": "markdown",
   "metadata": {},
   "source": [
    "## Use Node Distribution to Generate Source-Destination Node Demands\n",
    "\n",
    "Sample from a previously generated source-destination matrix to generate source-destination node pair demands."
   ]
  },
  {
   "cell_type": "code",
   "execution_count": 15,
   "metadata": {},
   "outputs": [],
   "source": [
    "with gzip.open(PATH+'node_dist.pickle', 'rb') as f:\n",
    "    node_dist = pickle.load(f)\n",
    "node_demands = tpg.gen_node_demands(eps=ENDPOINTS,\n",
    "                                    node_dist=node_dist,\n",
    "                                    num_demands=150000)"
   ]
  },
  {
   "cell_type": "code",
   "execution_count": 16,
   "metadata": {},
   "outputs": [],
   "source": [
    "# save\n",
    "filename = PATH+'node_demands.pickle'\n",
    "with gzip.open(filename, 'wb') as f:\n",
    "    pickle.dump(node_demands, f)"
   ]
  },
  {
   "cell_type": "markdown",
   "metadata": {},
   "source": [
    "## Use Previously Generated Distributions to Create Flow-Centric 'Demand Data' Dictionary\n",
    "\n",
    "`TrafPy` can use your custom distributions to generate a `demand_data` traffic data set using the `trafpy.generator.create_demand_data()` function:"
   ]
  },
  {
   "cell_type": "code",
   "execution_count": null,
   "metadata": {},
   "outputs": [],
   "source": [
    "# flow-centric demand data\n",
    "with gzip.open(PATH+'node_dist.pickle', 'rb') as f:\n",
    "    node_dist = pickle.load(f)\n",
    "with gzip.open(PATH+'prob_dist.pickle', 'rb') as f:\n",
    "    flow_size_dist = pickle.load(f)\n",
    "with gzip.open(PATH+'prob_dist.pickle', 'rb') as f:\n",
    "    interarrival_time_dist = pickle.load(f)\n",
    "    \n",
    "network_load_config = {'network_rate_capacity': net.graph['max_nw_capacity'], \n",
    "                       'ep_link_capacity': net.graph['ep_link_capacity'],\n",
    "                       'target_load_fraction': 0.1}\n",
    "\n",
    "flow_centric_demand_data = tpg.create_demand_data(eps=ENDPOINTS,\n",
    "                                                  node_dist=node_dist,\n",
    "                                                  flow_size_dist=flow_size_dist,\n",
    "                                                  interarrival_time_dist=interarrival_time_dist,\n",
    "                                                  network_load_config=network_load_config,\n",
    "                                                  print_data=True)\n",
    "\n",
    "# save\n",
    "filename = PATH+'custom_demand_data.pickle'\n",
    "with gzip.open(filename, 'wb') as f:\n",
    "    pickle.dump(flow_centric_demand_data, f)"
   ]
  },
  {
   "cell_type": "markdown",
   "metadata": {},
   "source": [
    "`demand_data` is a dictionary storing the following information for each flow (where the values are a list of values corresponding to the values assigned to each flow):"
   ]
  },
  {
   "cell_type": "code",
   "execution_count": null,
   "metadata": {},
   "outputs": [],
   "source": [
    "print('Flow data keys:\\n{}'.format(flow_centric_demand_data.keys()))"
   ]
  },
  {
   "cell_type": "markdown",
   "metadata": {},
   "source": [
    "## Analyse the Generated Traffic\n",
    "\n",
    "At this point, you could do your own analysis of the traffic you've generated by loading the saved data into your own scripts. However, `TrafPy` provides some useful tools for this.\n",
    "\n",
    "We can encode our saved `demand_data` files as `trafpy.generator.Demand()` objects, and then use the `trafpy.generator.DemandsAnalyser` and `trafpy.generator.DemandPlotter` objects to analyse them:"
   ]
  },
  {
   "cell_type": "code",
   "execution_count": null,
   "metadata": {},
   "outputs": [],
   "source": [
    "from trafpy.generator import Demand, DemandsAnalyser, DemandPlotter"
   ]
  },
  {
   "cell_type": "markdown",
   "metadata": {},
   "source": [
    "First collect the demand objects from each demand_data file:"
   ]
  },
  {
   "cell_type": "code",
   "execution_count": null,
   "metadata": {},
   "outputs": [],
   "source": [
    "# collect demand objects\n",
    "demands = {}\n",
    "with gzip.open(PATH+'custom_demand_data.pickle', 'rb') as f:\n",
    "    demand_data = pickle.load(f)\n",
    "demands['custom'] = Demand(demand_data, net.graph['endpoints'], name='custom')"
   ]
  },
  {
   "cell_type": "markdown",
   "metadata": {},
   "source": [
    "Then use `trafpy.generator.DemandsAnalyser()` to print a summary table of all the demand data sets you generated:"
   ]
  },
  {
   "cell_type": "code",
   "execution_count": null,
   "metadata": {},
   "outputs": [],
   "source": [
    "# print summary table\n",
    "analyser = DemandsAnalyser(*list(demands.values()), jobcentric=False)\n",
    "analyser.compute_metrics(print_summary=True)"
   ]
  },
  {
   "cell_type": "markdown",
   "metadata": {},
   "source": [
    "Finally, visualise your data:"
   ]
  },
  {
   "cell_type": "code",
   "execution_count": null,
   "metadata": {},
   "outputs": [],
   "source": [
    "# visualise distributions\n",
    "for name, demand in demands.items():\n",
    "    print(name)\n",
    "    plotter = DemandPlotter(demand)\n",
    "    plotter.plot_flow_size_dist(logscale=True, figsize=(12,6))\n",
    "    plotter.plot_interarrival_time_dist(logscale=True, figsize=(12,6))\n",
    "    plotter.plot_node_dist(eps=net.graph['endpoints'],\n",
    "                           chord_edge_width_range=[1,25],\n",
    "                           chord_edge_display_threshold=0.005)\n",
    "    plotter.plot_node_load_dists(eps=net.graph['endpoints'], \n",
    "                                 ep_link_bandwidth=net.graph['ep_link_capacity'],\n",
    "                                 plot_extras=False)"
   ]
  },
  {
   "cell_type": "markdown",
   "metadata": {},
   "source": [
    "## Generate a slots dict data base\n",
    "\n",
    "Many network experiments are based on time slots. I.e. during a time slot of e.g. 10 time units, some number of flows arrive. The `trafpy.generator.Demand()` class has a useful `get_slots_dict()` method to automatically organise your generated traffic demands into time slots given the `slot_size` you want to use:"
   ]
  },
  {
   "cell_type": "code",
   "execution_count": null,
   "metadata": {},
   "outputs": [],
   "source": [
    "slots_dict = demand.get_slots_dict(slot_size=10)"
   ]
  },
  {
   "cell_type": "markdown",
   "metadata": {},
   "source": [
    "The `slots_dict` dictionary contains indices 0-n for `n` slots, as well as some other useful information:"
   ]
  },
  {
   "cell_type": "code",
   "execution_count": null,
   "metadata": {},
   "outputs": [],
   "source": [
    "print(slots_dict.keys())"
   ]
  },
  {
   "cell_type": "markdown",
   "metadata": {},
   "source": [
    "E.g. To access the flows which arrived in the first time slot (with upper bound and lower bound times on the time slot also given since this is often useful):"
   ]
  },
  {
   "cell_type": "code",
   "execution_count": null,
   "metadata": {},
   "outputs": [],
   "source": [
    "print(slots_dict[0].keys())"
   ]
  },
  {
   "cell_type": "markdown",
   "metadata": {},
   "source": [
    "Next time slot flows:"
   ]
  },
  {
   "cell_type": "code",
   "execution_count": null,
   "metadata": {},
   "outputs": [],
   "source": [
    "print(slots_dict[1].keys())"
   ]
  },
  {
   "cell_type": "markdown",
   "metadata": {},
   "source": [
    "And so on.\n",
    "\n",
    "For large simulations, it is recommended to save the `slots_dict` as a database on your disk which you can query during your simulation. The `SqliteDict` library is particularly useful for this since it lets you save a database in .sqlite file format whilst still allowing you to query the database as if it were a normal Python dictionary. See [here](https://pypi.org/project/sqlitedict/) for more details.\n",
    "\n",
    "To save your `slots_dict` as a .sqlite database with `SqliteDict`, run:"
   ]
  },
  {
   "cell_type": "code",
   "execution_count": null,
   "metadata": {},
   "outputs": [],
   "source": [
    "from sqlitedict import SqliteDict\n",
    "import json\n",
    "\n",
    "with SqliteDict(PATH+'custom_demand_data_slots_dict.sqlite') as _slots_dict:\n",
    "    for key, val in slots_dict.items():\n",
    "        if type(key) is not str:\n",
    "            _slots_dict[json.dumps(key)] = val\n",
    "        else:\n",
    "            _slots_dict[key] = val\n",
    "    _slots_dict.commit()\n",
    "    _slots_dict.close()"
   ]
  }
 ],
 "metadata": {
  "kernelspec": {
   "display_name": "deep_scheduler",
   "language": "python",
   "name": "deep_scheduler"
  },
  "language_info": {
   "codemirror_mode": {
    "name": "ipython",
    "version": 3
   },
   "file_extension": ".py",
   "mimetype": "text/x-python",
   "name": "python",
   "nbconvert_exporter": "python",
   "pygments_lexer": "ipython3",
   "version": "3.7.7"
  }
 },
 "nbformat": 4,
 "nbformat_minor": 4
}
