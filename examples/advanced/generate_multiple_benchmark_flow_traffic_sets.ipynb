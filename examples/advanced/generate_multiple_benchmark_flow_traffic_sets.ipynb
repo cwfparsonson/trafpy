{
 "cells": [
  {
   "cell_type": "markdown",
   "metadata": {},
   "source": [
    "# Generating Multiple Benchmark Flow Traffic Sets\n",
    "\n",
    "In this example, we write a script which will generate multiple benchmark traffic sets in a loop and save them in .pickle format. We will assume we are generating traffic for a `TrafPy` fat tree topology, although of course you can generate traffic for any arbitrary topology defined outside of `TrafPy` (see documentation and other examples).\n",
    "\n",
    "We will generate the rack distribution sensitivity benchmark data set for loads 0.1-0.5."
   ]
  },
  {
   "cell_type": "code",
   "execution_count": 1,
   "metadata": {},
   "outputs": [],
   "source": [
    "import trafpy.generator as tpg\n",
    "from trafpy.benchmarker import BenchmarkImporter\n",
    "\n",
    "import numpy as np\n",
    "import time\n",
    "import os\n",
    "from collections import defaultdict # use for initialising arbitrary length nested dict\n",
    "from sqlitedict import SqliteDict\n",
    "import json\n",
    "from pathlib import Path\n",
    "import gzip\n",
    "import pickle"
   ]
  },
  {
   "cell_type": "markdown",
   "metadata": {},
   "source": [
    "## 1. Define Generation Configuration\n",
    "\n",
    "If you were writing this in a script rather than a Jupyter Notebook, you may want to e.g. put this next cell in a `config.py` file and import the file into a separate script for conciseness."
   ]
  },
  {
   "cell_type": "code",
   "execution_count": 2,
   "metadata": {},
   "outputs": [],
   "source": [
    "# -------------------------------------------------------------------------\n",
    "# general configuration\n",
    "# -------------------------------------------------------------------------\n",
    "# define benchmark version\n",
    "BENCHMARK_VERSION = '0.0.1'\n",
    "\n",
    "# define minimum number of demands to generate (may generate more to meet jensen_shannon_distance_threshold and/or min_last_demand_arrival_time)\n",
    "MIN_NUM_DEMANDS = None\n",
    "MAX_NUM_DEMANDS = 5000 \n",
    "\n",
    "# define maximum allowed Jenson-Shannon distance for flow size and interarrival time distributions (lower value -> distributions must be more similar -> higher number of demands will be generated) (must be between 0 and 1)\n",
    "JENSEN_SHANNON_DISTANCE_THRESHOLD = 0.3\n",
    "\n",
    "# define minimum time of last demand's arrival (helps define minimum simulation time)\n",
    "MIN_LAST_DEMAND_ARRIVAL_TIME = None \n",
    "\n",
    "# define network load fractions\n",
    "LOADS = [round(load, 3) for load in np.arange(0.1, 0.4, 0.1).tolist()] # ensure no python floating point arithmetic errors\n",
    "\n",
    "# define whether or not to TrafPy packer should auto correct invalid node distribution(s)\n",
    "AUTO_NODE_DIST_CORRECTION = True\n",
    "\n",
    "# slot size (if None, won't generate slots_dict database)\n",
    "# SLOT_SIZE = None \n",
    "SLOT_SIZE = 1000.0 # 50.0 1000.0 10.0\n",
    "\n",
    "\n",
    "# -------------------------------------------------------------------------\n",
    "# benchmark-specific configuration\n",
    "# -------------------------------------------------------------------------\n",
    "\n",
    "BENCHMARKS = ['rack_dist_sensitivity_0',\n",
    "              'rack_dist_sensitivity_0.2',\n",
    "              'rack_dist_sensitivity_0.4',\n",
    "              'rack_dist_sensitivity_0.6',\n",
    "              'rack_dist_sensitivity_0.8']\n",
    "\n",
    "# define network topology for each benchmark\n",
    "net = tpg.gen_fat_tree(k=4, \n",
    "                       L=2, \n",
    "                       n=8, \n",
    "                       num_channels=1, \n",
    "                       server_to_rack_channel_capacity=1250, # 1250\n",
    "                       rack_to_edge_channel_capacity=1000, \n",
    "                       edge_to_agg_channel_capacity=1000, \n",
    "                       agg_to_core_channel_capacity=2000)\n",
    "NETS = {benchmark: net for benchmark in BENCHMARKS}\n",
    "\n",
    "# define network capacity for each benchmark\n",
    "NETWORK_CAPACITIES = {benchmark: net.graph['max_nw_capacity'] for benchmark in BENCHMARKS}\n",
    "NETWORK_EP_LINK_CAPACITIES = {benchmark: net.graph['ep_link_capacity'] for benchmark in BENCHMARKS}\n",
    "\n",
    "# define network racks for each benchmark\n",
    "RACKS_DICTS = {benchmark: net.graph['rack_to_ep_dict'] for benchmark in BENCHMARKS}"
   ]
  },
  {
   "cell_type": "markdown",
   "metadata": {},
   "source": [
    "## 2. Write a Function to Generate the Benchmark Traffic\n",
    "\n",
    "This function should use the above configuration variables to generate traffic for each of our benchmarks as required."
   ]
  },
  {
   "cell_type": "code",
   "execution_count": 3,
   "metadata": {},
   "outputs": [],
   "source": [
    "def gen_benchmark_demands(path_to_save=None, \n",
    "                          save_format='json', \n",
    "                          separate_files=False,\n",
    "                          load_prev_dists=True,\n",
    "                          overwrite=False):\n",
    "    '''\n",
    "    If slot size is not None, will also generate an sqlite database for the slots_dict\n",
    "    dictionary. This is useful if later during simulations want to have pre-computed\n",
    "    slots_dict rather than computing & storing them in memory.\n",
    "\n",
    "    '''\n",
    "    if path_to_save[-1] == '/' or path_to_save[-1] == '\\\\':\n",
    "        path_to_save = path_to_save[:-1]\n",
    "\n",
    "    # init benchmark importer\n",
    "    importer = BenchmarkImporter(BENCHMARK_VERSION, load_prev_dists=load_prev_dists)\n",
    "\n",
    "    # load distributions for each benchmark\n",
    "    benchmark_dists = {benchmark: {} for benchmark in BENCHMARKS}\n",
    "\n",
    "    nested_dict = lambda: defaultdict(nested_dict)\n",
    "    benchmark_demands = nested_dict()\n",
    "\n",
    "    # begin generating data for each benchmark\n",
    "    num_loads = len(LOADS)\n",
    "    start_loops = time.time()\n",
    "    print('\\n~*~*~*~*~*~*~*~*~*~*~*~*~*~*~*~*~*~*~*~*~*~*~*~*~*~*')\n",
    "    print('Benchmarks to Generate: {}'.format(BENCHMARKS))\n",
    "    print('Loads to generate: {}'.format(LOADS))\n",
    "    for benchmark in BENCHMARKS:\n",
    "        print('~*~*~*~*~*~*~*~*~*~*~*~*~*~*~*~*~*~*~*~*~*~*~*~*~*~*')\n",
    "        print('Generating demands for benchmark \\'{}\\'...'.format(benchmark))\n",
    "        \n",
    "        # get racks and endpoints\n",
    "        racks_dict = RACKS_DICTS[benchmark]\n",
    "        if racks_dict is not None:\n",
    "            eps_racks_list = [eps for eps in racks_dict.values()]\n",
    "            eps = []\n",
    "            for rack in eps_racks_list:\n",
    "                for ep in rack:\n",
    "                    eps.append(ep)\n",
    "        else:\n",
    "            eps = NETS[benchmark].graph['endpoints']\n",
    "\n",
    "        start_benchmark = time.time()\n",
    "        load_counter = 1\n",
    "        benchmark_dists[benchmark] = importer.get_benchmark_dists(benchmark, eps, racks_dict=racks_dict)\n",
    "        for load in LOADS:\n",
    "            start_load = time.time()\n",
    "            network_load_config = {'network_rate_capacity': NETWORK_CAPACITIES[benchmark], \n",
    "                                   'ep_link_capacity': NETWORK_EP_LINK_CAPACITIES[benchmark],\n",
    "                                   'target_load_fraction': load,\n",
    "                                   'disable_timeouts': True}\n",
    "            print('Generating demand data for benchmark {} load {}...'.format(benchmark, load))\n",
    "            if benchmark_dists[benchmark]['num_ops_dist'] is not None:\n",
    "                # job-centric\n",
    "                use_multiprocessing = True\n",
    "            else:\n",
    "                # flow-centric\n",
    "                use_multiprocessing = False\n",
    "            demand_data = tpg.create_demand_data(min_num_demands=MIN_NUM_DEMANDS,\n",
    "                                             max_num_demands=MAX_NUM_DEMANDS, \n",
    "                                             eps=eps,\n",
    "                                             node_dist=benchmark_dists[benchmark]['node_dist'],\n",
    "                                             flow_size_dist=benchmark_dists[benchmark]['flow_size_dist'],\n",
    "                                             interarrival_time_dist=benchmark_dists[benchmark]['interarrival_time_dist'],\n",
    "                                             num_ops_dist=benchmark_dists[benchmark]['num_ops_dist'],\n",
    "                                             c=3, # 1.5\n",
    "                                             jensen_shannon_distance_threshold=JENSEN_SHANNON_DISTANCE_THRESHOLD,\n",
    "                                             network_load_config=network_load_config,\n",
    "                                             min_last_demand_arrival_time=MIN_LAST_DEMAND_ARRIVAL_TIME,\n",
    "                                             auto_node_dist_correction=AUTO_NODE_DIST_CORRECTION,\n",
    "                                             use_multiprocessing=use_multiprocessing,\n",
    "                                             print_data=False)\n",
    "\n",
    "            file_path = path_to_save + '/benchmark_{}_load_{}'.format(benchmark, load)\n",
    "            tpg.pickle_data(path_to_save=file_path, data=demand_data, overwrite=overwrite)\n",
    "\n",
    "            # reset benchmark demands dict to save memory\n",
    "            benchmark_demands = nested_dict()\n",
    "\n",
    "            if SLOT_SIZE is not None:\n",
    "                # generate slots dict and save as database\n",
    "                print('Creating slots_dict database with slot_size {}...'.format(SLOT_SIZE))\n",
    "                s = time.time()\n",
    "                demand = tpg.Demand(demand_data, eps=eps)\n",
    "                with SqliteDict(file_path+'_slotsize_{}_slots_dict.sqlite'.format(SLOT_SIZE)) as slots_dict:\n",
    "                    for key, val in demand.get_slots_dict(slot_size=SLOT_SIZE, include_empty_slots=True, print_info=True).items():\n",
    "                        if type(key) is not str:\n",
    "                            slots_dict[json.dumps(key)] = val\n",
    "                        else:\n",
    "                            slots_dict[key] = val\n",
    "                    slots_dict.commit()\n",
    "                    slots_dict.close()\n",
    "                e = time.time()\n",
    "                print('Created slots_dict database in {} s'.format(e-s))\n",
    "            else:\n",
    "                pass\n",
    "\n",
    "            end_load = time.time()\n",
    "            print('Generated \\'{}\\' demands for load {} of {} in {} seconds.'.format(benchmark, load_counter, num_loads, end_load-start_load))\n",
    "            load_counter += 1\n",
    "\n",
    "        end_benchmark = time.time()\n",
    "        print('Generated demands for benchmark \\'{}\\' in {} seconds.'.format(benchmark, end_benchmark-start_benchmark))\n",
    "\n",
    "    end_loops = time.time()\n",
    "    print('Generated all benchmarks in {} seconds.'.format(end_loops-start_loops))\n",
    "\n",
    "    return benchmark_demands\n"
   ]
  },
  {
   "cell_type": "markdown",
   "metadata": {},
   "source": [
    "## 3. Generate the Benchmark Traffic\n",
    "\n",
    "We will generate each of our traffic sets 2x to enable us to run 2 repeat experiments for each set"
   ]
  },
  {
   "cell_type": "code",
   "execution_count": 4,
   "metadata": {
    "scrolled": false
   },
   "outputs": [
    {
     "name": "stdout",
     "output_type": "stream",
     "text": [
      "load_prev_dist=False. Will re-generate dists with given network params and override any previously saved distributions.\n",
      "\n",
      "~*~*~*~*~*~*~*~*~*~*~*~*~*~*~*~*~*~*~*~*~*~*~*~*~*~*\n",
      "Benchmarks to Generate: ['rack_dist_sensitivity_0', 'rack_dist_sensitivity_0.2', 'rack_dist_sensitivity_0.4', 'rack_dist_sensitivity_0.6', 'rack_dist_sensitivity_0.8']\n",
      "Loads to generate: [0.1, 0.2, 0.3, 0.4]\n",
      "~*~*~*~*~*~*~*~*~*~*~*~*~*~*~*~*~*~*~*~*~*~*~*~*~*~*\n",
      "Generating demands for benchmark 'rack_dist_sensitivity_0'...\n",
      "Generating node_dist distribution for rack_dist_sensitivity_0 benchmark...\n",
      "Generating flow_size_dist distribution for rack_dist_sensitivity_0 benchmark...\n",
      "Generating interarrival_time_dist distribution for rack_dist_sensitivity_0 benchmark...\n",
      "Generating demand data for benchmark rack_dist_sensitivity_0 load 0.1...\n"
     ]
    },
    {
     "name": "stderr",
     "output_type": "stream",
     "text": [
      "                                                                    \r"
     ]
    },
    {
     "name": "stdout",
     "output_type": "stream",
     "text": [
      "Packed 4450 flows in 2.3862810134887695 s.\n",
      "Time to save data to ../data/generate_multiple_benchmark_traffic_sets/set_0_benchmark_data/benchmark_rack_dist_sensitivity_0_load_0.1_v4.pickle: 0.10040140151977539 s\n",
      "Creating slots_dict database with slot_size 1000.0...\n",
      "Generated slot dict in 0.0084 s with slot size 1000.0 and total session time 50951.832999997416 for 4450 demands.\n",
      "Number of slots making up total session time: 52\n",
      "Number of these slots in which no new demands arrived: 3\n",
      "Fraction of the 52 total time slots from simulation start to finish in which no new demands arrive: 0.058\n",
      "Average number of demands arriving per time slot: 85.577\n",
      "Created slots_dict database in 0.04700136184692383 s\n",
      "Generated 'rack_dist_sensitivity_0' demands for load 1 of 4 in 3.02388334274292 seconds.\n",
      "Generating demand data for benchmark rack_dist_sensitivity_0 load 0.2...\n"
     ]
    },
    {
     "name": "stderr",
     "output_type": "stream",
     "text": [
      "                                                                    \r"
     ]
    },
    {
     "name": "stdout",
     "output_type": "stream",
     "text": [
      "Packed 4450 flows in 2.3898518085479736 s.\n",
      "Time to save data to ../data/generate_multiple_benchmark_traffic_sets/set_0_benchmark_data/benchmark_rack_dist_sensitivity_0_load_0.2_v2.pickle: 0.10118746757507324 s\n",
      "Creating slots_dict database with slot_size 1000.0...\n",
      "Generated slot dict in 0.0077 s with slot size 1000.0 and total session time 25517.034499999885 for 4450 demands.\n",
      "Number of slots making up total session time: 27\n",
      "Number of these slots in which no new demands arrived: 1\n",
      "Fraction of the 27 total time slots from simulation start to finish in which no new demands arrive: 0.037\n",
      "Average number of demands arriving per time slot: 164.815\n",
      "Created slots_dict database in 0.03922557830810547 s\n",
      "Generated 'rack_dist_sensitivity_0' demands for load 2 of 4 in 3.0207440853118896 seconds.\n",
      "Generating demand data for benchmark rack_dist_sensitivity_0 load 0.3...\n"
     ]
    },
    {
     "name": "stderr",
     "output_type": "stream",
     "text": [
      "                                                                    \r"
     ]
    },
    {
     "name": "stdout",
     "output_type": "stream",
     "text": [
      "Packed 4450 flows in 2.355203151702881 s.\n",
      "Time to save data to ../data/generate_multiple_benchmark_traffic_sets/set_0_benchmark_data/benchmark_rack_dist_sensitivity_0_load_0.3_v2.pickle: 0.10248756408691406 s\n",
      "Creating slots_dict database with slot_size 1000.0...\n",
      "Generated slot dict in 0.008 s with slot size 1000.0 and total session time 16766.819499999732 for 4450 demands.\n",
      "Number of slots making up total session time: 18\n",
      "Number of these slots in which no new demands arrived: 1\n",
      "Fraction of the 18 total time slots from simulation start to finish in which no new demands arrive: 0.056\n",
      "Average number of demands arriving per time slot: 247.222\n",
      "Created slots_dict database in 0.03735828399658203 s\n",
      "Generated 'rack_dist_sensitivity_0' demands for load 3 of 4 in 2.9864323139190674 seconds.\n",
      "Generating demand data for benchmark rack_dist_sensitivity_0 load 0.4...\n"
     ]
    },
    {
     "name": "stderr",
     "output_type": "stream",
     "text": [
      "                                                                    \r"
     ]
    },
    {
     "name": "stdout",
     "output_type": "stream",
     "text": [
      "Packed 4450 flows in 2.407093048095703 s.\n",
      "Time to save data to ../data/generate_multiple_benchmark_traffic_sets/set_0_benchmark_data/benchmark_rack_dist_sensitivity_0_load_0.4_v2.pickle: 0.10211944580078125 s\n",
      "Creating slots_dict database with slot_size 1000.0...\n",
      "Generated slot dict in 0.0075 s with slot size 1000.0 and total session time 14411.337124999833 for 4450 demands.\n",
      "Number of slots making up total session time: 16\n",
      "Number of these slots in which no new demands arrived: 1\n",
      "Fraction of the 16 total time slots from simulation start to finish in which no new demands arrive: 0.062\n",
      "Average number of demands arriving per time slot: 278.125\n",
      "Created slots_dict database in 0.03711962699890137 s\n",
      "Generated 'rack_dist_sensitivity_0' demands for load 4 of 4 in 3.037917137145996 seconds.\n",
      "Generated demands for benchmark 'rack_dist_sensitivity_0' in 25.825049877166748 seconds.\n",
      "~*~*~*~*~*~*~*~*~*~*~*~*~*~*~*~*~*~*~*~*~*~*~*~*~*~*\n",
      "Generating demands for benchmark 'rack_dist_sensitivity_0.2'...\n",
      "Generating node_dist distribution for rack_dist_sensitivity_0.2 benchmark...\n",
      "Generating flow_size_dist distribution for rack_dist_sensitivity_0.2 benchmark...\n",
      "Generating interarrival_time_dist distribution for rack_dist_sensitivity_0.2 benchmark...\n",
      "Generating demand data for benchmark rack_dist_sensitivity_0.2 load 0.1...\n"
     ]
    },
    {
     "name": "stderr",
     "output_type": "stream",
     "text": [
      "                                                                    \r"
     ]
    },
    {
     "name": "stdout",
     "output_type": "stream",
     "text": [
      "Packed 4450 flows in 2.0527279376983643 s.\n",
      "Time to save data to ../data/generate_multiple_benchmark_traffic_sets/set_0_benchmark_data/benchmark_rack_dist_sensitivity_0.2_load_0.1_v2.pickle: 0.10372090339660645 s\n",
      "Creating slots_dict database with slot_size 1000.0...\n",
      "Generated slot dict in 0.0076 s with slot size 1000.0 and total session time 47699.15099999954 for 4450 demands.\n",
      "Number of slots making up total session time: 49\n",
      "Number of these slots in which no new demands arrived: 4\n",
      "Fraction of the 49 total time slots from simulation start to finish in which no new demands arrive: 0.082\n",
      "Average number of demands arriving per time slot: 90.816\n",
      "Created slots_dict database in 0.044792890548706055 s\n",
      "Generated 'rack_dist_sensitivity_0.2' demands for load 1 of 4 in 2.7204606533050537 seconds.\n",
      "Generating demand data for benchmark rack_dist_sensitivity_0.2 load 0.2...\n"
     ]
    },
    {
     "name": "stderr",
     "output_type": "stream",
     "text": [
      "                                                                    \r"
     ]
    },
    {
     "name": "stdout",
     "output_type": "stream",
     "text": [
      "Packed 4450 flows in 2.075774669647217 s.\n",
      "Time to save data to ../data/generate_multiple_benchmark_traffic_sets/set_0_benchmark_data/benchmark_rack_dist_sensitivity_0.2_load_0.2_v2.pickle: 0.09990668296813965 s\n",
      "Creating slots_dict database with slot_size 1000.0...\n",
      "Generated slot dict in 0.0078 s with slot size 1000.0 and total session time 20753.778750000412 for 4450 demands.\n",
      "Number of slots making up total session time: 22\n",
      "Number of these slots in which no new demands arrived: 1\n",
      "Fraction of the 22 total time slots from simulation start to finish in which no new demands arrive: 0.045\n",
      "Average number of demands arriving per time slot: 202.273\n",
      "Created slots_dict database in 0.03763556480407715 s\n",
      "Generated 'rack_dist_sensitivity_0.2' demands for load 2 of 4 in 2.7171642780303955 seconds.\n",
      "Generating demand data for benchmark rack_dist_sensitivity_0.2 load 0.3...\n"
     ]
    },
    {
     "name": "stderr",
     "output_type": "stream",
     "text": [
      "                                                                    \r"
     ]
    },
    {
     "name": "stdout",
     "output_type": "stream",
     "text": [
      "Packed 4450 flows in 2.0608365535736084 s.\n",
      "Time to save data to ../data/generate_multiple_benchmark_traffic_sets/set_0_benchmark_data/benchmark_rack_dist_sensitivity_0.2_load_0.3_v2.pickle: 0.10088634490966797 s\n",
      "Creating slots_dict database with slot_size 1000.0...\n",
      "Generated slot dict in 0.0079 s with slot size 1000.0 and total session time 16790.547666666484 for 4450 demands.\n",
      "Number of slots making up total session time: 18\n",
      "Number of these slots in which no new demands arrived: 1\n",
      "Fraction of the 18 total time slots from simulation start to finish in which no new demands arrive: 0.056\n",
      "Average number of demands arriving per time slot: 247.222\n",
      "Created slots_dict database in 0.03770089149475098 s\n",
      "Generated 'rack_dist_sensitivity_0.2' demands for load 3 of 4 in 2.691602945327759 seconds.\n",
      "Generating demand data for benchmark rack_dist_sensitivity_0.2 load 0.4...\n"
     ]
    },
    {
     "name": "stderr",
     "output_type": "stream",
     "text": [
      "                                                                    \r"
     ]
    },
    {
     "name": "stdout",
     "output_type": "stream",
     "text": [
      "Packed 4450 flows in 2.022071599960327 s.\n",
      "Time to save data to ../data/generate_multiple_benchmark_traffic_sets/set_0_benchmark_data/benchmark_rack_dist_sensitivity_0.2_load_0.4_v2.pickle: 0.10618305206298828 s\n",
      "Creating slots_dict database with slot_size 1000.0...\n",
      "Generated slot dict in 0.0079 s with slot size 1000.0 and total session time 10055.444375000381 for 4450 demands.\n",
      "Number of slots making up total session time: 12\n",
      "Number of these slots in which no new demands arrived: 1\n",
      "Fraction of the 12 total time slots from simulation start to finish in which no new demands arrive: 0.083\n",
      "Average number of demands arriving per time slot: 370.833\n",
      "Created slots_dict database in 0.036614418029785156 s\n",
      "Generated 'rack_dist_sensitivity_0.2' demands for load 4 of 4 in 2.6590068340301514 seconds.\n",
      "Generated demands for benchmark 'rack_dist_sensitivity_0.2' in 25.797924518585205 seconds.\n",
      "~*~*~*~*~*~*~*~*~*~*~*~*~*~*~*~*~*~*~*~*~*~*~*~*~*~*\n",
      "Generating demands for benchmark 'rack_dist_sensitivity_0.4'...\n",
      "Generating node_dist distribution for rack_dist_sensitivity_0.4 benchmark...\n",
      "Generating flow_size_dist distribution for rack_dist_sensitivity_0.4 benchmark...\n",
      "Generating interarrival_time_dist distribution for rack_dist_sensitivity_0.4 benchmark...\n",
      "Generating demand data for benchmark rack_dist_sensitivity_0.4 load 0.1...\n"
     ]
    },
    {
     "name": "stderr",
     "output_type": "stream",
     "text": [
      "                                                                    \r"
     ]
    },
    {
     "name": "stdout",
     "output_type": "stream",
     "text": [
      "Packed 4450 flows in 2.094735622406006 s.\n",
      "Time to save data to ../data/generate_multiple_benchmark_traffic_sets/set_0_benchmark_data/benchmark_rack_dist_sensitivity_0.4_load_0.1_v2.pickle: 0.10391044616699219 s\n",
      "Creating slots_dict database with slot_size 1000.0...\n",
      "Generated slot dict in 0.0085 s with slot size 1000.0 and total session time 54079.71900000169 for 4450 demands.\n",
      "Number of slots making up total session time: 56\n",
      "Number of these slots in which no new demands arrived: 4\n",
      "Fraction of the 56 total time slots from simulation start to finish in which no new demands arrive: 0.071\n",
      "Average number of demands arriving per time slot: 79.464\n",
      "Created slots_dict database in 0.04836678504943848 s\n",
      "Generated 'rack_dist_sensitivity_0.4' demands for load 1 of 4 in 2.745126962661743 seconds.\n",
      "Generating demand data for benchmark rack_dist_sensitivity_0.4 load 0.2...\n"
     ]
    },
    {
     "name": "stderr",
     "output_type": "stream",
     "text": [
      "                                                                    \r"
     ]
    },
    {
     "name": "stdout",
     "output_type": "stream",
     "text": [
      "Packed 4450 flows in 2.0765669345855713 s.\n",
      "Time to save data to ../data/generate_multiple_benchmark_traffic_sets/set_0_benchmark_data/benchmark_rack_dist_sensitivity_0.4_load_0.2_v2.pickle: 0.10425448417663574 s\n",
      "Creating slots_dict database with slot_size 1000.0...\n",
      "Generated slot dict in 0.0071 s with slot size 1000.0 and total session time 24920.621499998833 for 4450 demands.\n",
      "Number of slots making up total session time: 26\n",
      "Number of these slots in which no new demands arrived: 1\n",
      "Fraction of the 26 total time slots from simulation start to finish in which no new demands arrive: 0.038\n",
      "Average number of demands arriving per time slot: 171.154\n",
      "Created slots_dict database in 0.04036974906921387 s\n",
      "Generated 'rack_dist_sensitivity_0.4' demands for load 2 of 4 in 2.729980230331421 seconds.\n",
      "Generating demand data for benchmark rack_dist_sensitivity_0.4 load 0.3...\n"
     ]
    },
    {
     "name": "stderr",
     "output_type": "stream",
     "text": [
      "                                                                    \r"
     ]
    },
    {
     "name": "stdout",
     "output_type": "stream",
     "text": [
      "Packed 4450 flows in 2.1562094688415527 s.\n",
      "Time to save data to ../data/generate_multiple_benchmark_traffic_sets/set_0_benchmark_data/benchmark_rack_dist_sensitivity_0.4_load_0.3_v2.pickle: 0.10976552963256836 s\n",
      "Creating slots_dict database with slot_size 1000.0...\n",
      "Generated slot dict in 0.0074 s with slot size 1000.0 and total session time 15854.776500000118 for 4450 demands.\n",
      "Number of slots making up total session time: 17\n",
      "Number of these slots in which no new demands arrived: 1\n",
      "Fraction of the 17 total time slots from simulation start to finish in which no new demands arrive: 0.059\n",
      "Average number of demands arriving per time slot: 261.765\n",
      "Created slots_dict database in 0.03713512420654297 s\n",
      "Generated 'rack_dist_sensitivity_0.4' demands for load 3 of 4 in 2.8295865058898926 seconds.\n",
      "Generating demand data for benchmark rack_dist_sensitivity_0.4 load 0.4...\n"
     ]
    },
    {
     "name": "stderr",
     "output_type": "stream",
     "text": [
      "                                                                    \r"
     ]
    },
    {
     "name": "stdout",
     "output_type": "stream",
     "text": [
      "Packed 4450 flows in 2.3535478115081787 s.\n",
      "Time to save data to ../data/generate_multiple_benchmark_traffic_sets/set_0_benchmark_data/benchmark_rack_dist_sensitivity_0.4_load_0.4_v2.pickle: 0.10495114326477051 s\n",
      "Creating slots_dict database with slot_size 1000.0...\n",
      "Generated slot dict in 0.0074 s with slot size 1000.0 and total session time 16373.313749999199 for 4450 demands.\n",
      "Number of slots making up total session time: 18\n",
      "Number of these slots in which no new demands arrived: 1\n",
      "Fraction of the 18 total time slots from simulation start to finish in which no new demands arrive: 0.056\n",
      "Average number of demands arriving per time slot: 247.222\n",
      "Created slots_dict database in 0.0372464656829834 s\n",
      "Generated 'rack_dist_sensitivity_0.4' demands for load 4 of 4 in 3.0241665840148926 seconds.\n",
      "Generated demands for benchmark 'rack_dist_sensitivity_0.4' in 25.197051763534546 seconds.\n",
      "~*~*~*~*~*~*~*~*~*~*~*~*~*~*~*~*~*~*~*~*~*~*~*~*~*~*\n",
      "Generating demands for benchmark 'rack_dist_sensitivity_0.6'...\n",
      "Generating node_dist distribution for rack_dist_sensitivity_0.6 benchmark...\n",
      "Generating flow_size_dist distribution for rack_dist_sensitivity_0.6 benchmark...\n",
      "Generating interarrival_time_dist distribution for rack_dist_sensitivity_0.6 benchmark...\n",
      "Generating demand data for benchmark rack_dist_sensitivity_0.6 load 0.1...\n"
     ]
    },
    {
     "name": "stderr",
     "output_type": "stream",
     "text": [
      "                                                                    \r"
     ]
    },
    {
     "name": "stdout",
     "output_type": "stream",
     "text": [
      "Packed 4046 flows in 2.0343475341796875 s.\n",
      "Time to save data to ../data/generate_multiple_benchmark_traffic_sets/set_0_benchmark_data/benchmark_rack_dist_sensitivity_0.6_load_0.1_v2.pickle: 0.10718083381652832 s\n",
      "Creating slots_dict database with slot_size 1000.0...\n",
      "Generated slot dict in 0.0564 s with slot size 1000.0 and total session time 43326.73700000011 for 4046 demands.\n",
      "Number of slots making up total session time: 45\n",
      "Number of these slots in which no new demands arrived: 1\n",
      "Fraction of the 45 total time slots from simulation start to finish in which no new demands arrive: 0.022\n",
      "Average number of demands arriving per time slot: 89.911\n",
      "Created slots_dict database in 0.09739971160888672 s\n",
      "Generated 'rack_dist_sensitivity_0.6' demands for load 1 of 4 in 2.7620701789855957 seconds.\n",
      "Generating demand data for benchmark rack_dist_sensitivity_0.6 load 0.2...\n"
     ]
    },
    {
     "name": "stderr",
     "output_type": "stream",
     "text": [
      "                                                                    \r"
     ]
    },
    {
     "name": "stdout",
     "output_type": "stream",
     "text": [
      "Packed 4450 flows in 2.3622891902923584 s.\n",
      "Time to save data to ../data/generate_multiple_benchmark_traffic_sets/set_0_benchmark_data/benchmark_rack_dist_sensitivity_0.6_load_0.2_v2.pickle: 0.11224150657653809 s\n",
      "Creating slots_dict database with slot_size 1000.0...\n",
      "Generated slot dict in 0.009 s with slot size 1000.0 and total session time 34729.21950000066 for 4450 demands.\n",
      "Number of slots making up total session time: 36\n",
      "Number of these slots in which no new demands arrived: 1\n",
      "Fraction of the 36 total time slots from simulation start to finish in which no new demands arrive: 0.028\n",
      "Average number of demands arriving per time slot: 123.611\n",
      "Created slots_dict database in 0.046578168869018555 s\n",
      "Generated 'rack_dist_sensitivity_0.6' demands for load 2 of 4 in 3.1487350463867188 seconds.\n",
      "Generating demand data for benchmark rack_dist_sensitivity_0.6 load 0.3...\n"
     ]
    },
    {
     "name": "stderr",
     "output_type": "stream",
     "text": [
      "                                                                    \r"
     ]
    },
    {
     "name": "stdout",
     "output_type": "stream",
     "text": [
      "Packed 4450 flows in 2.174898386001587 s.\n",
      "Time to save data to ../data/generate_multiple_benchmark_traffic_sets/set_0_benchmark_data/benchmark_rack_dist_sensitivity_0.6_load_0.3_v2.pickle: 0.1112051010131836 s\n",
      "Creating slots_dict database with slot_size 1000.0...\n",
      "Generated slot dict in 0.0086 s with slot size 1000.0 and total session time 16901.167666667097 for 4450 demands.\n",
      "Number of slots making up total session time: 18\n",
      "Number of these slots in which no new demands arrived: 1\n",
      "Fraction of the 18 total time slots from simulation start to finish in which no new demands arrive: 0.056\n",
      "Average number of demands arriving per time slot: 247.222\n",
      "Created slots_dict database in 0.0385897159576416 s\n",
      "Generated 'rack_dist_sensitivity_0.6' demands for load 3 of 4 in 2.830998659133911 seconds.\n",
      "Generating demand data for benchmark rack_dist_sensitivity_0.6 load 0.4...\n"
     ]
    },
    {
     "name": "stderr",
     "output_type": "stream",
     "text": [
      "                                                                    \r"
     ]
    },
    {
     "name": "stdout",
     "output_type": "stream",
     "text": [
      "Packed 4046 flows in 1.875715970993042 s.\n",
      "Time to save data to ../data/generate_multiple_benchmark_traffic_sets/set_0_benchmark_data/benchmark_rack_dist_sensitivity_0.6_load_0.4.pickle: 0.09144091606140137 s\n",
      "Creating slots_dict database with slot_size 1000.0...\n",
      "Generated slot dict in 0.0072 s with slot size 1000.0 and total session time 11464.01199999967 for 4046 demands.\n",
      "Number of slots making up total session time: 13\n",
      "Number of these slots in which no new demands arrived: 1\n",
      "Fraction of the 13 total time slots from simulation start to finish in which no new demands arrive: 0.077\n",
      "Average number of demands arriving per time slot: 311.231\n",
      "Created slots_dict database in 0.03720998764038086 s\n",
      "Generated 'rack_dist_sensitivity_0.6' demands for load 4 of 4 in 2.4991464614868164 seconds.\n",
      "Generated demands for benchmark 'rack_dist_sensitivity_0.6' in 24.911966800689697 seconds.\n",
      "~*~*~*~*~*~*~*~*~*~*~*~*~*~*~*~*~*~*~*~*~*~*~*~*~*~*\n",
      "Generating demands for benchmark 'rack_dist_sensitivity_0.8'...\n",
      "Creating rack_dist_sensitivity_0.8 benchmark folder in /home/cwfparsonson/Insync/zciccwf@ucl.ac.uk/OneDriveBiz/ipes_cdt/phd_project/projects/trafpy/trafpy/benchmarker/versions/benchmark_v001/data/\n",
      "Generating node_dist distribution for rack_dist_sensitivity_0.8 benchmark...\n",
      "Generating flow_size_dist distribution for rack_dist_sensitivity_0.8 benchmark...\n",
      "Generating interarrival_time_dist distribution for rack_dist_sensitivity_0.8 benchmark...\n",
      "Generating demand data for benchmark rack_dist_sensitivity_0.8 load 0.1...\n"
     ]
    },
    {
     "name": "stderr",
     "output_type": "stream",
     "text": [
      "                                                                    \r"
     ]
    },
    {
     "name": "stdout",
     "output_type": "stream",
     "text": [
      "Packed 4450 flows in 2.0620734691619873 s.\n",
      "Time to save data to ../data/generate_multiple_benchmark_traffic_sets/set_0_benchmark_data/benchmark_rack_dist_sensitivity_0.8_load_0.1.pickle: 0.10379242897033691 s\n",
      "Creating slots_dict database with slot_size 1000.0...\n",
      "Generated slot dict in 0.008 s with slot size 1000.0 and total session time 53076.4054999991 for 4450 demands.\n",
      "Number of slots making up total session time: 55\n",
      "Number of these slots in which no new demands arrived: 3\n",
      "Fraction of the 55 total time slots from simulation start to finish in which no new demands arrive: 0.055\n",
      "Average number of demands arriving per time slot: 80.909\n",
      "Created slots_dict database in 0.047020912170410156 s\n",
      "Generated 'rack_dist_sensitivity_0.8' demands for load 1 of 4 in 2.70566987991333 seconds.\n",
      "Generating demand data for benchmark rack_dist_sensitivity_0.8 load 0.2...\n"
     ]
    },
    {
     "name": "stderr",
     "output_type": "stream",
     "text": [
      "                                                                    \r"
     ]
    },
    {
     "name": "stdout",
     "output_type": "stream",
     "text": [
      "Packed 4046 flows in 1.926529884338379 s.\n",
      "Time to save data to ../data/generate_multiple_benchmark_traffic_sets/set_0_benchmark_data/benchmark_rack_dist_sensitivity_0.8_load_0.2.pickle: 0.09235763549804688 s\n",
      "Creating slots_dict database with slot_size 1000.0...\n",
      "Generated slot dict in 0.008 s with slot size 1000.0 and total session time 24724.839499999744 for 4046 demands.\n",
      "Number of slots making up total session time: 26\n",
      "Number of these slots in which no new demands arrived: 1\n",
      "Fraction of the 26 total time slots from simulation start to finish in which no new demands arrive: 0.038\n",
      "Average number of demands arriving per time slot: 155.615\n",
      "Created slots_dict database in 0.03930258750915527 s\n",
      "Generated 'rack_dist_sensitivity_0.8' demands for load 2 of 4 in 2.5530247688293457 seconds.\n",
      "Generating demand data for benchmark rack_dist_sensitivity_0.8 load 0.3...\n"
     ]
    },
    {
     "name": "stderr",
     "output_type": "stream",
     "text": [
      "                                                                    \r"
     ]
    },
    {
     "name": "stdout",
     "output_type": "stream",
     "text": [
      "Packed 4450 flows in 2.087190628051758 s.\n",
      "Time to save data to ../data/generate_multiple_benchmark_traffic_sets/set_0_benchmark_data/benchmark_rack_dist_sensitivity_0.8_load_0.3.pickle: 0.10380768775939941 s\n",
      "Creating slots_dict database with slot_size 1000.0...\n",
      "Generated slot dict in 0.0084 s with slot size 1000.0 and total session time 16253.792499999248 for 4450 demands.\n",
      "Number of slots making up total session time: 18\n",
      "Number of these slots in which no new demands arrived: 1\n",
      "Fraction of the 18 total time slots from simulation start to finish in which no new demands arrive: 0.056\n",
      "Average number of demands arriving per time slot: 247.222\n",
      "Created slots_dict database in 0.03803563117980957 s\n",
      "Generated 'rack_dist_sensitivity_0.8' demands for load 3 of 4 in 2.725069046020508 seconds.\n",
      "Generating demand data for benchmark rack_dist_sensitivity_0.8 load 0.4...\n"
     ]
    },
    {
     "name": "stderr",
     "output_type": "stream",
     "text": [
      "                                                                    \r"
     ]
    },
    {
     "name": "stdout",
     "output_type": "stream",
     "text": [
      "Packed 4450 flows in 2.052018642425537 s.\n",
      "Time to save data to ../data/generate_multiple_benchmark_traffic_sets/set_0_benchmark_data/benchmark_rack_dist_sensitivity_0.8_load_0.4.pickle: 0.10157036781311035 s\n",
      "Creating slots_dict database with slot_size 1000.0...\n",
      "Generated slot dict in 0.0072 s with slot size 1000.0 and total session time 10262.4719999998 for 4450 demands.\n",
      "Number of slots making up total session time: 12\n",
      "Number of these slots in which no new demands arrived: 1\n",
      "Fraction of the 12 total time slots from simulation start to finish in which no new demands arrive: 0.083\n",
      "Average number of demands arriving per time slot: 370.833\n",
      "Created slots_dict database in 0.03686237335205078 s\n",
      "Generated 'rack_dist_sensitivity_0.8' demands for load 4 of 4 in 2.694303035736084 seconds.\n",
      "Generated demands for benchmark 'rack_dist_sensitivity_0.8' in 25.708252668380737 seconds.\n",
      "Generated all benchmarks in 127.44052982330322 seconds.\n",
      "load_prev_dist=False. Will re-generate dists with given network params and override any previously saved distributions.\n",
      "\n",
      "~*~*~*~*~*~*~*~*~*~*~*~*~*~*~*~*~*~*~*~*~*~*~*~*~*~*\n",
      "Benchmarks to Generate: ['rack_dist_sensitivity_0', 'rack_dist_sensitivity_0.2', 'rack_dist_sensitivity_0.4', 'rack_dist_sensitivity_0.6', 'rack_dist_sensitivity_0.8']\n",
      "Loads to generate: [0.1, 0.2, 0.3, 0.4]\n",
      "~*~*~*~*~*~*~*~*~*~*~*~*~*~*~*~*~*~*~*~*~*~*~*~*~*~*\n",
      "Generating demands for benchmark 'rack_dist_sensitivity_0'...\n",
      "Generating node_dist distribution for rack_dist_sensitivity_0 benchmark...\n",
      "Generating flow_size_dist distribution for rack_dist_sensitivity_0 benchmark...\n",
      "Generating interarrival_time_dist distribution for rack_dist_sensitivity_0 benchmark...\n",
      "Generating demand data for benchmark rack_dist_sensitivity_0 load 0.1...\n"
     ]
    },
    {
     "name": "stderr",
     "output_type": "stream",
     "text": [
      "                                                                    \r"
     ]
    },
    {
     "name": "stdout",
     "output_type": "stream",
     "text": [
      "Packed 4046 flows in 2.269016981124878 s.\n",
      "Time to save data to ../data/generate_multiple_benchmark_traffic_sets/set_1_benchmark_data/benchmark_rack_dist_sensitivity_0_load_0.1.pickle: 0.09185624122619629 s\n",
      "Creating slots_dict database with slot_size 1000.0...\n",
      "Generated slot dict in 0.0459 s with slot size 1000.0 and total session time 46643.799499999266 for 4046 demands.\n",
      "Number of slots making up total session time: 48\n",
      "Number of these slots in which no new demands arrived: 2\n",
      "Fraction of the 48 total time slots from simulation start to finish in which no new demands arrive: 0.042\n",
      "Average number of demands arriving per time slot: 84.292\n",
      "Created slots_dict database in 0.07976794242858887 s\n",
      "Generated 'rack_dist_sensitivity_0' demands for load 1 of 4 in 2.9482975006103516 seconds.\n",
      "Generating demand data for benchmark rack_dist_sensitivity_0 load 0.2...\n"
     ]
    },
    {
     "name": "stderr",
     "output_type": "stream",
     "text": [
      "                                                                    \r"
     ]
    },
    {
     "name": "stdout",
     "output_type": "stream",
     "text": [
      "Packed 4450 flows in 2.4221670627593994 s.\n",
      "Time to save data to ../data/generate_multiple_benchmark_traffic_sets/set_1_benchmark_data/benchmark_rack_dist_sensitivity_0_load_0.2.pickle: 0.10417366027832031 s\n",
      "Creating slots_dict database with slot_size 1000.0...\n",
      "Generated slot dict in 0.0079 s with slot size 1000.0 and total session time 22544.323500000937 for 4450 demands.\n",
      "Number of slots making up total session time: 24\n",
      "Number of these slots in which no new demands arrived: 1\n",
      "Fraction of the 24 total time slots from simulation start to finish in which no new demands arrive: 0.042\n",
      "Average number of demands arriving per time slot: 185.417\n",
      "Created slots_dict database in 0.039746761322021484 s\n",
      "Generated 'rack_dist_sensitivity_0' demands for load 2 of 4 in 3.0740721225738525 seconds.\n",
      "Generating demand data for benchmark rack_dist_sensitivity_0 load 0.3...\n"
     ]
    },
    {
     "name": "stderr",
     "output_type": "stream",
     "text": [
      "                                                                    \r"
     ]
    },
    {
     "name": "stdout",
     "output_type": "stream",
     "text": [
      "Packed 4450 flows in 2.5835225582122803 s.\n",
      "Time to save data to ../data/generate_multiple_benchmark_traffic_sets/set_1_benchmark_data/benchmark_rack_dist_sensitivity_0_load_0.3.pickle: 0.10783743858337402 s\n",
      "Creating slots_dict database with slot_size 1000.0...\n",
      "Generated slot dict in 0.0085 s with slot size 1000.0 and total session time 16792.166166667146 for 4450 demands.\n",
      "Number of slots making up total session time: 18\n",
      "Number of these slots in which no new demands arrived: 1\n",
      "Fraction of the 18 total time slots from simulation start to finish in which no new demands arrive: 0.056\n",
      "Average number of demands arriving per time slot: 247.222\n",
      "Created slots_dict database in 0.03928351402282715 s\n",
      "Generated 'rack_dist_sensitivity_0' demands for load 3 of 4 in 3.267265558242798 seconds.\n",
      "Generating demand data for benchmark rack_dist_sensitivity_0 load 0.4...\n"
     ]
    },
    {
     "name": "stderr",
     "output_type": "stream",
     "text": [
      "                                                                    \r"
     ]
    },
    {
     "name": "stdout",
     "output_type": "stream",
     "text": [
      "Packed 4450 flows in 2.9322500228881836 s.\n",
      "Time to save data to ../data/generate_multiple_benchmark_traffic_sets/set_1_benchmark_data/benchmark_rack_dist_sensitivity_0_load_0.4.pickle: 0.11711311340332031 s\n",
      "Creating slots_dict database with slot_size 1000.0...\n",
      "Generated slot dict in 0.0093 s with slot size 1000.0 and total session time 12550.677749999828 for 4450 demands.\n",
      "Number of slots making up total session time: 14\n",
      "Number of these slots in which no new demands arrived: 1\n",
      "Fraction of the 14 total time slots from simulation start to finish in which no new demands arrive: 0.071\n",
      "Average number of demands arriving per time slot: 317.857\n",
      "Created slots_dict database in 0.04362082481384277 s\n",
      "Generated 'rack_dist_sensitivity_0' demands for load 4 of 4 in 3.6134727001190186 seconds.\n",
      "Generated demands for benchmark 'rack_dist_sensitivity_0' in 28.819636344909668 seconds.\n",
      "~*~*~*~*~*~*~*~*~*~*~*~*~*~*~*~*~*~*~*~*~*~*~*~*~*~*\n",
      "Generating demands for benchmark 'rack_dist_sensitivity_0.2'...\n",
      "Generating node_dist distribution for rack_dist_sensitivity_0.2 benchmark...\n",
      "Generating flow_size_dist distribution for rack_dist_sensitivity_0.2 benchmark...\n",
      "Generating interarrival_time_dist distribution for rack_dist_sensitivity_0.2 benchmark...\n",
      "Generating demand data for benchmark rack_dist_sensitivity_0.2 load 0.1...\n"
     ]
    },
    {
     "name": "stderr",
     "output_type": "stream",
     "text": [
      "                                                                    \r"
     ]
    },
    {
     "name": "stdout",
     "output_type": "stream",
     "text": [
      "Packed 4450 flows in 2.2486467361450195 s.\n",
      "Time to save data to ../data/generate_multiple_benchmark_traffic_sets/set_1_benchmark_data/benchmark_rack_dist_sensitivity_0.2_load_0.1.pickle: 0.11836743354797363 s\n",
      "Creating slots_dict database with slot_size 1000.0...\n",
      "Generated slot dict in 0.0156 s with slot size 1000.0 and total session time 51867.75949999988 for 4450 demands.\n",
      "Number of slots making up total session time: 53\n",
      "Number of these slots in which no new demands arrived: 2\n",
      "Fraction of the 53 total time slots from simulation start to finish in which no new demands arrive: 0.038\n",
      "Average number of demands arriving per time slot: 83.962\n",
      "Created slots_dict database in 0.06207680702209473 s\n",
      "Generated 'rack_dist_sensitivity_0.2' demands for load 1 of 4 in 3.088496446609497 seconds.\n",
      "Generating demand data for benchmark rack_dist_sensitivity_0.2 load 0.2...\n"
     ]
    },
    {
     "name": "stderr",
     "output_type": "stream",
     "text": [
      "                                                                    \r"
     ]
    },
    {
     "name": "stdout",
     "output_type": "stream",
     "text": [
      "Packed 4450 flows in 2.132007122039795 s.\n",
      "Time to save data to ../data/generate_multiple_benchmark_traffic_sets/set_1_benchmark_data/benchmark_rack_dist_sensitivity_0.2_load_0.2.pickle: 0.11225652694702148 s\n",
      "Creating slots_dict database with slot_size 1000.0...\n",
      "Generated slot dict in 0.008 s with slot size 1000.0 and total session time 24278.90850000055 for 4450 demands.\n",
      "Number of slots making up total session time: 26\n",
      "Number of these slots in which no new demands arrived: 1\n",
      "Fraction of the 26 total time slots from simulation start to finish in which no new demands arrive: 0.038\n",
      "Average number of demands arriving per time slot: 171.154\n",
      "Created slots_dict database in 0.04294228553771973 s\n",
      "Generated 'rack_dist_sensitivity_0.2' demands for load 2 of 4 in 2.8817100524902344 seconds.\n",
      "Generating demand data for benchmark rack_dist_sensitivity_0.2 load 0.3...\n"
     ]
    },
    {
     "name": "stderr",
     "output_type": "stream",
     "text": [
      "                                                                    \r"
     ]
    },
    {
     "name": "stdout",
     "output_type": "stream",
     "text": [
      "Packed 4450 flows in 2.170262575149536 s.\n",
      "Time to save data to ../data/generate_multiple_benchmark_traffic_sets/set_1_benchmark_data/benchmark_rack_dist_sensitivity_0.2_load_0.3.pickle: 0.11040520668029785 s\n",
      "Creating slots_dict database with slot_size 1000.0...\n",
      "Generated slot dict in 0.0087 s with slot size 1000.0 and total session time 15852.331499999473 for 4450 demands.\n",
      "Number of slots making up total session time: 17\n",
      "Number of these slots in which no new demands arrived: 1\n",
      "Fraction of the 17 total time slots from simulation start to finish in which no new demands arrive: 0.059\n",
      "Average number of demands arriving per time slot: 261.765\n",
      "Created slots_dict database in 0.050386905670166016 s\n",
      "Generated 'rack_dist_sensitivity_0.2' demands for load 3 of 4 in 2.8751795291900635 seconds.\n",
      "Generating demand data for benchmark rack_dist_sensitivity_0.2 load 0.4...\n"
     ]
    },
    {
     "name": "stderr",
     "output_type": "stream",
     "text": [
      "                                                                    \r"
     ]
    },
    {
     "name": "stdout",
     "output_type": "stream",
     "text": [
      "Packed 4450 flows in 2.2551324367523193 s.\n",
      "Time to save data to ../data/generate_multiple_benchmark_traffic_sets/set_1_benchmark_data/benchmark_rack_dist_sensitivity_0.2_load_0.4.pickle: 0.11542701721191406 s\n",
      "Creating slots_dict database with slot_size 1000.0...\n",
      "Generated slot dict in 0.0128 s with slot size 1000.0 and total session time 13840.852249998885 for 4450 demands.\n",
      "Number of slots making up total session time: 15\n",
      "Number of these slots in which no new demands arrived: 1\n",
      "Fraction of the 15 total time slots from simulation start to finish in which no new demands arrive: 0.067\n",
      "Average number of demands arriving per time slot: 296.667\n",
      "Created slots_dict database in 0.046889543533325195 s\n",
      "Generated 'rack_dist_sensitivity_0.2' demands for load 4 of 4 in 2.9572713375091553 seconds.\n",
      "Generated demands for benchmark 'rack_dist_sensitivity_0.2' in 26.531720399856567 seconds.\n",
      "~*~*~*~*~*~*~*~*~*~*~*~*~*~*~*~*~*~*~*~*~*~*~*~*~*~*\n",
      "Generating demands for benchmark 'rack_dist_sensitivity_0.4'...\n",
      "Generating node_dist distribution for rack_dist_sensitivity_0.4 benchmark...\n",
      "Generating flow_size_dist distribution for rack_dist_sensitivity_0.4 benchmark...\n",
      "Generating interarrival_time_dist distribution for rack_dist_sensitivity_0.4 benchmark...\n",
      "Generating demand data for benchmark rack_dist_sensitivity_0.4 load 0.1...\n"
     ]
    },
    {
     "name": "stderr",
     "output_type": "stream",
     "text": [
      "                                                                    \r"
     ]
    },
    {
     "name": "stdout",
     "output_type": "stream",
     "text": [
      "Packed 4450 flows in 2.1932919025421143 s.\n",
      "Time to save data to ../data/generate_multiple_benchmark_traffic_sets/set_1_benchmark_data/benchmark_rack_dist_sensitivity_0.4_load_0.1.pickle: 0.10147905349731445 s\n",
      "Creating slots_dict database with slot_size 1000.0...\n",
      "Generated slot dict in 0.0468 s with slot size 1000.0 and total session time 59933.35149999509 for 4450 demands.\n",
      "Number of slots making up total session time: 61\n",
      "Number of these slots in which no new demands arrived: 6\n",
      "Fraction of the 61 total time slots from simulation start to finish in which no new demands arrive: 0.098\n",
      "Average number of demands arriving per time slot: 72.951\n",
      "Created slots_dict database in 0.08571028709411621 s\n",
      "Generated 'rack_dist_sensitivity_0.4' demands for load 1 of 4 in 3.0112111568450928 seconds.\n",
      "Generating demand data for benchmark rack_dist_sensitivity_0.4 load 0.2...\n"
     ]
    },
    {
     "name": "stderr",
     "output_type": "stream",
     "text": [
      "                                                                    \r"
     ]
    },
    {
     "name": "stdout",
     "output_type": "stream",
     "text": [
      "Packed 4450 flows in 2.1868793964385986 s.\n",
      "Time to save data to ../data/generate_multiple_benchmark_traffic_sets/set_1_benchmark_data/benchmark_rack_dist_sensitivity_0.4_load_0.2.pickle: 0.10640478134155273 s\n",
      "Creating slots_dict database with slot_size 1000.0...\n",
      "Generated slot dict in 0.0128 s with slot size 1000.0 and total session time 23897.089500000187 for 4450 demands.\n",
      "Number of slots making up total session time: 25\n",
      "Number of these slots in which no new demands arrived: 1\n",
      "Fraction of the 25 total time slots from simulation start to finish in which no new demands arrive: 0.04\n",
      "Average number of demands arriving per time slot: 178.0\n",
      "Created slots_dict database in 0.054068803787231445 s\n",
      "Generated 'rack_dist_sensitivity_0.4' demands for load 2 of 4 in 2.864464282989502 seconds.\n",
      "Generating demand data for benchmark rack_dist_sensitivity_0.4 load 0.3...\n"
     ]
    },
    {
     "name": "stderr",
     "output_type": "stream",
     "text": [
      "                                                                    \r"
     ]
    },
    {
     "name": "stdout",
     "output_type": "stream",
     "text": [
      "Packed 4046 flows in 2.0916552543640137 s.\n",
      "Time to save data to ../data/generate_multiple_benchmark_traffic_sets/set_1_benchmark_data/benchmark_rack_dist_sensitivity_0.4_load_0.3.pickle: 0.09343528747558594 s\n",
      "Creating slots_dict database with slot_size 1000.0...\n",
      "Generated slot dict in 0.0081 s with slot size 1000.0 and total session time 11618.35466666666 for 4046 demands.\n",
      "Number of slots making up total session time: 13\n",
      "Number of these slots in which no new demands arrived: 1\n",
      "Fraction of the 13 total time slots from simulation start to finish in which no new demands arrive: 0.077\n",
      "Average number of demands arriving per time slot: 311.231\n",
      "Created slots_dict database in 0.03577899932861328 s\n",
      "Generated 'rack_dist_sensitivity_0.4' demands for load 3 of 4 in 2.787993907928467 seconds.\n",
      "Generating demand data for benchmark rack_dist_sensitivity_0.4 load 0.4...\n"
     ]
    },
    {
     "name": "stderr",
     "output_type": "stream",
     "text": [
      "                                                                    \r"
     ]
    },
    {
     "name": "stdout",
     "output_type": "stream",
     "text": [
      "Packed 4450 flows in 2.223095178604126 s.\n",
      "Time to save data to ../data/generate_multiple_benchmark_traffic_sets/set_1_benchmark_data/benchmark_rack_dist_sensitivity_0.4_load_0.4.pickle: 0.1032102108001709 s\n",
      "Creating slots_dict database with slot_size 1000.0...\n",
      "Generated slot dict in 0.0078 s with slot size 1000.0 and total session time 13631.67499999901 for 4450 demands.\n",
      "Number of slots making up total session time: 15\n",
      "Number of these slots in which no new demands arrived: 1\n",
      "Fraction of the 15 total time slots from simulation start to finish in which no new demands arrive: 0.067\n",
      "Average number of demands arriving per time slot: 296.667\n",
      "Created slots_dict database in 0.03809022903442383 s\n",
      "Generated 'rack_dist_sensitivity_0.4' demands for load 4 of 4 in 2.8994557857513428 seconds.\n",
      "Generated demands for benchmark 'rack_dist_sensitivity_0.4' in 26.136680841445923 seconds.\n",
      "~*~*~*~*~*~*~*~*~*~*~*~*~*~*~*~*~*~*~*~*~*~*~*~*~*~*\n",
      "Generating demands for benchmark 'rack_dist_sensitivity_0.6'...\n",
      "Generating node_dist distribution for rack_dist_sensitivity_0.6 benchmark...\n",
      "Generating flow_size_dist distribution for rack_dist_sensitivity_0.6 benchmark...\n",
      "Generating interarrival_time_dist distribution for rack_dist_sensitivity_0.6 benchmark...\n",
      "Generating demand data for benchmark rack_dist_sensitivity_0.6 load 0.1...\n"
     ]
    },
    {
     "name": "stderr",
     "output_type": "stream",
     "text": [
      "                                                                    \r"
     ]
    },
    {
     "name": "stdout",
     "output_type": "stream",
     "text": [
      "Packed 4450 flows in 2.1283810138702393 s.\n",
      "Time to save data to ../data/generate_multiple_benchmark_traffic_sets/set_1_benchmark_data/benchmark_rack_dist_sensitivity_0.6_load_0.1.pickle: 0.10306835174560547 s\n",
      "Creating slots_dict database with slot_size 1000.0...\n",
      "Generated slot dict in 0.0096 s with slot size 1000.0 and total session time 44730.011999999704 for 4450 demands.\n",
      "Number of slots making up total session time: 46\n",
      "Number of these slots in which no new demands arrived: 4\n",
      "Fraction of the 46 total time slots from simulation start to finish in which no new demands arrive: 0.087\n",
      "Average number of demands arriving per time slot: 96.739\n",
      "Created slots_dict database in 0.051599979400634766 s\n",
      "Generated 'rack_dist_sensitivity_0.6' demands for load 1 of 4 in 2.7890124320983887 seconds.\n",
      "Generating demand data for benchmark rack_dist_sensitivity_0.6 load 0.2...\n"
     ]
    },
    {
     "name": "stderr",
     "output_type": "stream",
     "text": [
      "                                                                    \r"
     ]
    },
    {
     "name": "stdout",
     "output_type": "stream",
     "text": [
      "Packed 4046 flows in 1.9577138423919678 s.\n",
      "Time to save data to ../data/generate_multiple_benchmark_traffic_sets/set_1_benchmark_data/benchmark_rack_dist_sensitivity_0.6_load_0.2.pickle: 0.09269165992736816 s\n",
      "Creating slots_dict database with slot_size 1000.0...\n",
      "Generated slot dict in 0.0092 s with slot size 1000.0 and total session time 20547.027999999947 for 4046 demands.\n",
      "Number of slots making up total session time: 22\n",
      "Number of these slots in which no new demands arrived: 1\n",
      "Fraction of the 22 total time slots from simulation start to finish in which no new demands arrive: 0.045\n",
      "Average number of demands arriving per time slot: 183.909\n",
      "Created slots_dict database in 0.04553675651550293 s\n",
      "Generated 'rack_dist_sensitivity_0.6' demands for load 2 of 4 in 2.5995848178863525 seconds.\n",
      "Generating demand data for benchmark rack_dist_sensitivity_0.6 load 0.3...\n"
     ]
    },
    {
     "name": "stderr",
     "output_type": "stream",
     "text": [
      "                                                                    \r"
     ]
    },
    {
     "name": "stdout",
     "output_type": "stream",
     "text": [
      "Packed 4450 flows in 2.2122535705566406 s.\n",
      "Time to save data to ../data/generate_multiple_benchmark_traffic_sets/set_1_benchmark_data/benchmark_rack_dist_sensitivity_0.6_load_0.3.pickle: 0.10456705093383789 s\n",
      "Creating slots_dict database with slot_size 1000.0...\n",
      "Generated slot dict in 0.0082 s with slot size 1000.0 and total session time 13644.057166666316 for 4450 demands.\n",
      "Number of slots making up total session time: 15\n",
      "Number of these slots in which no new demands arrived: 1\n",
      "Fraction of the 15 total time slots from simulation start to finish in which no new demands arrive: 0.067\n",
      "Average number of demands arriving per time slot: 296.667\n",
      "Created slots_dict database in 0.03837323188781738 s\n",
      "Generated 'rack_dist_sensitivity_0.6' demands for load 3 of 4 in 2.8902924060821533 seconds.\n",
      "Generating demand data for benchmark rack_dist_sensitivity_0.6 load 0.4...\n"
     ]
    },
    {
     "name": "stderr",
     "output_type": "stream",
     "text": [
      "                                                                    \r"
     ]
    },
    {
     "name": "stdout",
     "output_type": "stream",
     "text": [
      "Packed 4046 flows in 1.944399356842041 s.\n",
      "Time to save data to ../data/generate_multiple_benchmark_traffic_sets/set_1_benchmark_data/benchmark_rack_dist_sensitivity_0.6_load_0.4.pickle: 0.09396648406982422 s\n",
      "Creating slots_dict database with slot_size 1000.0...\n",
      "Generated slot dict in 0.0078 s with slot size 1000.0 and total session time 10391.41424999955 for 4046 demands.\n",
      "Number of slots making up total session time: 12\n",
      "Number of these slots in which no new demands arrived: 1\n",
      "Fraction of the 12 total time slots from simulation start to finish in which no new demands arrive: 0.083\n",
      "Average number of demands arriving per time slot: 337.167\n",
      "Created slots_dict database in 0.03633904457092285 s\n",
      "Generated 'rack_dist_sensitivity_0.6' demands for load 4 of 4 in 2.589751720428467 seconds.\n",
      "Generated demands for benchmark 'rack_dist_sensitivity_0.6' in 27.07650113105774 seconds.\n",
      "~*~*~*~*~*~*~*~*~*~*~*~*~*~*~*~*~*~*~*~*~*~*~*~*~*~*\n",
      "Generating demands for benchmark 'rack_dist_sensitivity_0.8'...\n",
      "Generating node_dist distribution for rack_dist_sensitivity_0.8 benchmark...\n",
      "Generating flow_size_dist distribution for rack_dist_sensitivity_0.8 benchmark...\n",
      "Generating interarrival_time_dist distribution for rack_dist_sensitivity_0.8 benchmark...\n",
      "Generating demand data for benchmark rack_dist_sensitivity_0.8 load 0.1...\n"
     ]
    },
    {
     "name": "stderr",
     "output_type": "stream",
     "text": [
      "                                                                    \r"
     ]
    },
    {
     "name": "stdout",
     "output_type": "stream",
     "text": [
      "Packed 4450 flows in 2.0756373405456543 s.\n",
      "Time to save data to ../data/generate_multiple_benchmark_traffic_sets/set_1_benchmark_data/benchmark_rack_dist_sensitivity_0.8_load_0.1.pickle: 0.10555887222290039 s\n",
      "Creating slots_dict database with slot_size 1000.0...\n",
      "Generated slot dict in 0.0111 s with slot size 1000.0 and total session time 44866.56800000021 for 4450 demands.\n",
      "Number of slots making up total session time: 46\n",
      "Number of these slots in which no new demands arrived: 1\n",
      "Fraction of the 46 total time slots from simulation start to finish in which no new demands arrive: 0.022\n",
      "Average number of demands arriving per time slot: 96.739\n",
      "Created slots_dict database in 0.05832481384277344 s\n",
      "Generated 'rack_dist_sensitivity_0.8' demands for load 1 of 4 in 2.7473015785217285 seconds.\n",
      "Generating demand data for benchmark rack_dist_sensitivity_0.8 load 0.2...\n"
     ]
    },
    {
     "name": "stderr",
     "output_type": "stream",
     "text": [
      "                                                                    \r"
     ]
    },
    {
     "name": "stdout",
     "output_type": "stream",
     "text": [
      "Packed 4895 flows in 2.2763500213623047 s.\n",
      "Time to save data to ../data/generate_multiple_benchmark_traffic_sets/set_1_benchmark_data/benchmark_rack_dist_sensitivity_0.8_load_0.2.pickle: 0.11614203453063965 s\n",
      "Creating slots_dict database with slot_size 1000.0...\n",
      "Generated slot dict in 0.0084 s with slot size 1000.0 and total session time 26316.70599999991 for 4895 demands.\n",
      "Number of slots making up total session time: 28\n",
      "Number of these slots in which no new demands arrived: 1\n",
      "Fraction of the 28 total time slots from simulation start to finish in which no new demands arrive: 0.036\n",
      "Average number of demands arriving per time slot: 174.821\n",
      "Created slots_dict database in 0.04273271560668945 s\n",
      "Generated 'rack_dist_sensitivity_0.8' demands for load 2 of 4 in 3.0133256912231445 seconds.\n",
      "Generating demand data for benchmark rack_dist_sensitivity_0.8 load 0.3...\n"
     ]
    },
    {
     "name": "stderr",
     "output_type": "stream",
     "text": [
      "                                                                    \r"
     ]
    },
    {
     "name": "stdout",
     "output_type": "stream",
     "text": [
      "Packed 4450 flows in 2.0678789615631104 s.\n",
      "Time to save data to ../data/generate_multiple_benchmark_traffic_sets/set_1_benchmark_data/benchmark_rack_dist_sensitivity_0.8_load_0.3.pickle: 0.10323190689086914 s\n",
      "Creating slots_dict database with slot_size 1000.0...\n",
      "Generated slot dict in 0.0076 s with slot size 1000.0 and total session time 18072.234333334512 for 4450 demands.\n",
      "Number of slots making up total session time: 20\n",
      "Number of these slots in which no new demands arrived: 1\n",
      "Fraction of the 20 total time slots from simulation start to finish in which no new demands arrive: 0.05\n",
      "Average number of demands arriving per time slot: 222.5\n",
      "Created slots_dict database in 0.03834033012390137 s\n",
      "Generated 'rack_dist_sensitivity_0.8' demands for load 3 of 4 in 2.7019968032836914 seconds.\n",
      "Generating demand data for benchmark rack_dist_sensitivity_0.8 load 0.4...\n"
     ]
    },
    {
     "name": "stderr",
     "output_type": "stream",
     "text": [
      "                                                                    \r"
     ]
    },
    {
     "name": "stdout",
     "output_type": "stream",
     "text": [
      "Packed 4450 flows in 2.1389083862304688 s.\n",
      "Time to save data to ../data/generate_multiple_benchmark_traffic_sets/set_1_benchmark_data/benchmark_rack_dist_sensitivity_0.8_load_0.4.pickle: 0.11806011199951172 s\n",
      "Creating slots_dict database with slot_size 1000.0...\n",
      "Generated slot dict in 0.0078 s with slot size 1000.0 and total session time 12445.606749999499 for 4450 demands.\n",
      "Number of slots making up total session time: 14\n",
      "Number of these slots in which no new demands arrived: 1\n",
      "Fraction of the 14 total time slots from simulation start to finish in which no new demands arrive: 0.071\n",
      "Average number of demands arriving per time slot: 317.857\n",
      "Created slots_dict database in 0.037918806076049805 s\n",
      "Generated 'rack_dist_sensitivity_0.8' demands for load 4 of 4 in 2.8168599605560303 seconds.\n",
      "Generated demands for benchmark 'rack_dist_sensitivity_0.8' in 25.455021858215332 seconds.\n",
      "Generated all benchmarks in 134.019766330719 seconds.\n"
     ]
    }
   ],
   "source": [
    "for _set in range(2):\n",
    "    path_to_save = '../data/generate_multiple_benchmark_traffic_sets/set_{}_benchmark_data'.format(_set)\n",
    "    Path(path_to_save).mkdir(exist_ok=True, parents=True)\n",
    "    benchmark_demands = gen_benchmark_demands(path_to_save=path_to_save,\n",
    "                                              save_format='pickle', # 'json' 'pickle' 'csv'\n",
    "                                              separate_files=True,\n",
    "                                              load_prev_dists=False,\n",
    "                                              overwrite=False)"
   ]
  },
  {
   "cell_type": "code",
   "execution_count": null,
   "metadata": {},
   "outputs": [],
   "source": []
  }
 ],
 "metadata": {
  "kernelspec": {
   "display_name": "deep_scheduler",
   "language": "python",
   "name": "deep_scheduler"
  },
  "language_info": {
   "codemirror_mode": {
    "name": "ipython",
    "version": 3
   },
   "file_extension": ".py",
   "mimetype": "text/x-python",
   "name": "python",
   "nbconvert_exporter": "python",
   "pygments_lexer": "ipython3",
   "version": "3.7.7"
  }
 },
 "nbformat": 4,
 "nbformat_minor": 4
}
