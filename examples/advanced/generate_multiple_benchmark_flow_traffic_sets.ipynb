{
 "cells": [
  {
   "cell_type": "markdown",
   "metadata": {},
   "source": [
    "# Generating Multiple Benchmark Flow Traffic Sets\n",
    "\n",
    "In this example, we write a script which will generate multiple benchmark traffic sets in a loop and save them in .pickle format. We will assume we are generating traffic for a `TrafPy` fat tree topology, although of course you can generate traffic for any arbitrary topology defined outside of `TrafPy` (see documentation and other examples).\n",
    "\n",
    "We will generate the rack distribution sensitivity benchmark data set for loads 0.1-0.5."
   ]
  },
  {
   "cell_type": "code",
   "execution_count": 1,
   "metadata": {},
   "outputs": [],
   "source": [
    "import trafpy.generator as tpg\n",
    "from trafpy.benchmarker import BenchmarkImporter\n",
    "\n",
    "import numpy as np\n",
    "import time\n",
    "import os\n",
    "from collections import defaultdict # use for initialising arbitrary length nested dict\n",
    "from sqlitedict import SqliteDict\n",
    "import json\n",
    "from pathlib import Path\n",
    "import gzip\n",
    "import pickle"
   ]
  },
  {
   "cell_type": "markdown",
   "metadata": {},
   "source": [
    "## 1. Define Generation Configuration\n",
    "\n",
    "If you were writing this in a script rather than a Jupyter Notebook, you may want to e.g. put this next cell in a `config.py` file and import the file into a separate script for conciseness."
   ]
  },
  {
   "cell_type": "code",
   "execution_count": 2,
   "metadata": {},
   "outputs": [],
   "source": [
    "# -------------------------------------------------------------------------\n",
    "# general configuration\n",
    "# -------------------------------------------------------------------------\n",
    "# define benchmark version\n",
    "BENCHMARK_VERSION = 'v001'\n",
    "\n",
    "# define minimum number of demands to generate (may generate more to meet jensen_shannon_distance_threshold and/or min_last_demand_arrival_time)\n",
    "MIN_NUM_DEMANDS = None\n",
    "MAX_NUM_DEMANDS = 5000 \n",
    "\n",
    "# define maximum allowed Jenson-Shannon distance for flow size and interarrival time distributions (lower value -> distributions must be more similar -> higher number of demands will be generated) (must be between 0 and 1)\n",
    "JENSEN_SHANNON_DISTANCE_THRESHOLD = 0.3\n",
    "\n",
    "# define minimum time of last demand's arrival (helps define minimum simulation time)\n",
    "MIN_LAST_DEMAND_ARRIVAL_TIME = None \n",
    "\n",
    "# define network load fractions\n",
    "LOADS = [round(load, 3) for load in np.arange(0.1, 0.4, 0.1).tolist()] # ensure no python floating point arithmetic errors\n",
    "\n",
    "# define whether or not to TrafPy packer should auto correct invalid node distribution(s)\n",
    "AUTO_NODE_DIST_CORRECTION = True\n",
    "\n",
    "# slot size (if None, won't generate slots_dict database)\n",
    "# SLOT_SIZE = None \n",
    "SLOT_SIZE = 1000.0 # 50.0 1000.0 10.0\n",
    "\n",
    "\n",
    "# -------------------------------------------------------------------------\n",
    "# benchmark-specific configuration\n",
    "# -------------------------------------------------------------------------\n",
    "\n",
    "BENCHMARKS = ['rack_sensitivity_0',\n",
    "              'rack_sensitivity_02',\n",
    "              'rack_sensitivity_04',\n",
    "              'rack_sensitivity_06',\n",
    "              'rack_sensitivity_08']\n",
    "\n",
    "# define network topology for each benchmark\n",
    "net = tpg.gen_fat_tree(k=4, \n",
    "                       L=2, \n",
    "                       n=8, \n",
    "                       num_channels=1, \n",
    "                       server_to_rack_channel_capacity=1250, # 1250\n",
    "                       rack_to_edge_channel_capacity=1000, \n",
    "                       edge_to_agg_channel_capacity=1000, \n",
    "                       agg_to_core_channel_capacity=2000)\n",
    "NETS = {benchmark: net for benchmark in BENCHMARKS}\n",
    "\n",
    "# define network capacity for each benchmark\n",
    "NETWORK_CAPACITIES = {benchmark: net.graph['max_nw_capacity'] for benchmark in BENCHMARKS}\n",
    "NETWORK_EP_LINK_CAPACITIES = {benchmark: net.graph['ep_link_capacity'] for benchmark in BENCHMARKS}\n",
    "\n",
    "# define network racks for each benchmark\n",
    "RACKS_DICTS = {benchmark: net.graph['rack_to_ep_dict'] for benchmark in BENCHMARKS}"
   ]
  },
  {
   "cell_type": "markdown",
   "metadata": {},
   "source": [
    "## 2. Write a Function to Generate the Benchmark Traffic\n",
    "\n",
    "This function should use the above configuration variables to generate traffic for each of our benchmarks as required."
   ]
  },
  {
   "cell_type": "code",
   "execution_count": 3,
   "metadata": {},
   "outputs": [],
   "source": [
    "def gen_benchmark_demands(path_to_save=None, \n",
    "                          load_prev_dists=True,\n",
    "                          overwrite=False):\n",
    "    '''\n",
    "    If slot size is not None, will also generate an sqlite database for the slots_dict\n",
    "    dictionary. This is useful if later during simulations want to have pre-computed\n",
    "    slots_dict rather than computing & storing them in memory.\n",
    "\n",
    "    '''\n",
    "    if path_to_save[-1] == '/' or path_to_save[-1] == '\\\\':\n",
    "        path_to_save = path_to_save[:-1]\n",
    "\n",
    "    # init benchmark importer\n",
    "    importer = BenchmarkImporter(BENCHMARK_VERSION, load_prev_dists=load_prev_dists)\n",
    "\n",
    "    # load distributions for each benchmark\n",
    "    benchmark_dists = {benchmark: {} for benchmark in BENCHMARKS}\n",
    "\n",
    "    nested_dict = lambda: defaultdict(nested_dict)\n",
    "    benchmark_demands = nested_dict()\n",
    "\n",
    "    # begin generating data for each benchmark\n",
    "    num_loads = len(LOADS)\n",
    "    start_loops = time.time()\n",
    "    print('\\n~*~*~*~*~*~*~*~*~*~*~*~*~*~*~*~*~*~*~*~*~*~*~*~*~*~*')\n",
    "    print('Benchmarks to Generate: {}'.format(BENCHMARKS))\n",
    "    print('Loads to generate: {}'.format(LOADS))\n",
    "    for benchmark in BENCHMARKS:\n",
    "        print('~*~*~*~*~*~*~*~*~*~*~*~*~*~*~*~*~*~*~*~*~*~*~*~*~*~*')\n",
    "        print('Generating demands for benchmark \\'{}\\'...'.format(benchmark))\n",
    "        \n",
    "        # get racks and endpoints\n",
    "        racks_dict = RACKS_DICTS[benchmark]\n",
    "        if racks_dict is not None:\n",
    "            eps_racks_list = [eps for eps in racks_dict.values()]\n",
    "            eps = []\n",
    "            for rack in eps_racks_list:\n",
    "                for ep in rack:\n",
    "                    eps.append(ep)\n",
    "        else:\n",
    "            eps = NETS[benchmark].graph['endpoints']\n",
    "\n",
    "        start_benchmark = time.time()\n",
    "        load_counter = 1\n",
    "        benchmark_dists[benchmark] = importer.get_benchmark_dists(benchmark, eps, racks_dict=racks_dict)\n",
    "        for load in LOADS:\n",
    "            start_load = time.time()\n",
    "            network_load_config = {'network_rate_capacity': NETWORK_CAPACITIES[benchmark], \n",
    "                                   'ep_link_capacity': NETWORK_EP_LINK_CAPACITIES[benchmark],\n",
    "                                   'target_load_fraction': load,\n",
    "                                   'disable_timeouts': True}\n",
    "            print('Generating demand data for benchmark {} load {}...'.format(benchmark, load))\n",
    "            if benchmark_dists[benchmark]['num_ops_dist'] is not None:\n",
    "                # job-centric\n",
    "                use_multiprocessing = True\n",
    "            else:\n",
    "                # flow-centric\n",
    "                use_multiprocessing = False\n",
    "            demand_data = tpg.create_demand_data(min_num_demands=MIN_NUM_DEMANDS,\n",
    "                                             max_num_demands=MAX_NUM_DEMANDS, \n",
    "                                             eps=eps,\n",
    "                                             node_dist=benchmark_dists[benchmark]['node_dist'],\n",
    "                                             flow_size_dist=benchmark_dists[benchmark]['flow_size_dist'],\n",
    "                                             interarrival_time_dist=benchmark_dists[benchmark]['interarrival_time_dist'],\n",
    "                                             num_ops_dist=benchmark_dists[benchmark]['num_ops_dist'],\n",
    "                                             c=3,\n",
    "                                             jensen_shannon_distance_threshold=JENSEN_SHANNON_DISTANCE_THRESHOLD,\n",
    "                                             network_load_config=network_load_config,\n",
    "                                             min_last_demand_arrival_time=MIN_LAST_DEMAND_ARRIVAL_TIME,\n",
    "                                             auto_node_dist_correction=AUTO_NODE_DIST_CORRECTION,\n",
    "                                             use_multiprocessing=use_multiprocessing,\n",
    "                                             print_data=False)\n",
    "\n",
    "            file_path = path_to_save + '/benchmark_{}_load_{}'.format(benchmark, load)\n",
    "            tpg.pickle_data(path_to_save=file_path, data=demand_data, overwrite=overwrite)\n",
    "\n",
    "            # reset benchmark demands dict to save memory\n",
    "            benchmark_demands = nested_dict()\n",
    "\n",
    "            if SLOT_SIZE is not None:\n",
    "                # generate slots dict and save as database\n",
    "                print('Creating slots_dict database with slot_size {}...'.format(SLOT_SIZE))\n",
    "                s = time.time()\n",
    "                demand = tpg.Demand(demand_data, eps=eps)\n",
    "                with SqliteDict(file_path+'_slotsize_{}_slots_dict.sqlite'.format(SLOT_SIZE)) as slots_dict:\n",
    "                    for key, val in demand.get_slots_dict(slot_size=SLOT_SIZE, include_empty_slots=True, print_info=True).items():\n",
    "                        if type(key) is not str:\n",
    "                            slots_dict[json.dumps(key)] = val\n",
    "                        else:\n",
    "                            slots_dict[key] = val\n",
    "                    slots_dict.commit()\n",
    "                    slots_dict.close()\n",
    "                e = time.time()\n",
    "                print('Created slots_dict database in {} s'.format(e-s))\n",
    "            else:\n",
    "                pass\n",
    "\n",
    "            end_load = time.time()\n",
    "            print('Generated \\'{}\\' demands for load {} of {} in {} seconds.'.format(benchmark, load_counter, num_loads, end_load-start_load))\n",
    "            load_counter += 1\n",
    "\n",
    "        end_benchmark = time.time()\n",
    "        print('Generated demands for benchmark \\'{}\\' in {} seconds.'.format(benchmark, end_benchmark-start_benchmark))\n",
    "\n",
    "    end_loops = time.time()\n",
    "    print('Generated all benchmarks in {} seconds.'.format(end_loops-start_loops))\n",
    "\n",
    "    return benchmark_demands\n"
   ]
  },
  {
   "cell_type": "markdown",
   "metadata": {},
   "source": [
    "## 3. Generate the Benchmark Traffic\n",
    "\n",
    "We will generate each of our traffic sets 2x to enable us to run 2 repeat experiments for each set"
   ]
  },
  {
   "cell_type": "code",
   "execution_count": 4,
   "metadata": {
    "scrolled": false
   },
   "outputs": [
    {
     "name": "stdout",
     "output_type": "stream",
     "text": [
      "load_prev_dist=False. Will re-generate dists with given network params and override any previously saved distributions.\n",
      "\n",
      "~*~*~*~*~*~*~*~*~*~*~*~*~*~*~*~*~*~*~*~*~*~*~*~*~*~*\n",
      "Benchmarks to Generate: ['rack_sensitivity_0', 'rack_sensitivity_02', 'rack_sensitivity_04', 'rack_sensitivity_06', 'rack_sensitivity_08']\n",
      "Loads to generate: [0.1, 0.2, 0.3, 0.4]\n",
      "~*~*~*~*~*~*~*~*~*~*~*~*~*~*~*~*~*~*~*~*~*~*~*~*~*~*\n",
      "Generating demands for benchmark 'rack_sensitivity_0'...\n",
      "Set to save benchmark rack_sensitivity_0 distribution data to /home/cwfparsonson/Insync/zciccwf@ucl.ac.uk/OneDriveBiz/ipes_cdt/phd_project/projects/trafpy/trafpy/benchmarker/versions/benchmark_v001/data/rack_sensitivity_0/\n",
      "Saved node_dist distribution data to /home/cwfparsonson/Insync/zciccwf@ucl.ac.uk/OneDriveBiz/ipes_cdt/phd_project/projects/trafpy/trafpy/benchmarker/versions/benchmark_v001/data/rack_sensitivity_0/\n",
      "Saved flow_size_dist distribution data to /home/cwfparsonson/Insync/zciccwf@ucl.ac.uk/OneDriveBiz/ipes_cdt/phd_project/projects/trafpy/trafpy/benchmarker/versions/benchmark_v001/data/rack_sensitivity_0/\n",
      "Saved interarrival_time_dist distribution data to /home/cwfparsonson/Insync/zciccwf@ucl.ac.uk/OneDriveBiz/ipes_cdt/phd_project/projects/trafpy/trafpy/benchmarker/versions/benchmark_v001/data/rack_sensitivity_0/\n",
      "Generating demand data for benchmark rack_sensitivity_0 load 0.1...\n"
     ]
    },
    {
     "name": "stderr",
     "output_type": "stream",
     "text": [
      "                                                                    \r"
     ]
    },
    {
     "name": "stdout",
     "output_type": "stream",
     "text": [
      "Packed 4450 flows in 2.673919439315796 s.\n",
      "Time to save data to ../data/generate_multiple_benchmark_traffic_sets/set_0_benchmark_data/benchmark_rack_sensitivity_0_load_0.1.pickle: 0.10365486145019531 s\n",
      "Creating slots_dict database with slot_size 1000.0...\n",
      "Generated slot dict in 0.0083 s with slot size 1000.0 and total session time 48398.71450000157 for 4450 demands.\n",
      "Number of slots making up total session time: 50\n",
      "Number of these slots in which no new demands arrived: 1\n",
      "Fraction of the 50 total time slots from simulation start to finish in which no new demands arrive: 0.02\n",
      "Average number of demands arriving per time slot: 89.0\n",
      "Created slots_dict database in 0.04524993896484375 s\n",
      "Generated 'rack_sensitivity_0' demands for load 1 of 4 in 3.3253774642944336 seconds.\n",
      "Generating demand data for benchmark rack_sensitivity_0 load 0.2...\n"
     ]
    },
    {
     "name": "stderr",
     "output_type": "stream",
     "text": [
      "                                                                    \r"
     ]
    },
    {
     "name": "stdout",
     "output_type": "stream",
     "text": [
      "Packed 4450 flows in 2.7188119888305664 s.\n",
      "Time to save data to ../data/generate_multiple_benchmark_traffic_sets/set_0_benchmark_data/benchmark_rack_sensitivity_0_load_0.2.pickle: 0.10370159149169922 s\n",
      "Creating slots_dict database with slot_size 1000.0...\n",
      "Generated slot dict in 0.0076 s with slot size 1000.0 and total session time 30356.248500001493 for 4450 demands.\n",
      "Number of slots making up total session time: 32\n",
      "Number of these slots in which no new demands arrived: 1\n",
      "Fraction of the 32 total time slots from simulation start to finish in which no new demands arrive: 0.031\n",
      "Average number of demands arriving per time slot: 139.062\n",
      "Created slots_dict database in 0.039942026138305664 s\n",
      "Generated 'rack_sensitivity_0' demands for load 2 of 4 in 3.3448901176452637 seconds.\n",
      "Generating demand data for benchmark rack_sensitivity_0 load 0.3...\n"
     ]
    },
    {
     "name": "stderr",
     "output_type": "stream",
     "text": [
      "                                                                    \r"
     ]
    },
    {
     "name": "stdout",
     "output_type": "stream",
     "text": [
      "Packed 4450 flows in 2.6937170028686523 s.\n",
      "Time to save data to ../data/generate_multiple_benchmark_traffic_sets/set_0_benchmark_data/benchmark_rack_sensitivity_0_load_0.3.pickle: 0.10617661476135254 s\n",
      "Creating slots_dict database with slot_size 1000.0...\n",
      "Generated slot dict in 0.0074 s with slot size 1000.0 and total session time 15423.03933333391 for 4450 demands.\n",
      "Number of slots making up total session time: 17\n",
      "Number of these slots in which no new demands arrived: 1\n",
      "Fraction of the 17 total time slots from simulation start to finish in which no new demands arrive: 0.059\n",
      "Average number of demands arriving per time slot: 261.765\n",
      "Created slots_dict database in 0.03671145439147949 s\n",
      "Generated 'rack_sensitivity_0' demands for load 3 of 4 in 3.3248164653778076 seconds.\n",
      "Generating demand data for benchmark rack_sensitivity_0 load 0.4...\n"
     ]
    },
    {
     "name": "stderr",
     "output_type": "stream",
     "text": [
      "                                                                    \r"
     ]
    },
    {
     "name": "stdout",
     "output_type": "stream",
     "text": [
      "Packed 4450 flows in 2.7914135456085205 s.\n",
      "Time to save data to ../data/generate_multiple_benchmark_traffic_sets/set_0_benchmark_data/benchmark_rack_sensitivity_0_load_0.4.pickle: 0.10705399513244629 s\n",
      "Creating slots_dict database with slot_size 1000.0...\n",
      "Generated slot dict in 0.0078 s with slot size 1000.0 and total session time 11075.655500000017 for 4450 demands.\n",
      "Number of slots making up total session time: 13\n",
      "Number of these slots in which no new demands arrived: 1\n",
      "Fraction of the 13 total time slots from simulation start to finish in which no new demands arrive: 0.077\n",
      "Average number of demands arriving per time slot: 342.308\n",
      "Created slots_dict database in 0.03602194786071777 s\n",
      "Generated 'rack_sensitivity_0' demands for load 4 of 4 in 3.425894021987915 seconds.\n",
      "Generated demands for benchmark 'rack_sensitivity_0' in 27.411484479904175 seconds.\n",
      "~*~*~*~*~*~*~*~*~*~*~*~*~*~*~*~*~*~*~*~*~*~*~*~*~*~*\n",
      "Generating demands for benchmark 'rack_sensitivity_02'...\n",
      "Set to save benchmark rack_sensitivity_02 distribution data to /home/cwfparsonson/Insync/zciccwf@ucl.ac.uk/OneDriveBiz/ipes_cdt/phd_project/projects/trafpy/trafpy/benchmarker/versions/benchmark_v001/data/rack_sensitivity_02/\n",
      "Saved node_dist distribution data to /home/cwfparsonson/Insync/zciccwf@ucl.ac.uk/OneDriveBiz/ipes_cdt/phd_project/projects/trafpy/trafpy/benchmarker/versions/benchmark_v001/data/rack_sensitivity_02/\n",
      "Saved flow_size_dist distribution data to /home/cwfparsonson/Insync/zciccwf@ucl.ac.uk/OneDriveBiz/ipes_cdt/phd_project/projects/trafpy/trafpy/benchmarker/versions/benchmark_v001/data/rack_sensitivity_02/\n",
      "Saved interarrival_time_dist distribution data to /home/cwfparsonson/Insync/zciccwf@ucl.ac.uk/OneDriveBiz/ipes_cdt/phd_project/projects/trafpy/trafpy/benchmarker/versions/benchmark_v001/data/rack_sensitivity_02/\n",
      "Generating demand data for benchmark rack_sensitivity_02 load 0.1...\n"
     ]
    },
    {
     "name": "stderr",
     "output_type": "stream",
     "text": [
      "                                                                    \r"
     ]
    },
    {
     "name": "stdout",
     "output_type": "stream",
     "text": [
      "Packed 4450 flows in 2.7688472270965576 s.\n",
      "Time to save data to ../data/generate_multiple_benchmark_traffic_sets/set_0_benchmark_data/benchmark_rack_sensitivity_02_load_0.1.pickle: 0.10721874237060547 s\n",
      "Creating slots_dict database with slot_size 1000.0...\n",
      "Generated slot dict in 0.0089 s with slot size 1000.0 and total session time 56250.38249999747 for 4450 demands.\n",
      "Number of slots making up total session time: 58\n",
      "Number of these slots in which no new demands arrived: 6\n",
      "Fraction of the 58 total time slots from simulation start to finish in which no new demands arrive: 0.103\n",
      "Average number of demands arriving per time slot: 76.724\n",
      "Created slots_dict database in 0.05830526351928711 s\n",
      "Generated 'rack_sensitivity_02' demands for load 1 of 4 in 3.453033208847046 seconds.\n",
      "Generating demand data for benchmark rack_sensitivity_02 load 0.2...\n"
     ]
    },
    {
     "name": "stderr",
     "output_type": "stream",
     "text": [
      "                                                                    \r"
     ]
    },
    {
     "name": "stdout",
     "output_type": "stream",
     "text": [
      "Packed 4450 flows in 2.786149024963379 s.\n",
      "Time to save data to ../data/generate_multiple_benchmark_traffic_sets/set_0_benchmark_data/benchmark_rack_sensitivity_02_load_0.2.pickle: 0.10901713371276855 s\n",
      "Creating slots_dict database with slot_size 1000.0...\n",
      "Generated slot dict in 0.0121 s with slot size 1000.0 and total session time 25519.70024999993 for 4450 demands.\n",
      "Number of slots making up total session time: 27\n",
      "Number of these slots in which no new demands arrived: 1\n",
      "Fraction of the 27 total time slots from simulation start to finish in which no new demands arrive: 0.037\n",
      "Average number of demands arriving per time slot: 164.815\n",
      "Created slots_dict database in 0.04958176612854004 s\n",
      "Generated 'rack_sensitivity_02' demands for load 2 of 4 in 3.502556085586548 seconds.\n",
      "Generating demand data for benchmark rack_sensitivity_02 load 0.3...\n"
     ]
    },
    {
     "name": "stderr",
     "output_type": "stream",
     "text": [
      "                                                                    \r"
     ]
    },
    {
     "name": "stdout",
     "output_type": "stream",
     "text": [
      "Packed 4450 flows in 2.7737739086151123 s.\n",
      "Time to save data to ../data/generate_multiple_benchmark_traffic_sets/set_0_benchmark_data/benchmark_rack_sensitivity_02_load_0.3.pickle: 0.10312891006469727 s\n",
      "Creating slots_dict database with slot_size 1000.0...\n",
      "Generated slot dict in 0.0085 s with slot size 1000.0 and total session time 15022.563166666512 for 4450 demands.\n",
      "Number of slots making up total session time: 17\n",
      "Number of these slots in which no new demands arrived: 1\n",
      "Fraction of the 17 total time slots from simulation start to finish in which no new demands arrive: 0.059\n",
      "Average number of demands arriving per time slot: 261.765\n",
      "Created slots_dict database in 0.03700518608093262 s\n",
      "Generated 'rack_sensitivity_02' demands for load 3 of 4 in 3.5157809257507324 seconds.\n",
      "Generating demand data for benchmark rack_sensitivity_02 load 0.4...\n"
     ]
    },
    {
     "name": "stderr",
     "output_type": "stream",
     "text": [
      "                                                                    \r"
     ]
    },
    {
     "name": "stdout",
     "output_type": "stream",
     "text": [
      "Packed 4450 flows in 2.8118646144866943 s.\n",
      "Time to save data to ../data/generate_multiple_benchmark_traffic_sets/set_0_benchmark_data/benchmark_rack_sensitivity_02_load_0.4.pickle: 0.10147714614868164 s\n",
      "Creating slots_dict database with slot_size 1000.0...\n",
      "Generated slot dict in 0.0091 s with slot size 1000.0 and total session time 15885.59224999976 for 4450 demands.\n",
      "Number of slots making up total session time: 17\n",
      "Number of these slots in which no new demands arrived: 1\n",
      "Fraction of the 17 total time slots from simulation start to finish in which no new demands arrive: 0.059\n",
      "Average number of demands arriving per time slot: 261.765\n",
      "Created slots_dict database in 0.03832650184631348 s\n",
      "Generated 'rack_sensitivity_02' demands for load 4 of 4 in 3.487618923187256 seconds.\n",
      "Generated demands for benchmark 'rack_sensitivity_02' in 27.76434588432312 seconds.\n",
      "~*~*~*~*~*~*~*~*~*~*~*~*~*~*~*~*~*~*~*~*~*~*~*~*~*~*\n",
      "Generating demands for benchmark 'rack_sensitivity_04'...\n",
      "Set to save benchmark rack_sensitivity_04 distribution data to /home/cwfparsonson/Insync/zciccwf@ucl.ac.uk/OneDriveBiz/ipes_cdt/phd_project/projects/trafpy/trafpy/benchmarker/versions/benchmark_v001/data/rack_sensitivity_04/\n",
      "Saved node_dist distribution data to /home/cwfparsonson/Insync/zciccwf@ucl.ac.uk/OneDriveBiz/ipes_cdt/phd_project/projects/trafpy/trafpy/benchmarker/versions/benchmark_v001/data/rack_sensitivity_04/\n",
      "Saved flow_size_dist distribution data to /home/cwfparsonson/Insync/zciccwf@ucl.ac.uk/OneDriveBiz/ipes_cdt/phd_project/projects/trafpy/trafpy/benchmarker/versions/benchmark_v001/data/rack_sensitivity_04/\n",
      "Saved interarrival_time_dist distribution data to /home/cwfparsonson/Insync/zciccwf@ucl.ac.uk/OneDriveBiz/ipes_cdt/phd_project/projects/trafpy/trafpy/benchmarker/versions/benchmark_v001/data/rack_sensitivity_04/\n",
      "Generating demand data for benchmark rack_sensitivity_04 load 0.1...\n"
     ]
    },
    {
     "name": "stderr",
     "output_type": "stream",
     "text": [
      "                                                                    \r"
     ]
    },
    {
     "name": "stdout",
     "output_type": "stream",
     "text": [
      "Packed 4450 flows in 2.315314531326294 s.\n",
      "Time to save data to ../data/generate_multiple_benchmark_traffic_sets/set_0_benchmark_data/benchmark_rack_sensitivity_04_load_0.1.pickle: 0.10155987739562988 s\n",
      "Creating slots_dict database with slot_size 1000.0...\n",
      "Generated slot dict in 0.0075 s with slot size 1000.0 and total session time 44349.66350000127 for 4450 demands.\n",
      "Number of slots making up total session time: 46\n",
      "Number of these slots in which no new demands arrived: 2\n",
      "Fraction of the 46 total time slots from simulation start to finish in which no new demands arrive: 0.043\n",
      "Average number of demands arriving per time slot: 96.739\n",
      "Created slots_dict database in 0.04162120819091797 s\n",
      "Generated 'rack_sensitivity_04' demands for load 1 of 4 in 2.944904088973999 seconds.\n",
      "Generating demand data for benchmark rack_sensitivity_04 load 0.2...\n"
     ]
    },
    {
     "name": "stderr",
     "output_type": "stream",
     "text": [
      "                                                                    \r"
     ]
    },
    {
     "name": "stdout",
     "output_type": "stream",
     "text": [
      "Packed 4450 flows in 2.3126957416534424 s.\n",
      "Time to save data to ../data/generate_multiple_benchmark_traffic_sets/set_0_benchmark_data/benchmark_rack_sensitivity_04_load_0.2.pickle: 0.11061429977416992 s\n",
      "Creating slots_dict database with slot_size 1000.0...\n",
      "Generated slot dict in 0.0075 s with slot size 1000.0 and total session time 23605.03200000064 for 4450 demands.\n",
      "Number of slots making up total session time: 25\n",
      "Number of these slots in which no new demands arrived: 1\n",
      "Fraction of the 25 total time slots from simulation start to finish in which no new demands arrive: 0.04\n",
      "Average number of demands arriving per time slot: 178.0\n",
      "Created slots_dict database in 0.03909873962402344 s\n",
      "Generated 'rack_sensitivity_04' demands for load 2 of 4 in 2.94441819190979 seconds.\n",
      "Generating demand data for benchmark rack_sensitivity_04 load 0.3...\n"
     ]
    },
    {
     "name": "stderr",
     "output_type": "stream",
     "text": [
      "                                                                    \r"
     ]
    },
    {
     "name": "stdout",
     "output_type": "stream",
     "text": [
      "Packed 4450 flows in 2.372103214263916 s.\n",
      "Time to save data to ../data/generate_multiple_benchmark_traffic_sets/set_0_benchmark_data/benchmark_rack_sensitivity_04_load_0.3.pickle: 0.10237836837768555 s\n",
      "Creating slots_dict database with slot_size 1000.0...\n",
      "Generated slot dict in 0.0082 s with slot size 1000.0 and total session time 18555.646500000872 for 4450 demands.\n",
      "Number of slots making up total session time: 20\n",
      "Number of these slots in which no new demands arrived: 1\n",
      "Fraction of the 20 total time slots from simulation start to finish in which no new demands arrive: 0.05\n",
      "Average number of demands arriving per time slot: 222.5\n",
      "Created slots_dict database in 0.0378422737121582 s\n",
      "Generated 'rack_sensitivity_04' demands for load 3 of 4 in 3.0039546489715576 seconds.\n",
      "Generating demand data for benchmark rack_sensitivity_04 load 0.4...\n"
     ]
    },
    {
     "name": "stderr",
     "output_type": "stream",
     "text": [
      "                                                                    \r"
     ]
    },
    {
     "name": "stdout",
     "output_type": "stream",
     "text": [
      "Packed 4450 flows in 2.325578451156616 s.\n",
      "Time to save data to ../data/generate_multiple_benchmark_traffic_sets/set_0_benchmark_data/benchmark_rack_sensitivity_04_load_0.4.pickle: 0.09903550148010254 s\n",
      "Creating slots_dict database with slot_size 1000.0...\n",
      "Generated slot dict in 0.0084 s with slot size 1000.0 and total session time 14784.387749999865 for 4450 demands.\n",
      "Number of slots making up total session time: 16\n",
      "Number of these slots in which no new demands arrived: 1\n",
      "Fraction of the 16 total time slots from simulation start to finish in which no new demands arrive: 0.062\n",
      "Average number of demands arriving per time slot: 278.125\n",
      "Created slots_dict database in 0.03685355186462402 s\n",
      "Generated 'rack_sensitivity_04' demands for load 4 of 4 in 2.945709228515625 seconds.\n",
      "Generated demands for benchmark 'rack_sensitivity_04' in 25.793779373168945 seconds.\n",
      "~*~*~*~*~*~*~*~*~*~*~*~*~*~*~*~*~*~*~*~*~*~*~*~*~*~*\n",
      "Generating demands for benchmark 'rack_sensitivity_06'...\n",
      "Set to save benchmark rack_sensitivity_06 distribution data to /home/cwfparsonson/Insync/zciccwf@ucl.ac.uk/OneDriveBiz/ipes_cdt/phd_project/projects/trafpy/trafpy/benchmarker/versions/benchmark_v001/data/rack_sensitivity_06/\n",
      "Saved node_dist distribution data to /home/cwfparsonson/Insync/zciccwf@ucl.ac.uk/OneDriveBiz/ipes_cdt/phd_project/projects/trafpy/trafpy/benchmarker/versions/benchmark_v001/data/rack_sensitivity_06/\n",
      "Saved flow_size_dist distribution data to /home/cwfparsonson/Insync/zciccwf@ucl.ac.uk/OneDriveBiz/ipes_cdt/phd_project/projects/trafpy/trafpy/benchmarker/versions/benchmark_v001/data/rack_sensitivity_06/\n",
      "Saved interarrival_time_dist distribution data to /home/cwfparsonson/Insync/zciccwf@ucl.ac.uk/OneDriveBiz/ipes_cdt/phd_project/projects/trafpy/trafpy/benchmarker/versions/benchmark_v001/data/rack_sensitivity_06/\n",
      "Generating demand data for benchmark rack_sensitivity_06 load 0.1...\n"
     ]
    },
    {
     "name": "stderr",
     "output_type": "stream",
     "text": [
      "                                                                    \r"
     ]
    },
    {
     "name": "stdout",
     "output_type": "stream",
     "text": [
      "Packed 4450 flows in 2.267317533493042 s.\n",
      "Time to save data to ../data/generate_multiple_benchmark_traffic_sets/set_0_benchmark_data/benchmark_rack_sensitivity_06_load_0.1.pickle: 0.1037893295288086 s\n",
      "Creating slots_dict database with slot_size 1000.0...\n",
      "Generated slot dict in 0.0085 s with slot size 1000.0 and total session time 40318.01549999748 for 4450 demands.\n",
      "Number of slots making up total session time: 42\n",
      "Number of these slots in which no new demands arrived: 1\n",
      "Fraction of the 42 total time slots from simulation start to finish in which no new demands arrive: 0.024\n",
      "Average number of demands arriving per time slot: 105.952\n",
      "Created slots_dict database in 0.04279184341430664 s\n",
      "Generated 'rack_sensitivity_06' demands for load 1 of 4 in 2.903379201889038 seconds.\n",
      "Generating demand data for benchmark rack_sensitivity_06 load 0.2...\n"
     ]
    },
    {
     "name": "stderr",
     "output_type": "stream",
     "text": [
      "                                                                    \r"
     ]
    },
    {
     "name": "stdout",
     "output_type": "stream",
     "text": [
      "Packed 4450 flows in 2.2049214839935303 s.\n",
      "Time to save data to ../data/generate_multiple_benchmark_traffic_sets/set_0_benchmark_data/benchmark_rack_sensitivity_06_load_0.2.pickle: 0.10158038139343262 s\n",
      "Creating slots_dict database with slot_size 1000.0...\n",
      "Generated slot dict in 0.049 s with slot size 1000.0 and total session time 25572.211250001525 for 4450 demands.\n",
      "Number of slots making up total session time: 27\n",
      "Number of these slots in which no new demands arrived: 1\n",
      "Fraction of the 27 total time slots from simulation start to finish in which no new demands arrive: 0.037\n",
      "Average number of demands arriving per time slot: 164.815\n",
      "Created slots_dict database in 0.08151650428771973 s\n",
      "Generated 'rack_sensitivity_06' demands for load 2 of 4 in 2.883704662322998 seconds.\n",
      "Generating demand data for benchmark rack_sensitivity_06 load 0.3...\n"
     ]
    },
    {
     "name": "stderr",
     "output_type": "stream",
     "text": [
      "                                                                    \r"
     ]
    },
    {
     "name": "stdout",
     "output_type": "stream",
     "text": [
      "Packed 4450 flows in 2.225322961807251 s.\n",
      "Time to save data to ../data/generate_multiple_benchmark_traffic_sets/set_0_benchmark_data/benchmark_rack_sensitivity_06_load_0.3.pickle: 0.1035611629486084 s\n",
      "Creating slots_dict database with slot_size 1000.0...\n",
      "Generated slot dict in 0.008 s with slot size 1000.0 and total session time 17232.103499999957 for 4450 demands.\n",
      "Number of slots making up total session time: 19\n",
      "Number of these slots in which no new demands arrived: 1\n",
      "Fraction of the 19 total time slots from simulation start to finish in which no new demands arrive: 0.053\n",
      "Average number of demands arriving per time slot: 234.211\n",
      "Created slots_dict database in 0.03718900680541992 s\n",
      "Generated 'rack_sensitivity_06' demands for load 3 of 4 in 2.8716225624084473 seconds.\n",
      "Generating demand data for benchmark rack_sensitivity_06 load 0.4...\n"
     ]
    },
    {
     "name": "stderr",
     "output_type": "stream",
     "text": [
      "                                                                    \r"
     ]
    },
    {
     "name": "stdout",
     "output_type": "stream",
     "text": [
      "Packed 4450 flows in 2.1559793949127197 s.\n",
      "Time to save data to ../data/generate_multiple_benchmark_traffic_sets/set_0_benchmark_data/benchmark_rack_sensitivity_06_load_0.4.pickle: 0.10333609580993652 s\n",
      "Creating slots_dict database with slot_size 1000.0...\n",
      "Generated slot dict in 0.0085 s with slot size 1000.0 and total session time 14663.627875000451 for 4450 demands.\n",
      "Number of slots making up total session time: 16\n",
      "Number of these slots in which no new demands arrived: 1\n",
      "Fraction of the 16 total time slots from simulation start to finish in which no new demands arrive: 0.062\n",
      "Average number of demands arriving per time slot: 278.125\n",
      "Created slots_dict database in 0.037348270416259766 s\n",
      "Generated 'rack_sensitivity_06' demands for load 4 of 4 in 2.79050874710083 seconds.\n",
      "Generated demands for benchmark 'rack_sensitivity_06' in 26.35558533668518 seconds.\n",
      "~*~*~*~*~*~*~*~*~*~*~*~*~*~*~*~*~*~*~*~*~*~*~*~*~*~*\n",
      "Generating demands for benchmark 'rack_sensitivity_08'...\n",
      "Set to save benchmark rack_sensitivity_08 distribution data to /home/cwfparsonson/Insync/zciccwf@ucl.ac.uk/OneDriveBiz/ipes_cdt/phd_project/projects/trafpy/trafpy/benchmarker/versions/benchmark_v001/data/rack_sensitivity_08/\n",
      "Saved node_dist distribution data to /home/cwfparsonson/Insync/zciccwf@ucl.ac.uk/OneDriveBiz/ipes_cdt/phd_project/projects/trafpy/trafpy/benchmarker/versions/benchmark_v001/data/rack_sensitivity_08/\n",
      "Saved flow_size_dist distribution data to /home/cwfparsonson/Insync/zciccwf@ucl.ac.uk/OneDriveBiz/ipes_cdt/phd_project/projects/trafpy/trafpy/benchmarker/versions/benchmark_v001/data/rack_sensitivity_08/\n",
      "Saved interarrival_time_dist distribution data to /home/cwfparsonson/Insync/zciccwf@ucl.ac.uk/OneDriveBiz/ipes_cdt/phd_project/projects/trafpy/trafpy/benchmarker/versions/benchmark_v001/data/rack_sensitivity_08/\n",
      "Generating demand data for benchmark rack_sensitivity_08 load 0.1...\n"
     ]
    },
    {
     "name": "stderr",
     "output_type": "stream",
     "text": [
      "                                                                    \r"
     ]
    },
    {
     "name": "stdout",
     "output_type": "stream",
     "text": [
      "Packed 4450 flows in 2.1489274501800537 s.\n",
      "Time to save data to ../data/generate_multiple_benchmark_traffic_sets/set_0_benchmark_data/benchmark_rack_sensitivity_08_load_0.1.pickle: 0.10277056694030762 s\n",
      "Creating slots_dict database with slot_size 1000.0...\n",
      "Generated slot dict in 0.0093 s with slot size 1000.0 and total session time 46325.204000002224 for 4450 demands.\n",
      "Number of slots making up total session time: 48\n",
      "Number of these slots in which no new demands arrived: 2\n",
      "Fraction of the 48 total time slots from simulation start to finish in which no new demands arrive: 0.042\n",
      "Average number of demands arriving per time slot: 92.708\n",
      "Created slots_dict database in 0.045876264572143555 s\n",
      "Generated 'rack_sensitivity_08' demands for load 1 of 4 in 2.850369691848755 seconds.\n",
      "Generating demand data for benchmark rack_sensitivity_08 load 0.2...\n"
     ]
    },
    {
     "name": "stderr",
     "output_type": "stream",
     "text": [
      "                                                                    \r"
     ]
    },
    {
     "name": "stdout",
     "output_type": "stream",
     "text": [
      "Packed 4046 flows in 1.9815478324890137 s.\n",
      "Time to save data to ../data/generate_multiple_benchmark_traffic_sets/set_0_benchmark_data/benchmark_rack_sensitivity_08_load_0.2.pickle: 0.09283447265625 s\n",
      "Creating slots_dict database with slot_size 1000.0...\n",
      "Generated slot dict in 0.0071 s with slot size 1000.0 and total session time 21402.869499999848 for 4046 demands.\n",
      "Number of slots making up total session time: 23\n",
      "Number of these slots in which no new demands arrived: 1\n",
      "Fraction of the 23 total time slots from simulation start to finish in which no new demands arrive: 0.043\n",
      "Average number of demands arriving per time slot: 175.913\n",
      "Created slots_dict database in 0.03572511672973633 s\n",
      "Generated 'rack_sensitivity_08' demands for load 2 of 4 in 2.592298746109009 seconds.\n",
      "Generating demand data for benchmark rack_sensitivity_08 load 0.3...\n"
     ]
    },
    {
     "name": "stderr",
     "output_type": "stream",
     "text": [
      "                                                                    \r"
     ]
    },
    {
     "name": "stdout",
     "output_type": "stream",
     "text": [
      "Packed 4450 flows in 2.1270782947540283 s.\n",
      "Time to save data to ../data/generate_multiple_benchmark_traffic_sets/set_0_benchmark_data/benchmark_rack_sensitivity_08_load_0.3.pickle: 0.0996544361114502 s\n",
      "Creating slots_dict database with slot_size 1000.0...\n",
      "Generated slot dict in 0.0093 s with slot size 1000.0 and total session time 14504.848166666878 for 4450 demands.\n",
      "Number of slots making up total session time: 16\n",
      "Number of these slots in which no new demands arrived: 1\n",
      "Fraction of the 16 total time slots from simulation start to finish in which no new demands arrive: 0.062\n",
      "Average number of demands arriving per time slot: 278.125\n",
      "Created slots_dict database in 0.03850102424621582 s\n",
      "Generated 'rack_sensitivity_08' demands for load 3 of 4 in 2.7646641731262207 seconds.\n",
      "Generating demand data for benchmark rack_sensitivity_08 load 0.4...\n"
     ]
    },
    {
     "name": "stderr",
     "output_type": "stream",
     "text": [
      "                                                                    \r"
     ]
    },
    {
     "name": "stdout",
     "output_type": "stream",
     "text": [
      "Packed 4450 flows in 2.071233034133911 s.\n",
      "Time to save data to ../data/generate_multiple_benchmark_traffic_sets/set_0_benchmark_data/benchmark_rack_sensitivity_08_load_0.4.pickle: 0.1019279956817627 s\n",
      "Creating slots_dict database with slot_size 1000.0...\n",
      "Generated slot dict in 0.0129 s with slot size 1000.0 and total session time 14235.996125000484 for 4450 demands.\n",
      "Number of slots making up total session time: 16\n",
      "Number of these slots in which no new demands arrived: 1\n",
      "Fraction of the 16 total time slots from simulation start to finish in which no new demands arrive: 0.062\n",
      "Average number of demands arriving per time slot: 278.125\n",
      "Created slots_dict database in 0.04628181457519531 s\n",
      "Generated 'rack_sensitivity_08' demands for load 4 of 4 in 2.7054636478424072 seconds.\n",
      "Generated demands for benchmark 'rack_sensitivity_08' in 25.107226848602295 seconds.\n",
      "Generated all benchmarks in 132.43265628814697 seconds.\n",
      "load_prev_dist=False. Will re-generate dists with given network params and override any previously saved distributions.\n",
      "\n",
      "~*~*~*~*~*~*~*~*~*~*~*~*~*~*~*~*~*~*~*~*~*~*~*~*~*~*\n",
      "Benchmarks to Generate: ['rack_sensitivity_0', 'rack_sensitivity_02', 'rack_sensitivity_04', 'rack_sensitivity_06', 'rack_sensitivity_08']\n",
      "Loads to generate: [0.1, 0.2, 0.3, 0.4]\n",
      "~*~*~*~*~*~*~*~*~*~*~*~*~*~*~*~*~*~*~*~*~*~*~*~*~*~*\n",
      "Generating demands for benchmark 'rack_sensitivity_0'...\n",
      "Set to save benchmark rack_sensitivity_0 distribution data to /home/cwfparsonson/Insync/zciccwf@ucl.ac.uk/OneDriveBiz/ipes_cdt/phd_project/projects/trafpy/trafpy/benchmarker/versions/benchmark_v001/data/rack_sensitivity_0/\n",
      "Saved node_dist distribution data to /home/cwfparsonson/Insync/zciccwf@ucl.ac.uk/OneDriveBiz/ipes_cdt/phd_project/projects/trafpy/trafpy/benchmarker/versions/benchmark_v001/data/rack_sensitivity_0/\n",
      "Saved flow_size_dist distribution data to /home/cwfparsonson/Insync/zciccwf@ucl.ac.uk/OneDriveBiz/ipes_cdt/phd_project/projects/trafpy/trafpy/benchmarker/versions/benchmark_v001/data/rack_sensitivity_0/\n",
      "Saved interarrival_time_dist distribution data to /home/cwfparsonson/Insync/zciccwf@ucl.ac.uk/OneDriveBiz/ipes_cdt/phd_project/projects/trafpy/trafpy/benchmarker/versions/benchmark_v001/data/rack_sensitivity_0/\n",
      "Generating demand data for benchmark rack_sensitivity_0 load 0.1...\n"
     ]
    },
    {
     "name": "stderr",
     "output_type": "stream",
     "text": [
      "                                                                    \r"
     ]
    },
    {
     "name": "stdout",
     "output_type": "stream",
     "text": [
      "Packed 4450 flows in 2.812858819961548 s.\n",
      "Time to save data to ../data/generate_multiple_benchmark_traffic_sets/set_1_benchmark_data/benchmark_rack_sensitivity_0_load_0.1.pickle: 0.10892105102539062 s\n",
      "Creating slots_dict database with slot_size 1000.0...\n",
      "Generated slot dict in 0.0126 s with slot size 1000.0 and total session time 47040.64400000114 for 4450 demands.\n",
      "Number of slots making up total session time: 49\n",
      "Number of these slots in which no new demands arrived: 3\n",
      "Fraction of the 49 total time slots from simulation start to finish in which no new demands arrive: 0.061\n",
      "Average number of demands arriving per time slot: 90.816\n",
      "Created slots_dict database in 0.05362653732299805 s\n",
      "Generated 'rack_sensitivity_0' demands for load 1 of 4 in 3.4919047355651855 seconds.\n",
      "Generating demand data for benchmark rack_sensitivity_0 load 0.2...\n"
     ]
    },
    {
     "name": "stderr",
     "output_type": "stream",
     "text": [
      "                                                                    \r"
     ]
    },
    {
     "name": "stdout",
     "output_type": "stream",
     "text": [
      "Packed 4450 flows in 2.8727831840515137 s.\n",
      "Time to save data to ../data/generate_multiple_benchmark_traffic_sets/set_1_benchmark_data/benchmark_rack_sensitivity_0_load_0.2.pickle: 0.10471105575561523 s\n",
      "Creating slots_dict database with slot_size 1000.0...\n",
      "Generated slot dict in 0.0079 s with slot size 1000.0 and total session time 22871.53124999915 for 4450 demands.\n",
      "Number of slots making up total session time: 24\n",
      "Number of these slots in which no new demands arrived: 1\n",
      "Fraction of the 24 total time slots from simulation start to finish in which no new demands arrive: 0.042\n",
      "Average number of demands arriving per time slot: 185.417\n",
      "Created slots_dict database in 0.03950357437133789 s\n",
      "Generated 'rack_sensitivity_0' demands for load 2 of 4 in 3.529510498046875 seconds.\n",
      "Generating demand data for benchmark rack_sensitivity_0 load 0.3...\n"
     ]
    },
    {
     "name": "stderr",
     "output_type": "stream",
     "text": [
      "                                                                    \r"
     ]
    },
    {
     "name": "stdout",
     "output_type": "stream",
     "text": [
      "Packed 4450 flows in 2.6619279384613037 s.\n",
      "Time to save data to ../data/generate_multiple_benchmark_traffic_sets/set_1_benchmark_data/benchmark_rack_sensitivity_0_load_0.3.pickle: 0.10245513916015625 s\n",
      "Creating slots_dict database with slot_size 1000.0...\n",
      "Generated slot dict in 0.0077 s with slot size 1000.0 and total session time 19256.080833332875 for 4450 demands.\n",
      "Number of slots making up total session time: 21\n",
      "Number of these slots in which no new demands arrived: 1\n",
      "Fraction of the 21 total time slots from simulation start to finish in which no new demands arrive: 0.048\n",
      "Average number of demands arriving per time slot: 211.905\n",
      "Created slots_dict database in 0.038860321044921875 s\n",
      "Generated 'rack_sensitivity_0' demands for load 3 of 4 in 3.3375742435455322 seconds.\n",
      "Generating demand data for benchmark rack_sensitivity_0 load 0.4...\n"
     ]
    },
    {
     "name": "stderr",
     "output_type": "stream",
     "text": [
      "                                                                    \r"
     ]
    },
    {
     "name": "stdout",
     "output_type": "stream",
     "text": [
      "Packed 4450 flows in 2.792638063430786 s.\n",
      "Time to save data to ../data/generate_multiple_benchmark_traffic_sets/set_1_benchmark_data/benchmark_rack_sensitivity_0_load_0.4.pickle: 0.10781693458557129 s\n",
      "Creating slots_dict database with slot_size 1000.0...\n",
      "Generated slot dict in 0.0496 s with slot size 1000.0 and total session time 12115.033624999665 for 4450 demands.\n",
      "Number of slots making up total session time: 14\n",
      "Number of these slots in which no new demands arrived: 1\n",
      "Fraction of the 14 total time slots from simulation start to finish in which no new demands arrive: 0.071\n",
      "Average number of demands arriving per time slot: 317.857\n",
      "Created slots_dict database in 0.07849383354187012 s\n",
      "Generated 'rack_sensitivity_0' demands for load 4 of 4 in 3.5075395107269287 seconds.\n",
      "Generated demands for benchmark 'rack_sensitivity_0' in 28.177390575408936 seconds.\n",
      "~*~*~*~*~*~*~*~*~*~*~*~*~*~*~*~*~*~*~*~*~*~*~*~*~*~*\n",
      "Generating demands for benchmark 'rack_sensitivity_02'...\n",
      "Set to save benchmark rack_sensitivity_02 distribution data to /home/cwfparsonson/Insync/zciccwf@ucl.ac.uk/OneDriveBiz/ipes_cdt/phd_project/projects/trafpy/trafpy/benchmarker/versions/benchmark_v001/data/rack_sensitivity_02/\n",
      "Saved node_dist distribution data to /home/cwfparsonson/Insync/zciccwf@ucl.ac.uk/OneDriveBiz/ipes_cdt/phd_project/projects/trafpy/trafpy/benchmarker/versions/benchmark_v001/data/rack_sensitivity_02/\n",
      "Saved flow_size_dist distribution data to /home/cwfparsonson/Insync/zciccwf@ucl.ac.uk/OneDriveBiz/ipes_cdt/phd_project/projects/trafpy/trafpy/benchmarker/versions/benchmark_v001/data/rack_sensitivity_02/\n",
      "Saved interarrival_time_dist distribution data to /home/cwfparsonson/Insync/zciccwf@ucl.ac.uk/OneDriveBiz/ipes_cdt/phd_project/projects/trafpy/trafpy/benchmarker/versions/benchmark_v001/data/rack_sensitivity_02/\n",
      "Generating demand data for benchmark rack_sensitivity_02 load 0.1...\n"
     ]
    },
    {
     "name": "stderr",
     "output_type": "stream",
     "text": [
      "                                                                    \r"
     ]
    },
    {
     "name": "stdout",
     "output_type": "stream",
     "text": [
      "Packed 4450 flows in 2.6903469562530518 s.\n",
      "Time to save data to ../data/generate_multiple_benchmark_traffic_sets/set_1_benchmark_data/benchmark_rack_sensitivity_02_load_0.1.pickle: 0.10227346420288086 s\n",
      "Creating slots_dict database with slot_size 1000.0...\n",
      "Generated slot dict in 0.0081 s with slot size 1000.0 and total session time 49026.9969999997 for 4450 demands.\n",
      "Number of slots making up total session time: 51\n",
      "Number of these slots in which no new demands arrived: 5\n",
      "Fraction of the 51 total time slots from simulation start to finish in which no new demands arrive: 0.098\n",
      "Average number of demands arriving per time slot: 87.255\n",
      "Created slots_dict database in 0.04477334022521973 s\n",
      "Generated 'rack_sensitivity_02' demands for load 1 of 4 in 3.384080648422241 seconds.\n",
      "Generating demand data for benchmark rack_sensitivity_02 load 0.2...\n"
     ]
    },
    {
     "name": "stderr",
     "output_type": "stream",
     "text": [
      "                                                                    \r"
     ]
    },
    {
     "name": "stdout",
     "output_type": "stream",
     "text": [
      "Packed 4450 flows in 2.823586940765381 s.\n",
      "Time to save data to ../data/generate_multiple_benchmark_traffic_sets/set_1_benchmark_data/benchmark_rack_sensitivity_02_load_0.2.pickle: 0.10196161270141602 s\n",
      "Creating slots_dict database with slot_size 1000.0...\n",
      "Generated slot dict in 0.0082 s with slot size 1000.0 and total session time 23817.819249999135 for 4450 demands.\n",
      "Number of slots making up total session time: 25\n",
      "Number of these slots in which no new demands arrived: 1\n",
      "Fraction of the 25 total time slots from simulation start to finish in which no new demands arrive: 0.04\n",
      "Average number of demands arriving per time slot: 178.0\n",
      "Created slots_dict database in 0.03919410705566406 s\n",
      "Generated 'rack_sensitivity_02' demands for load 2 of 4 in 3.4481863975524902 seconds.\n",
      "Generating demand data for benchmark rack_sensitivity_02 load 0.3...\n"
     ]
    },
    {
     "name": "stderr",
     "output_type": "stream",
     "text": [
      "                                                                    \r"
     ]
    },
    {
     "name": "stdout",
     "output_type": "stream",
     "text": [
      "Packed 4046 flows in 2.5137434005737305 s.\n",
      "Time to save data to ../data/generate_multiple_benchmark_traffic_sets/set_1_benchmark_data/benchmark_rack_sensitivity_02_load_0.3.pickle: 0.0923607349395752 s\n",
      "Creating slots_dict database with slot_size 1000.0...\n",
      "Generated slot dict in 0.0067 s with slot size 1000.0 and total session time 12626.583666666422 for 4046 demands.\n",
      "Number of slots making up total session time: 14\n",
      "Number of these slots in which no new demands arrived: 1\n",
      "Fraction of the 14 total time slots from simulation start to finish in which no new demands arrive: 0.071\n",
      "Average number of demands arriving per time slot: 289.0\n",
      "Created slots_dict database in 0.0330502986907959 s\n",
      "Generated 'rack_sensitivity_02' demands for load 3 of 4 in 3.12374210357666 seconds.\n",
      "Generating demand data for benchmark rack_sensitivity_02 load 0.4...\n"
     ]
    },
    {
     "name": "stderr",
     "output_type": "stream",
     "text": [
      "                                                                    \r"
     ]
    },
    {
     "name": "stdout",
     "output_type": "stream",
     "text": [
      "Packed 4046 flows in 2.298976421356201 s.\n",
      "Time to save data to ../data/generate_multiple_benchmark_traffic_sets/set_1_benchmark_data/benchmark_rack_sensitivity_02_load_0.4.pickle: 0.09207844734191895 s\n",
      "Creating slots_dict database with slot_size 1000.0...\n",
      "Generated slot dict in 0.0071 s with slot size 1000.0 and total session time 12811.519875000158 for 4046 demands.\n",
      "Number of slots making up total session time: 14\n",
      "Number of these slots in which no new demands arrived: 1\n",
      "Fraction of the 14 total time slots from simulation start to finish in which no new demands arrive: 0.071\n",
      "Average number of demands arriving per time slot: 289.0\n",
      "Created slots_dict database in 0.035840749740600586 s\n",
      "Generated 'rack_sensitivity_02' demands for load 4 of 4 in 2.902693033218384 seconds.\n",
      "Generated demands for benchmark 'rack_sensitivity_02' in 27.874622106552124 seconds.\n",
      "~*~*~*~*~*~*~*~*~*~*~*~*~*~*~*~*~*~*~*~*~*~*~*~*~*~*\n",
      "Generating demands for benchmark 'rack_sensitivity_04'...\n",
      "Set to save benchmark rack_sensitivity_04 distribution data to /home/cwfparsonson/Insync/zciccwf@ucl.ac.uk/OneDriveBiz/ipes_cdt/phd_project/projects/trafpy/trafpy/benchmarker/versions/benchmark_v001/data/rack_sensitivity_04/\n",
      "Saved node_dist distribution data to /home/cwfparsonson/Insync/zciccwf@ucl.ac.uk/OneDriveBiz/ipes_cdt/phd_project/projects/trafpy/trafpy/benchmarker/versions/benchmark_v001/data/rack_sensitivity_04/\n",
      "Saved flow_size_dist distribution data to /home/cwfparsonson/Insync/zciccwf@ucl.ac.uk/OneDriveBiz/ipes_cdt/phd_project/projects/trafpy/trafpy/benchmarker/versions/benchmark_v001/data/rack_sensitivity_04/\n",
      "Saved interarrival_time_dist distribution data to /home/cwfparsonson/Insync/zciccwf@ucl.ac.uk/OneDriveBiz/ipes_cdt/phd_project/projects/trafpy/trafpy/benchmarker/versions/benchmark_v001/data/rack_sensitivity_04/\n",
      "Generating demand data for benchmark rack_sensitivity_04 load 0.1...\n"
     ]
    },
    {
     "name": "stderr",
     "output_type": "stream",
     "text": [
      "                                                                    \r"
     ]
    },
    {
     "name": "stdout",
     "output_type": "stream",
     "text": [
      "Packed 4450 flows in 2.428579330444336 s.\n",
      "Time to save data to ../data/generate_multiple_benchmark_traffic_sets/set_1_benchmark_data/benchmark_rack_sensitivity_04_load_0.1.pickle: 0.1020810604095459 s\n",
      "Creating slots_dict database with slot_size 1000.0...\n",
      "Generated slot dict in 0.0084 s with slot size 1000.0 and total session time 45880.40500000074 for 4450 demands.\n",
      "Number of slots making up total session time: 47\n",
      "Number of these slots in which no new demands arrived: 1\n",
      "Fraction of the 47 total time slots from simulation start to finish in which no new demands arrive: 0.021\n",
      "Average number of demands arriving per time slot: 94.681\n",
      "Created slots_dict database in 0.0438539981842041 s\n",
      "Generated 'rack_sensitivity_04' demands for load 1 of 4 in 3.0732498168945312 seconds.\n",
      "Generating demand data for benchmark rack_sensitivity_04 load 0.2...\n"
     ]
    },
    {
     "name": "stderr",
     "output_type": "stream",
     "text": [
      "                                                                    \r"
     ]
    },
    {
     "name": "stdout",
     "output_type": "stream",
     "text": [
      "Packed 4450 flows in 2.4408814907073975 s.\n",
      "Time to save data to ../data/generate_multiple_benchmark_traffic_sets/set_1_benchmark_data/benchmark_rack_sensitivity_04_load_0.2.pickle: 0.10889840126037598 s\n",
      "Creating slots_dict database with slot_size 1000.0...\n",
      "Generated slot dict in 0.0081 s with slot size 1000.0 and total session time 22423.777000000042 for 4450 demands.\n",
      "Number of slots making up total session time: 24\n",
      "Number of these slots in which no new demands arrived: 1\n",
      "Fraction of the 24 total time slots from simulation start to finish in which no new demands arrive: 0.042\n",
      "Average number of demands arriving per time slot: 185.417\n",
      "Created slots_dict database in 0.038767337799072266 s\n",
      "Generated 'rack_sensitivity_04' demands for load 2 of 4 in 3.0834531784057617 seconds.\n",
      "Generating demand data for benchmark rack_sensitivity_04 load 0.3...\n"
     ]
    },
    {
     "name": "stderr",
     "output_type": "stream",
     "text": [
      "                                                                    \r"
     ]
    },
    {
     "name": "stdout",
     "output_type": "stream",
     "text": [
      "Packed 4450 flows in 2.5119829177856445 s.\n",
      "Time to save data to ../data/generate_multiple_benchmark_traffic_sets/set_1_benchmark_data/benchmark_rack_sensitivity_04_load_0.3.pickle: 0.10718441009521484 s\n",
      "Creating slots_dict database with slot_size 1000.0...\n",
      "Generated slot dict in 0.0482 s with slot size 1000.0 and total session time 14653.748166667023 for 4450 demands.\n",
      "Number of slots making up total session time: 16\n",
      "Number of these slots in which no new demands arrived: 1\n",
      "Fraction of the 16 total time slots from simulation start to finish in which no new demands arrive: 0.062\n",
      "Average number of demands arriving per time slot: 278.125\n",
      "Created slots_dict database in 0.07828593254089355 s\n",
      "Generated 'rack_sensitivity_04' demands for load 3 of 4 in 3.2091033458709717 seconds.\n",
      "Generating demand data for benchmark rack_sensitivity_04 load 0.4...\n"
     ]
    },
    {
     "name": "stderr",
     "output_type": "stream",
     "text": [
      "                                                                    \r"
     ]
    },
    {
     "name": "stdout",
     "output_type": "stream",
     "text": [
      "Packed 4046 flows in 2.096201181411743 s.\n",
      "Time to save data to ../data/generate_multiple_benchmark_traffic_sets/set_1_benchmark_data/benchmark_rack_sensitivity_04_load_0.4.pickle: 0.09518861770629883 s\n",
      "Creating slots_dict database with slot_size 1000.0...\n",
      "Generated slot dict in 0.008 s with slot size 1000.0 and total session time 16123.913500000122 for 4046 demands.\n",
      "Number of slots making up total session time: 18\n",
      "Number of these slots in which no new demands arrived: 1\n",
      "Fraction of the 18 total time slots from simulation start to finish in which no new demands arrive: 0.056\n",
      "Average number of demands arriving per time slot: 224.778\n",
      "Created slots_dict database in 0.03658151626586914 s\n",
      "Generated 'rack_sensitivity_04' demands for load 4 of 4 in 2.720388412475586 seconds.\n",
      "Generated demands for benchmark 'rack_sensitivity_04' in 26.88670301437378 seconds.\n",
      "~*~*~*~*~*~*~*~*~*~*~*~*~*~*~*~*~*~*~*~*~*~*~*~*~*~*\n",
      "Generating demands for benchmark 'rack_sensitivity_06'...\n",
      "Set to save benchmark rack_sensitivity_06 distribution data to /home/cwfparsonson/Insync/zciccwf@ucl.ac.uk/OneDriveBiz/ipes_cdt/phd_project/projects/trafpy/trafpy/benchmarker/versions/benchmark_v001/data/rack_sensitivity_06/\n",
      "Saved node_dist distribution data to /home/cwfparsonson/Insync/zciccwf@ucl.ac.uk/OneDriveBiz/ipes_cdt/phd_project/projects/trafpy/trafpy/benchmarker/versions/benchmark_v001/data/rack_sensitivity_06/\n",
      "Saved flow_size_dist distribution data to /home/cwfparsonson/Insync/zciccwf@ucl.ac.uk/OneDriveBiz/ipes_cdt/phd_project/projects/trafpy/trafpy/benchmarker/versions/benchmark_v001/data/rack_sensitivity_06/\n",
      "Saved interarrival_time_dist distribution data to /home/cwfparsonson/Insync/zciccwf@ucl.ac.uk/OneDriveBiz/ipes_cdt/phd_project/projects/trafpy/trafpy/benchmarker/versions/benchmark_v001/data/rack_sensitivity_06/\n",
      "Generating demand data for benchmark rack_sensitivity_06 load 0.1...\n"
     ]
    },
    {
     "name": "stderr",
     "output_type": "stream",
     "text": [
      "                                                                    \r"
     ]
    },
    {
     "name": "stdout",
     "output_type": "stream",
     "text": [
      "Packed 4450 flows in 2.264639377593994 s.\n",
      "Time to save data to ../data/generate_multiple_benchmark_traffic_sets/set_1_benchmark_data/benchmark_rack_sensitivity_06_load_0.1.pickle: 0.10082554817199707 s\n",
      "Creating slots_dict database with slot_size 1000.0...\n",
      "Generated slot dict in 0.0081 s with slot size 1000.0 and total session time 54233.37050000112 for 4450 demands.\n",
      "Number of slots making up total session time: 56\n",
      "Number of these slots in which no new demands arrived: 4\n",
      "Fraction of the 56 total time slots from simulation start to finish in which no new demands arrive: 0.071\n",
      "Average number of demands arriving per time slot: 79.464\n",
      "Created slots_dict database in 0.04556727409362793 s\n",
      "Generated 'rack_sensitivity_06' demands for load 1 of 4 in 2.916718006134033 seconds.\n",
      "Generating demand data for benchmark rack_sensitivity_06 load 0.2...\n"
     ]
    },
    {
     "name": "stderr",
     "output_type": "stream",
     "text": [
      "                                                                    \r"
     ]
    },
    {
     "name": "stdout",
     "output_type": "stream",
     "text": [
      "Packed 4895 flows in 2.490359306335449 s.\n",
      "Time to save data to ../data/generate_multiple_benchmark_traffic_sets/set_1_benchmark_data/benchmark_rack_sensitivity_06_load_0.2.pickle: 0.1101081371307373 s\n",
      "Creating slots_dict database with slot_size 1000.0...\n",
      "Generated slot dict in 0.0083 s with slot size 1000.0 and total session time 27784.595500001935 for 4895 demands.\n",
      "Number of slots making up total session time: 29\n",
      "Number of these slots in which no new demands arrived: 1\n",
      "Fraction of the 29 total time slots from simulation start to finish in which no new demands arrive: 0.034\n",
      "Average number of demands arriving per time slot: 168.793\n",
      "Created slots_dict database in 0.04199051856994629 s\n",
      "Generated 'rack_sensitivity_06' demands for load 2 of 4 in 3.1654436588287354 seconds.\n",
      "Generating demand data for benchmark rack_sensitivity_06 load 0.3...\n"
     ]
    },
    {
     "name": "stderr",
     "output_type": "stream",
     "text": [
      "                                                                    \r"
     ]
    },
    {
     "name": "stdout",
     "output_type": "stream",
     "text": [
      "Packed 4450 flows in 2.2795333862304688 s.\n",
      "Time to save data to ../data/generate_multiple_benchmark_traffic_sets/set_1_benchmark_data/benchmark_rack_sensitivity_06_load_0.3.pickle: 0.10299420356750488 s\n",
      "Creating slots_dict database with slot_size 1000.0...\n",
      "Generated slot dict in 0.0121 s with slot size 1000.0 and total session time 15612.277166666858 for 4450 demands.\n",
      "Number of slots making up total session time: 17\n",
      "Number of these slots in which no new demands arrived: 1\n",
      "Fraction of the 17 total time slots from simulation start to finish in which no new demands arrive: 0.059\n",
      "Average number of demands arriving per time slot: 261.765\n",
      "Created slots_dict database in 0.04610896110534668 s\n",
      "Generated 'rack_sensitivity_06' demands for load 3 of 4 in 2.926661491394043 seconds.\n",
      "Generating demand data for benchmark rack_sensitivity_06 load 0.4...\n"
     ]
    },
    {
     "name": "stderr",
     "output_type": "stream",
     "text": [
      "                                                                    \r"
     ]
    },
    {
     "name": "stdout",
     "output_type": "stream",
     "text": [
      "Packed 4450 flows in 2.3463761806488037 s.\n",
      "Time to save data to ../data/generate_multiple_benchmark_traffic_sets/set_1_benchmark_data/benchmark_rack_sensitivity_06_load_0.4.pickle: 0.10597920417785645 s\n",
      "Creating slots_dict database with slot_size 1000.0...\n",
      "Generated slot dict in 0.009 s with slot size 1000.0 and total session time 11088.157000000043 for 4450 demands.\n",
      "Number of slots making up total session time: 13\n",
      "Number of these slots in which no new demands arrived: 1\n",
      "Fraction of the 13 total time slots from simulation start to finish in which no new demands arrive: 0.077\n",
      "Average number of demands arriving per time slot: 342.308\n",
      "Created slots_dict database in 0.038773298263549805 s\n",
      "Generated 'rack_sensitivity_06' demands for load 4 of 4 in 3.0200839042663574 seconds.\n",
      "Generated demands for benchmark 'rack_sensitivity_06' in 26.29509973526001 seconds.\n",
      "~*~*~*~*~*~*~*~*~*~*~*~*~*~*~*~*~*~*~*~*~*~*~*~*~*~*\n",
      "Generating demands for benchmark 'rack_sensitivity_08'...\n",
      "Set to save benchmark rack_sensitivity_08 distribution data to /home/cwfparsonson/Insync/zciccwf@ucl.ac.uk/OneDriveBiz/ipes_cdt/phd_project/projects/trafpy/trafpy/benchmarker/versions/benchmark_v001/data/rack_sensitivity_08/\n",
      "Saved node_dist distribution data to /home/cwfparsonson/Insync/zciccwf@ucl.ac.uk/OneDriveBiz/ipes_cdt/phd_project/projects/trafpy/trafpy/benchmarker/versions/benchmark_v001/data/rack_sensitivity_08/\n",
      "Saved flow_size_dist distribution data to /home/cwfparsonson/Insync/zciccwf@ucl.ac.uk/OneDriveBiz/ipes_cdt/phd_project/projects/trafpy/trafpy/benchmarker/versions/benchmark_v001/data/rack_sensitivity_08/\n",
      "Saved interarrival_time_dist distribution data to /home/cwfparsonson/Insync/zciccwf@ucl.ac.uk/OneDriveBiz/ipes_cdt/phd_project/projects/trafpy/trafpy/benchmarker/versions/benchmark_v001/data/rack_sensitivity_08/\n",
      "Generating demand data for benchmark rack_sensitivity_08 load 0.1...\n"
     ]
    },
    {
     "name": "stderr",
     "output_type": "stream",
     "text": [
      "                                                                    \r"
     ]
    },
    {
     "name": "stdout",
     "output_type": "stream",
     "text": [
      "Packed 4450 flows in 2.2089240550994873 s.\n",
      "Time to save data to ../data/generate_multiple_benchmark_traffic_sets/set_1_benchmark_data/benchmark_rack_sensitivity_08_load_0.1.pickle: 0.10180234909057617 s\n",
      "Creating slots_dict database with slot_size 1000.0...\n",
      "Generated slot dict in 0.0085 s with slot size 1000.0 and total session time 43262.18499999797 for 4450 demands.\n",
      "Number of slots making up total session time: 45\n",
      "Number of these slots in which no new demands arrived: 2\n",
      "Fraction of the 45 total time slots from simulation start to finish in which no new demands arrive: 0.044\n",
      "Average number of demands arriving per time slot: 98.889\n",
      "Created slots_dict database in 0.0448460578918457 s\n",
      "Generated 'rack_sensitivity_08' demands for load 1 of 4 in 2.875056028366089 seconds.\n",
      "Generating demand data for benchmark rack_sensitivity_08 load 0.2...\n"
     ]
    },
    {
     "name": "stderr",
     "output_type": "stream",
     "text": [
      "                                                                    \r"
     ]
    },
    {
     "name": "stdout",
     "output_type": "stream",
     "text": [
      "Packed 4450 flows in 2.1339192390441895 s.\n",
      "Time to save data to ../data/generate_multiple_benchmark_traffic_sets/set_1_benchmark_data/benchmark_rack_sensitivity_08_load_0.2.pickle: 0.10098600387573242 s\n",
      "Creating slots_dict database with slot_size 1000.0...\n",
      "Generated slot dict in 0.0084 s with slot size 1000.0 and total session time 27561.315499999284 for 4450 demands.\n",
      "Number of slots making up total session time: 29\n",
      "Number of these slots in which no new demands arrived: 1\n",
      "Fraction of the 29 total time slots from simulation start to finish in which no new demands arrive: 0.034\n",
      "Average number of demands arriving per time slot: 153.448\n",
      "Created slots_dict database in 0.04022669792175293 s\n",
      "Generated 'rack_sensitivity_08' demands for load 2 of 4 in 2.8100943565368652 seconds.\n",
      "Generating demand data for benchmark rack_sensitivity_08 load 0.3...\n"
     ]
    },
    {
     "name": "stderr",
     "output_type": "stream",
     "text": [
      "                                                                    \r"
     ]
    },
    {
     "name": "stdout",
     "output_type": "stream",
     "text": [
      "Packed 4450 flows in 2.1861681938171387 s.\n",
      "Time to save data to ../data/generate_multiple_benchmark_traffic_sets/set_1_benchmark_data/benchmark_rack_sensitivity_08_load_0.3.pickle: 0.10334610939025879 s\n",
      "Creating slots_dict database with slot_size 1000.0...\n",
      "Generated slot dict in 0.055 s with slot size 1000.0 and total session time 14831.95683333334 for 4450 demands.\n",
      "Number of slots making up total session time: 16\n",
      "Number of these slots in which no new demands arrived: 1\n",
      "Fraction of the 16 total time slots from simulation start to finish in which no new demands arrive: 0.062\n",
      "Average number of demands arriving per time slot: 278.125\n",
      "Created slots_dict database in 0.08539509773254395 s\n",
      "Generated 'rack_sensitivity_08' demands for load 3 of 4 in 2.869316816329956 seconds.\n",
      "Generating demand data for benchmark rack_sensitivity_08 load 0.4...\n"
     ]
    },
    {
     "name": "stderr",
     "output_type": "stream",
     "text": [
      "                                                                    \r"
     ]
    },
    {
     "name": "stdout",
     "output_type": "stream",
     "text": [
      "Packed 4450 flows in 2.146083116531372 s.\n",
      "Time to save data to ../data/generate_multiple_benchmark_traffic_sets/set_1_benchmark_data/benchmark_rack_sensitivity_08_load_0.4.pickle: 0.1027841567993164 s\n",
      "Creating slots_dict database with slot_size 1000.0...\n",
      "Generated slot dict in 0.0094 s with slot size 1000.0 and total session time 10049.862749999986 for 4450 demands.\n",
      "Number of slots making up total session time: 12\n",
      "Number of these slots in which no new demands arrived: 1\n",
      "Fraction of the 12 total time slots from simulation start to finish in which no new demands arrive: 0.083\n",
      "Average number of demands arriving per time slot: 370.833\n",
      "Created slots_dict database in 0.0386357307434082 s\n",
      "Generated 'rack_sensitivity_08' demands for load 4 of 4 in 2.8203325271606445 seconds.\n",
      "Generated demands for benchmark 'rack_sensitivity_08' in 27.1573326587677 seconds.\n",
      "Generated all benchmarks in 136.3916130065918 seconds.\n"
     ]
    }
   ],
   "source": [
    "for _set in range(2):\n",
    "    path_to_save = '../data/generate_multiple_benchmark_traffic_sets/set_{}_benchmark_data'.format(_set)\n",
    "    Path(path_to_save).mkdir(exist_ok=True, parents=True)\n",
    "    benchmark_demands = gen_benchmark_demands(path_to_save=path_to_save,\n",
    "                                              load_prev_dists=False,\n",
    "                                              overwrite=False)"
   ]
  },
  {
   "cell_type": "code",
   "execution_count": null,
   "metadata": {},
   "outputs": [],
   "source": []
  }
 ],
 "metadata": {
  "kernelspec": {
   "display_name": "deep_scheduler",
   "language": "python",
   "name": "deep_scheduler"
  },
  "language_info": {
   "codemirror_mode": {
    "name": "ipython",
    "version": 3
   },
   "file_extension": ".py",
   "mimetype": "text/x-python",
   "name": "python",
   "nbconvert_exporter": "python",
   "pygments_lexer": "ipython3",
   "version": "3.7.7"
  }
 },
 "nbformat": 4,
 "nbformat_minor": 4
}
