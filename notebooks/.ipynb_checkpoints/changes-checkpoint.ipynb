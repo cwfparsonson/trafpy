{
 "cells": [
  {
   "cell_type": "markdown",
   "metadata": {},
   "source": [
    "# Changes to TrafPy functions used by Joshua\n",
    "\n",
    "- `trafpy.generator.gen_arbitrary_network()` had an argument `server_to_rack_channel_capacity`. This has been renamed to `ep_capacity`.\n",
    "- All `bidirectional_links` arguments have been removed from `TrafPy`, since `TrafPy` will always assume links are bidirectional.\n",
    "- `BenchmarkImporter()` argument `benchmark_version` changed from `benchmark_version='0.0.1'` to `benchmark_version='v001'`"
   ]
  },
  {
   "cell_type": "code",
   "execution_count": null,
   "metadata": {},
   "outputs": [],
   "source": []
  }
 ],
 "metadata": {
  "kernelspec": {
   "display_name": "deep_scheduler",
   "language": "python",
   "name": "deep_scheduler"
  },
  "language_info": {
   "codemirror_mode": {
    "name": "ipython",
    "version": 3
   },
   "file_extension": ".py",
   "mimetype": "text/x-python",
   "name": "python",
   "nbconvert_exporter": "python",
   "pygments_lexer": "ipython3",
   "version": "3.7.7"
  }
 },
 "nbformat": 4,
 "nbformat_minor": 4
}
