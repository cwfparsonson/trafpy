{
 "cells": [
  {
   "cell_type": "code",
   "execution_count": null,
   "metadata": {},
   "outputs": [
    {
     "name": "stdout",
     "output_type": "stream",
     "text": [
      "The autoreload extension is already loaded. To reload it, use:\n",
      "  %reload_ext autoreload\n",
      "12800000.0\n"
     ]
    }
   ],
   "source": [
    "%load_ext autoreload\n",
    "%autoreload\n",
    "from trafpy.generator import Demand, DemandPlotter\n",
    "import trafpy.generator as tpg\n",
    "import time\n",
    "import copy\n",
    "from scipy.io import savemat\n",
    "\n",
    "\n",
    "sid = 1\n",
    "# set vars\n",
    "X = 4\n",
    "N = 64*X\n",
    "# path = r'Y:/Joshua/Traffic/'\n",
    "path = 'Y:/Joshua/Traffic/'\n",
    "endpoints = [str(i) for i in range(N)]\n",
    "\n",
    "min_num_demands = 100\n",
    "min_last_demand_arrival_time = 250\n",
    "jensen_shannon_distance_threshold = 0.1\n",
    "# loads = [0.1,0.2,0.3,0.4,0.5,0.6,0.7,0.8,0.9]\n",
    "loads = [0.9]\n",
    "jensen_shannon_distance_threshold = 0.1\n",
    "NUM_DEMANDS_FACTOR = 5\n",
    "\n",
    "sk_nd = [0, 0.25,0.5,0.75, 0.5625,0.8125,0.3125, 0.5625,0.8125]\n",
    "sk_pr = [1, 0.64,0.64,0.64,0.16,0.16,0.32,0.32,0.32]\n",
    "\n",
    "SN = sk_nd[sid-1]\n",
    "SK = sk_pr[sid-1]\n",
    "# num_skewed_nodes=int(len(endpoints)*SN)\n",
    "\n",
    "# init network\n",
    "net = tpg.gen_arbitrary_network(ep_label=None, num_eps=N, ep_capacity=100000)\n",
    "print(net.graph['max_nw_capacity'])\n",
    "\n",
    "# set any distributions you want to keep constant for all sets\n",
    "flow_size_dist, _ = tpg.gen_named_val_dist(dist='weibull',\n",
    "                                        params={'_alpha': 4.8, '_lambda': 4100},\n",
    "                                        return_data=False,\n",
    "                                        show_fig=True,\n",
    "                                        round_to_nearest=1)\n",
    "\n",
    "interarrival_time_dist = {0.125:1}\n",
    "\n",
    "# node_dist = tpg.gen_uniform_node_dist(eps=net.graph['endpoints'],\n",
    "#                                          show_fig=False)    \n",
    "\n",
    "print(f'net.graph endpoint types: {type(net.graph[\"endpoints\"][0])}')\n",
    "# raise Exception()\n",
    "node_dist, _ = tpg.gen_multimodal_node_dist(eps=net.graph['endpoints'],\n",
    "                                         skewed_nodes=[],\n",
    "                                         skewed_node_probs=[SK/(SN*N) for _ in range(int(SN*N))],\n",
    "                                         # show_fig=False,\n",
    "                                         show_fig=True,\n",
    "                                         num_skewed_nodes=int(SN*N))"
   ]
  },
  {
   "cell_type": "code",
   "execution_count": null,
   "metadata": {},
   "outputs": [],
   "source": [
    "%load_ext autoreload\n",
    "%autoreload\n",
    "\n",
    "\n",
    "for load in loads:\n",
    "    print('Generating load {}...'.format(load))\n",
    "    \n",
    "    start = time.time()\n",
    "    \n",
    "    network_load_config = {'network_rate_capacity': net.graph['max_nw_capacity'], \n",
    "                           'ep_link_capacity': net.graph['ep_link_capacity'],\n",
    "                           'target_load_fraction': load}\n",
    "    flow_centric_demand_data = tpg.create_demand_data(eps=net.graph['endpoints'],\n",
    "                                                      node_dist=node_dist,\n",
    "                                                      flow_size_dist=flow_size_dist,\n",
    "                                                      interarrival_time_dist=interarrival_time_dist,\n",
    "                                                      network_load_config=network_load_config,\n",
    "                                                      jensen_shannon_distance_threshold=jensen_shannon_distance_threshold,\n",
    "                                                      min_num_demands=min_num_demands,\n",
    "                                                      min_last_demand_arrival_time=min_last_demand_arrival_time,\n",
    "                                                      check_dont_exceed_one_ep_load=True,\n",
    "                                                      auto_node_dist_correction=True,\n",
    "                                                      print_data=True)\n",
    "\n",
    "    demand = Demand(flow_centric_demand_data, net.graph['endpoints'])\n",
    "    plotter = DemandPlotter(demand)\n",
    "    plotter.plot_node_dist(eps=net.graph['endpoints'])\n",
    "    plotter.plot_node_load_dists(eps=net.graph['endpoints'], ep_link_bandwidth=net.graph['ep_link_capacity'])\n",
    "    \n",
    "    # save generated demands\n",
    "    # savemat(\"custom/uniform/load{}_N{}_matlab_matrix.mat\".format(load, N), flow_centric_demand_data)\n",
    "    \n",
    "    end = time.time()\n",
    "    print('Generated load {} in {} seconds.'.format(load, end-start))"
   ]
  },
  {
   "cell_type": "code",
   "execution_count": null,
   "metadata": {},
   "outputs": [],
   "source": [
    "print(end-start)"
   ]
  },
  {
   "cell_type": "code",
   "execution_count": null,
   "metadata": {},
   "outputs": [],
   "source": []
  },
  {
   "cell_type": "code",
   "execution_count": null,
   "metadata": {},
   "outputs": [],
   "source": []
  }
 ],
 "metadata": {
  "interpreter": {
   "hash": "23903bd851df4d826ddb2429bdec7017dbde446d3846fb514f01e033591bf687"
  },
  "kernelspec": {
   "display_name": "trafpy",
   "language": "python",
   "name": "deep_scheduler"
  },
  "language_info": {
   "codemirror_mode": {
    "name": "ipython",
    "version": 3
   },
   "file_extension": ".py",
   "mimetype": "text/x-python",
   "name": "python",
   "nbconvert_exporter": "python",
   "pygments_lexer": "ipython3",
   "version": "3.8.3"
  }
 },
 "nbformat": 4,
 "nbformat_minor": 4
}
