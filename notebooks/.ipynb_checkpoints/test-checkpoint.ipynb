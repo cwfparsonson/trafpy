{
 "cells": [
  {
   "cell_type": "code",
   "execution_count": 1,
   "metadata": {
    "scrolled": true
   },
   "outputs": [
    {
     "name": "stdout",
     "output_type": "stream",
     "text": [
      "Demand config file imported.\n"
     ]
    }
   ],
   "source": [
    "%load_ext autoreload\n",
    "import trafpy.generator as tpg\n",
    "import config"
   ]
  },
  {
   "cell_type": "markdown",
   "metadata": {},
   "source": [
    "## Node Distributions"
   ]
  },
  {
   "cell_type": "code",
   "execution_count": null,
   "metadata": {
    "scrolled": false
   },
   "outputs": [],
   "source": [
    "%autoreload\n",
    "_ = tpg.gen_uniform_node_dist(config.ENDPOINT_LABELS, show_fig=True, print_data=True)\n",
    "_ = tpg.gen_uniform_multinomial_exp_node_dist(config.ENDPOINT_LABELS, show_fig=True, print_data=True)\n",
    "_ = tpg.gen_multimodal_node_dist(config.ENDPOINT_LABELS, show_fig=True, print_data=True)\n",
    "_ = tpg.gen_multimodal_node_pair_dist(config.ENDPOINT_LABELS, show_fig=True, print_data=True)"
   ]
  },
  {
   "cell_type": "markdown",
   "metadata": {},
   "source": [
    "## Value Distributions"
   ]
  },
  {
   "cell_type": "code",
   "execution_count": null,
   "metadata": {
    "scrolled": false
   },
   "outputs": [],
   "source": [
    "%autoreload\n",
    "_ = tpg.gen_uniform_val_dist(min_val=0,\n",
    "                             max_val=100,\n",
    "                             round_to_nearest=1,\n",
    "                             show_fig=True,\n",
    "                             print_data=False,\n",
    "                             num_bins=101)\n",
    "\n",
    "_ = tpg.gen_multimodal_val_dist(min_val=10,\n",
    "                               max_val=7000,\n",
    "                               locations=[20,4000],\n",
    "                               skews=[6,-1],\n",
    "                               scales=[150,1500],\n",
    "                               num_skew_samples=[10000,650],\n",
    "                               bg_factor=0.05,\n",
    "                               show_fig=True,\n",
    "                               print_data=False,\n",
    "                               logscale=True,\n",
    "                               xlim=[10,10000],\n",
    "                               num_bins=18)\n",
    "\n",
    "_ = tpg.gen_named_val_dist(dist='weibull',\n",
    "                          params={'_alpha': 1.4, '_lambda': 7000},\n",
    "                          rand_var_name='Flow Size (Bytes)',\n",
    "                          show_fig=True,\n",
    "                          print_data=False,\n",
    "                          logscale=True,\n",
    "                          num_bins=100,\n",
    "                          xlim=[1e2,1e12])"
   ]
  },
  {
   "cell_type": "markdown",
   "metadata": {},
   "source": [
    "## Generating Job-Centric Demand Data"
   ]
  },
  {
   "cell_type": "code",
   "execution_count": null,
   "metadata": {
    "scrolled": false
   },
   "outputs": [],
   "source": [
    "%autoreload\n",
    "# UNIFORM\n",
    "node_dist, _ = tpg.gen_uniform_node_dist(config.ENDPOINT_LABELS, show_fig=True, print_data=False)\n",
    "\n",
    "flow_size_dist, _ = tpg.gen_multimodal_val_dist(config.MIN_FLOW_SIZE,\n",
    "                                            config.MAX_FLOW_SIZE,\n",
    "                                            locations=[50],\n",
    "                                            skews=[0],\n",
    "                                            scales=[10],\n",
    "                                            num_skew_samples=[10000],\n",
    "                                            bg_factor=0,\n",
    "                                            round_to_nearest=1,\n",
    "                                            show_fig=True,\n",
    "                                            num_bins=34,\n",
    "                                            print_data=False)\n",
    "\n",
    "# interarrival_time_dist, _ = tpg.gen_multimodal_val_dist(config.MIN_INTERARRIVAL,\n",
    "#                                                     config.MAX_INTERARRIVAL,\n",
    "#                                                     locations=[1, 1, 3000, 1, 1800000, 10000000],\n",
    "#                                                     skews=[0, 100, -10, 10, 50, 6],\n",
    "#                                                     scales=[0.1, 62, 2000, 7500, 3500000, 20000000],\n",
    "#                                                     num_skew_samples=[800, 1000, 2000, 4000, 4000, 3000],\n",
    "#                                                     bg_factor=0.025,\n",
    "#                                                     round_to_nearest=1,\n",
    "#                                                     show_fig=True,\n",
    "#                                                     print_data=False)\n",
    "interarrival_time_dist, _ = tpg.gen_named_val_dist(dist='lognormal',\n",
    "                                               params={'_mu': 7.4, '_sigma': 2},\n",
    "                                               show_fig=True,\n",
    "                                               print_data=False,\n",
    "                                               logscale=True,\n",
    "                                               xlim=[1e1,1e6])\n",
    "\n",
    "num_ops_dist, _ = tpg.gen_multimodal_val_dist(config.MIN_NUM_OPS,\n",
    "                                              config.MAX_NUM_OPS,\n",
    "                                              locations=[100],\n",
    "                                              skews=[0.05],\n",
    "                                              scales=[50],\n",
    "                                              num_skew_samples=[10000],\n",
    "                                              bg_factor=0.05,\n",
    "                                              round_to_nearest=1,\n",
    "                                              show_fig=True,\n",
    "                                              print_data=False)\n",
    "\n",
    "\n",
    "job_centric_demand_data = tpg.create_demand_data(num_demands=config.NUM_DEMANDS,\n",
    "                                                eps=config.ENDPOINT_LABELS,\n",
    "                                                node_dist=node_dist,\n",
    "                                                flow_size_dist=flow_size_dist,\n",
    "                                                interarrival_time_dist=interarrival_time_dist,\n",
    "                                                num_ops_dist=num_ops_dist,\n",
    "                                                c=config.C,\n",
    "                                                use_multiprocessing=False,\n",
    "                                                print_data=True)\n",
    "print('Job data:\\n{}'.format(job_centric_demand_data))\n",
    "\n",
    "jobs = list(job_centric_demand_data['job'][0:2])\n",
    "fig = tpg.draw_job_graphs(job_graphs=jobs,show_fig=True)"
   ]
  },
  {
   "cell_type": "code",
   "execution_count": null,
   "metadata": {
    "scrolled": false
   },
   "outputs": [],
   "source": [
    "%autoreload\n",
    "jobs = list(job_centric_demand_data['job'][0:2])\n",
    "fig = tpg.draw_job_graphs(job_graphs=jobs,show_fig=True)"
   ]
  },
  {
   "cell_type": "markdown",
   "metadata": {},
   "source": [
    "## Generating Flow-Centric Demand Data"
   ]
  },
  {
   "cell_type": "code",
   "execution_count": 32,
   "metadata": {
    "scrolled": false
   },
   "outputs": [
    {
     "data": {
      "image/png": "[encoded data removed]",
      "text/plain": [
       "<Figure size 288x288 with 2 Axes>"
      ]
     },
     "metadata": {},
     "output_type": "display_data"
    },
    {
     "name": "stderr",
     "output_type": "stream",
     "text": [
      "*c* argument looks like a single numeric RGB or RGBA sequence, which should be avoided as value-mapping will have precedence in case its length matches with *x* & *y*.  Please use the *color* keyword-argument or provide a 2-D array with a single row if you intend to specify the same RGB or RGBA value for all points.\n",
      "*c* argument looks like a single numeric RGB or RGBA sequence, which should be avoided as value-mapping will have precedence in case its length matches with *x* & *y*.  Please use the *color* keyword-argument or provide a 2-D array with a single row if you intend to specify the same RGB or RGBA value for all points.\n"
     ]
    },
    {
     "data": {
      "image/png": "[encoded data removed]",
      "text/plain": [
       "<Figure size 432x288 with 1 Axes>"
      ]
     },
     "metadata": {},
     "output_type": "display_data"
    },
    {
     "data": {
      "image/png": "[encoded data removed]",
      "text/plain": [
       "<Figure size 432x288 with 1 Axes>"
      ]
     },
     "metadata": {},
     "output_type": "display_data"
    },
    {
     "name": "stderr",
     "output_type": "stream",
     "text": [
      "*c* argument looks like a single numeric RGB or RGBA sequence, which should be avoided as value-mapping will have precedence in case its length matches with *x* & *y*.  Please use the *color* keyword-argument or provide a 2-D array with a single row if you intend to specify the same RGB or RGBA value for all points.\n",
      "*c* argument looks like a single numeric RGB or RGBA sequence, which should be avoided as value-mapping will have precedence in case its length matches with *x* & *y*.  Please use the *color* keyword-argument or provide a 2-D array with a single row if you intend to specify the same RGB or RGBA value for all points.\n"
     ]
    },
    {
     "data": {
      "image/png": "[encoded data removed]",
      "text/plain": [
       "<Figure size 432x288 with 1 Axes>"
      ]
     },
     "metadata": {},
     "output_type": "display_data"
    },
    {
     "data": {
      "image/png": "[encoded data removed]",
      "text/plain": [
       "<Figure size 432x288 with 1 Axes>"
      ]
     },
     "metadata": {},
     "output_type": "display_data"
    }
   ],
   "source": [
    "%autoreload\n",
    "from trafpy.generator import Demand, DemandPlotter\n",
    "import numpy as np\n",
    "import copy\n",
    "\n",
    "# node_dist, _ = tpg.gen_uniform_node_dist(config.ENDPOINT_LABELS, show_fig=True, print_data=False)\n",
    "# UNIVERSITY\n",
    "num_skewed_nodes = int(0.2 * len(config.ENDPOINT_LABELS))\n",
    "skewed_node_probs = [0.55/num_skewed_nodes for _ in range(num_skewed_nodes)]\n",
    "net = tpg.gen_fat_tree(k=3, N=2, num_channels=1, server_to_rack_channel_capacity=500, rack_to_edge_channel_capacity=10000, edge_to_agg_channel_capacity=40000, agg_to_core_channel_capacity=40000, bidirectional_links=True)\n",
    "racks_dict = net.graph['rack_to_ep_dict']\n",
    "rack_prob_config = {'racks_dict': racks_dict, 'prob_inter_rack': 0.7}\n",
    "node_dist, _ = tpg.gen_multimodal_node_dist(config.ENDPOINT_LABELS, rack_prob_config=rack_prob_config, num_skewed_nodes=num_skewed_nodes, skewed_node_probs=skewed_node_probs, show_fig=True, print_data=False)\n",
    "\n",
    "\n",
    "# flow_size_dist, _ = tpg.gen_named_val_dist(dist='lognormal',\n",
    "#                                               params={'_mu': 7, '_sigma': 2.5},\n",
    "#                                               min_val=1,\n",
    "#                                               round_to_nearest=1,\n",
    "#                                               show_fig=True,\n",
    "#                                               logscale=True,\n",
    "#                                               num_bins=32,\n",
    "#                                               print_data=False)\n",
    "flow_size_dist = tpg.gen_named_val_dist(dist='lognormal',\n",
    "                                          params={'_mu': 7, '_sigma': 2.5},\n",
    "                                          min_val=1,\n",
    "                                          round_to_nearest=1,\n",
    "                                          show_fig=False,\n",
    "                                          print_data=False)\n",
    "# flow_size_dist, _ = tpg.gen_multimodal_val_dist(config.MIN_FLOW_SIZE,\n",
    "#                                             config.MAX_FLOW_SIZE,\n",
    "#                                             locations=[50],\n",
    "#                                             skews=[0],\n",
    "#                                             scales=[10],\n",
    "#                                             num_skew_samples=[10000],\n",
    "#                                             bg_factor=0,\n",
    "#                                             round_to_nearest=1,\n",
    "#                                             show_fig=True,\n",
    "#                                             num_bins=34,\n",
    "#                                             print_data=False)\n",
    "\n",
    "interarrival_time_dist = tpg.gen_named_val_dist(dist='weibull',\n",
    "                                                  params={'_alpha': 0.9, '_lambda': 6000},\n",
    "                                                  show_fig=False,\n",
    "                                                  min_val=1,\n",
    "                                                  round_to_nearest=1,\n",
    "                                                  print_data=False)\n",
    "# interarrival_time_dist, _ = tpg.gen_named_val_dist(dist='lognormal',\n",
    "#                                                params={'_mu': 7.4, '_sigma': 2},\n",
    "#                                                show_fig=True,\n",
    "#                                                print_data=False,\n",
    "#                                                logscale=True,\n",
    "#                                                num_bins=20,\n",
    "#                                                xlim=[1e1,1e6])\n",
    "\n",
    "flow_sizes = tpg.gen_rand_vars_from_discretised_dist(unique_vars=list(flow_size_dist.keys()),\n",
    "                                                     probabilities=list(flow_size_dist.values()),\n",
    "                                                     num_demands=10,\n",
    "                                                     jensen_shannon_distance_threshold=0.05,\n",
    "                                                     show_fig=True,\n",
    "                                                     logscale=True,\n",
    "                                                     xlabel='Flow Size')\n",
    "\n",
    "interarrival_times = tpg.gen_rand_vars_from_discretised_dist(unique_vars=list(interarrival_time_dist.keys()),\n",
    "                                                             probabilities=list(interarrival_time_dist.values()),\n",
    "                                                             num_demands=10,\n",
    "                                                             jensen_shannon_distance_threshold=0.05,\n",
    "                                                             show_fig=True,\n",
    "                                                             logscale=False,\n",
    "                                                             xlabel='Interarrival Time')\n"
   ]
  },
  {
   "cell_type": "code",
   "execution_count": null,
   "metadata": {},
   "outputs": [],
   "source": [
    "%autoreload\n",
    "for load in np.arange(0.1, 1.0, 0.1):\n",
    "    network_load_config = {'network_rate_capacity': net.graph['max_nw_capacity'], \n",
    "                               'ep_link_capacity': net.graph['ep_link_capacity'],\n",
    "                               'target_load_fraction': load,\n",
    "                               'disable_timeouts': True}\n",
    "\n",
    "    flow_centric_demand_data = tpg.create_demand_data(eps=config.ENDPOINT_LABELS,\n",
    "                                                      node_dist=copy.deepcopy(node_dist),\n",
    "                                                      flow_size_dist=flow_size_dist,\n",
    "                                                      interarrival_time_dist=interarrival_time_dist,\n",
    "                                                      network_load_config=network_load_config,\n",
    "                                                      min_last_demand_arrival_time=None,\n",
    "                                                      auto_node_dist_correction=True,\n",
    "                                                      print_data=True)\n",
    "\n",
    "    # print('Flow data:\\n{}'.format(flow_centric_demand_data))\n",
    "    demand = Demand(flow_centric_demand_data, net.graph['endpoints'])\n",
    "    plotter = DemandPlotter(demand)\n",
    "    plotter.plot_node_dist(eps=net.graph['endpoints'])\n",
    "    plotter.plot_node_load_dists(eps=net.graph['endpoints'], ep_link_bandwidth=net.graph['ep_link_capacity'])"
   ]
  },
  {
   "cell_type": "markdown",
   "metadata": {},
   "source": [
    "## Organise into Slots Dict"
   ]
  },
  {
   "cell_type": "code",
   "execution_count": null,
   "metadata": {
    "scrolled": false
   },
   "outputs": [],
   "source": [
    "# DO THIS INTERNALLY IN DEMAND OBJECT WHEN PASS DEMAND INTO ENV\n",
    "\n",
    "# slot_size = 100000\n",
    "\n",
    "# job_centric_slot_dict = tpg.construct_demand_slots_dict(demand_data=job_centric_demand_data,\n",
    "#                                                        slot_size=slot_size)\n",
    "# # print('\\n\\nJob slot dict:\\n{}'.format(job_centric_slot_dict))\n",
    "\n",
    "\n",
    "# flow_centric_slot_dict = tpg.construct_demand_slots_dict(demand_data=flow_centric_demand_data,\n",
    "#                                                         slot_size=slot_size)\n",
    "# # print('\\n\\nFlow slot dict:\\n{}'.format(flow_centric_slot_dict))\n"
   ]
  },
  {
   "cell_type": "markdown",
   "metadata": {},
   "source": [
    "## Save Demand Data"
   ]
  },
  {
   "cell_type": "code",
   "execution_count": null,
   "metadata": {
    "scrolled": false
   },
   "outputs": [],
   "source": [
    "%autoreload\n",
    "tpg.pickle_data(data=flow_centric_demand_data,\n",
    "               path_to_save='data/flow_centric_demand_data.pickle',\n",
    "               overwrite=True,\n",
    "               zip_data=True)\n",
    "\n",
    "tpg.pickle_data(path_to_save='data/job_centric_demand_data.pickle',\n",
    "               data=job_centric_demand_data,\n",
    "               overwrite=True,\n",
    "               zip_data=True)"
   ]
  },
  {
   "cell_type": "markdown",
   "metadata": {},
   "source": [
    "## Load Demand Data"
   ]
  },
  {
   "cell_type": "code",
   "execution_count": null,
   "metadata": {
    "scrolled": false
   },
   "outputs": [],
   "source": [
    "%autoreload\n",
    "flow_centric_demand_data = tpg.unpickle_data(path_to_load='data/flow_centric_demand_data.pickle',\n",
    "                                             zip_data=True)\n",
    "job_centric_demand_data = tpg.unpickle_data(path_to_load='data/job_centric_demand_data.pickle',\n",
    "                                             zip_data=True)"
   ]
  },
  {
   "cell_type": "markdown",
   "metadata": {},
   "source": [
    "## Plot Demand Data"
   ]
  },
  {
   "cell_type": "code",
   "execution_count": null,
   "metadata": {
    "scrolled": false
   },
   "outputs": [],
   "source": [
    "%autoreload\n",
    "import trafpy.generator as tpg\n",
    "import config\n",
    "\n",
    "job_centric_demand_data = tpg.unpickle_data(path_to_load='data/job_centric_demand_data.pickle',\n",
    "                                            zip_data=True)\n",
    "\n",
    "\n",
    "dep_stats = tpg.get_job_demand_data_dependency_stats(job_centric_demand_data)\n",
    "\n",
    "# get dependency stats\n",
    "flow_sizes = []\n",
    "for job_id in dep_stats.keys():\n",
    "    for dep in dep_stats[job_id]:\n",
    "        if dep['attr_dict']['dependency_type'] == 'data_dep' and dep['attr_dict']['flow_size'] != 0:\n",
    "            flow_sizes.append(dep['attr_dict']['flow_size'])\n",
    "# get job stats\n",
    "num_ops = []\n",
    "num_edges = []\n",
    "for idx in range(len(job_centric_demand_data['job_id'])):\n",
    "    establish = job_centric_demand_data['establish'][idx]\n",
    "    if establish == 0:\n",
    "        # take down, ignore\n",
    "        pass\n",
    "    else:\n",
    "        # connection\n",
    "        job = job_centric_demand_data['job'][idx]\n",
    "        num_ops.append(job.number_of_nodes())\n",
    "        num_edges.append(job.number_of_edges())\n",
    "# use multiprocessing for graph diameters\n",
    "diameters = tpg.calc_graph_diameters(job_centric_demand_data['job'],multiprocessing_type='pool')\n",
    "\n",
    "# plot\n",
    "_ = tpg.draw_job_graphs(job_centric_demand_data,show_fig=True)\n",
    "_ = tpg.plot_val_dist(flow_sizes, \n",
    "                      show_fig=True,\n",
    "                      rand_var_name='Flow Sizes',\n",
    "                      num_bins=0)\n",
    "_ = tpg.plot_val_dist(num_ops, \n",
    "                      show_fig=True,\n",
    "                      rand_var_name='Num Ops',\n",
    "                      num_bins=10)\n",
    "_ = tpg.plot_val_dist(num_edges, \n",
    "                      show_fig=True,\n",
    "                      rand_var_name='Num Edges',\n",
    "                      num_bins=10)\n",
    "_ = tpg.plot_val_dist(diameters, \n",
    "                      show_fig=True,\n",
    "                      rand_var_name='Diameters',\n",
    "                      num_bins=10)\n",
    "\n",
    "\n",
    "\n",
    "# problem: last 2 bins/hists being combined into single bar so get peak and get one bar removed"
   ]
  },
  {
   "cell_type": "markdown",
   "metadata": {},
   "source": [
    "## Creating Manager Objects & Running Simulation"
   ]
  },
  {
   "cell_type": "code",
   "execution_count": null,
   "metadata": {
    "scrolled": false
   },
   "outputs": [],
   "source": [
    "%load_ext autoreload\n",
    "import trafpy.generator as tpg\n",
    "from trafpy.generator import Demand\n",
    "from trafpy.manager import RWA, SRPT, DCN, EnvAnalyser\n",
    "import config\n",
    "import os"
   ]
  },
  {
   "cell_type": "code",
   "execution_count": null,
   "metadata": {
    "scrolled": false
   },
   "outputs": [],
   "source": [
    "# load prev saved demand data\n",
    "%autoreload\n",
    "import trafpy\n",
    "import json\n",
    "\n",
    "\n",
    "path_to_benchmark_data = os.path.dirname(trafpy.__file__)+'/../data/benchmark_data/university_chancap1_mldat6e7_benchmark_data.json'\n",
    "benchmark_data = json.loads(tpg.load_data_from_json(path_to_benchmark_data))\n",
    "benchmarks = list(benchmark_data.keys())\n",
    "demand_data_list = []\n",
    "\n",
    "for benchmark in benchmarks:\n",
    "    for load in benchmark_data[benchmark]:\n",
    "        for repeat in benchmark_data[benchmark][load]:\n",
    "            demand_data = benchmark_data[benchmark][load][repeat]\n",
    "            demand_data_list.append(demand_data)\n",
    "\n",
    "demand_data = demand_data_list[1]\n",
    "print(demand_data.keys())"
   ]
  },
  {
   "cell_type": "code",
   "execution_count": null,
   "metadata": {
    "scrolled": false
   },
   "outputs": [],
   "source": [
    "%autoreload\n",
    "# load demand data\n",
    "# demand_data = tpg.unpickle_data(path_to_load='data/flow_centric_demand_data.pickle',\n",
    "#                                 zip_data=True)\n",
    "# demand_data = flow_centric_demand_data\n",
    "# demand_data = job_centric_demand_data\n",
    "\n",
    "# init manager\n",
    "# network = tpg.gen_simple_network(ep_label=config.ENDPOINT_LABEL,num_channels=config.NUM_CHANNELS)\n",
    "network = tpg.gen_fat_tree(k=3, N=2, num_channels=1, server_to_rack_channel_capacity=1, rack_to_edge_channel_capacity=500, edge_to_agg_channel_capacity=500, agg_to_core_channel_capacity=500)\n",
    "demand = Demand(demand_data=demand_data)\n",
    "rwa = RWA(tpg.gen_channel_names(config.NUM_CHANNELS), config.NUM_K_PATHS)\n",
    "scheduler = SRPT(network, rwa, slot_size=config.SLOT_SIZE, packet_size=config.PACKET_SIZE)\n",
    "env = DCN(network, demand, scheduler, num_k_paths=config.NUM_K_PATHS, slot_size=config.SLOT_SIZE, max_flows=config.MAX_FLOWS, max_time=config.MAX_TIME)"
   ]
  },
  {
   "cell_type": "code",
   "execution_count": null,
   "metadata": {
    "scrolled": false
   },
   "outputs": [],
   "source": [
    "%autoreload\n",
    "# run simulation\n",
    "for episode in range(config.NUM_EPISODES):\n",
    "    print('\\nEpisode {}/{}'.format(episode+1,config.NUM_EPISODES))\n",
    "    observation = env.reset(config.LOAD_DEMANDS)\n",
    "    while True:\n",
    "        print('Time: {}'.format(env.curr_time))\n",
    "        action = scheduler.get_action(observation)\n",
    "        print('Action:\\n{}'.format(action))\n",
    "        observation, reward, done, info = env.step(action)\n",
    "        if done:\n",
    "            analyser = EnvAnalyser(env)\n",
    "            analyser.compute_metrics(print_summary=True)\n",
    "            break"
   ]
  },
  {
   "cell_type": "code",
   "execution_count": null,
   "metadata": {
    "scrolled": true
   },
   "outputs": [],
   "source": [
    "%autoreload\n",
    "print(env.demand.num_demands)\n",
    "# print(env.check_if_done())\n",
    "# print('Dropped flows: {}'.format(len(env.dropped_flows)))\n",
    "# print('Completed flows: {}'.format(len(env.completed_flows)))\n",
    "# print('Arrived flows: {}'.format(len(env.arrived_flows)))\n",
    "num_queued_flows, _ = env.calc_num_queued_flows_num_full_queues()\n",
    "\n",
    "print(len(env.network.graph['queued_jobs']))\n",
    "\n",
    "print(len(env.completed_jobs))\n",
    "print(len(env.arrived_job_dicts))\n",
    "print(env.arrived_job_dicts[0].keys())\n",
    "\n",
    "arr = [1, 1, 1, 2, 3, 4, 3, 1]\n",
    "a = {arr[i] for i in range(len(arr))}\n",
    "print(a)\n"
   ]
  },
  {
   "cell_type": "code",
   "execution_count": null,
   "metadata": {
    "scrolled": false
   },
   "outputs": [],
   "source": [
    "%autoreload\n",
    "import trafpy.generator as tpg\n",
    "from trafpy.manager import Demand, RWA, SRPT, DCN, EnvAnalyser\n",
    "import config\n",
    "\n",
    "# create demand data\n",
    "flow_size_dist = tpg.gen_named_val_dist(dist='weibull',\n",
    "                                        params={'_alpha': 1.4, '_lambda': 7000},\n",
    "                                        round_to_nearest=1)\n",
    "interarrival_time_dist = tpg.gen_named_val_dist(dist='lognormal',\n",
    "                                                params={'_mu': 7.4, '_sigma': 2},\n",
    "                                                round_to_nearest=1)\n",
    "# network = tpg.gen_simple_network(ep_label=config.ENDPOINT_LABEL,\n",
    "#                                  num_channels=config.NUM_CHANNELS)\n",
    "network = tpg.gen_fat_tree(ep_label=config.ENDPOINT_LABEL,\n",
    "                           num_channels=config.NUM_CHANNELS)\n",
    "node_dist = tpg.gen_multimodal_node_dist(eps=network.graph['endpoints'],\n",
    "                                         num_skewed_nodes=1)\n",
    "flow_centric_demand_data = tpg.create_demand_data(num_demands=config.NUM_DEMANDS,\n",
    "                                                  eps=network.graph['endpoints'],\n",
    "                                                  node_dist=node_dist,\n",
    "                                                  flow_size_dist=flow_size_dist,\n",
    "                                                  interarrival_time_dist=interarrival_time_dist)\n",
    "\n",
    "# init manager\n",
    "demand = Demand(demand_data=flow_centric_demand_data)\n",
    "rwa = RWA(tpg.gen_channel_names(config.NUM_CHANNELS),\n",
    "          config.NUM_K_PATHS)\n",
    "scheduler = SRPT(network, rwa, slot_size=config.SLOT_SIZE)\n",
    "env = DCN(network,\n",
    "          demand,\n",
    "          scheduler,\n",
    "          slot_size=config.SLOT_SIZE,\n",
    "          max_flows=config.MAX_FLOWS,\n",
    "          max_time=config.MAX_TIME)\n",
    "\n",
    "# run simulation\n",
    "for episode in range(config.NUM_EPISODES):\n",
    "    print('\\nEpisode {}/{}'.format(episode+1,config.NUM_EPISODES))\n",
    "    observation = env.reset(config.LOAD_DEMANDS)\n",
    "    while True:\n",
    "        print('Time: {}'.format(env.curr_time))\n",
    "        action = scheduler.get_action(observation)\n",
    "        print('Action:\\n{}'.format(action))\n",
    "        observation, reward, done, info = env.step(action)\n",
    "        if done:\n",
    "            analyser = EnvAnalyser(env)\n",
    "            analyser.compute_metrics(print_summary=True)\n",
    "            break"
   ]
  }
 ],
 "metadata": {
  "kernelspec": {
   "display_name": "deep_scheduler",
   "language": "python",
   "name": "deep_scheduler"
  },
  "language_info": {
   "codemirror_mode": {
    "name": "ipython",
    "version": 3
   },
   "file_extension": ".py",
   "mimetype": "text/x-python",
   "name": "python",
   "nbconvert_exporter": "python",
   "pygments_lexer": "ipython3",
   "version": "3.8.3"
  }
 },
 "nbformat": 4,
 "nbformat_minor": 4
}
