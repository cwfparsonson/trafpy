{
 "cells": [
  {
   "cell_type": "code",
   "execution_count": 1,
   "metadata": {
    "scrolled": false
   },
   "outputs": [],
   "source": [
    "%load_ext autoreload\n",
    "import trafpy\n",
    "import trafpy.generator as tpg\n",
    "\n",
    "import os\n",
    "import json\n",
    "import glob\n",
    "\n",
    "# load demand data\n",
    "# DATA_NAME = 'ndf50_mldat6e8_university'\n",
    "# DATA_NAME = 'social_media_cloud_k_4_L_2_n_4_chancap500_numchans1_mldat2e6_bidirectional'\n",
    "# DATA_NAME = 'pulse_university_mldatNone'\n",
    "DATA_NAME = 'university_k_4_L_2_n_4_chancap3125_numchans1_mldat2e6_bidirectional'\n",
    "\n",
    "\n",
    "\n",
    "# path_to_benchmark_data = '/scratch/datasets/trafpy/traces/flowcentric/{}_benchmark_data_v7.json'.format(DATA_NAME)\n",
    "path_to_benchmark_data = '/scratch/datasets/trafpy/traces/flowcentric/{}_benchmark_data'.format(DATA_NAME)\n",
    "if os.path.isdir(path_to_benchmark_data):\n",
    "    # data split into separate files in a directory\n",
    "    separate_files = True\n",
    "    # load paths to raw benchmark data\n",
    "    demand_data_list = glob.glob(path_to_benchmark_data + '/*.json')\n",
    "    \n",
    "else:\n",
    "    # all data stored in single file\n",
    "    separate_files = False\n",
    "    # load raw benchmark data\n",
    "    benchmark_data = json.loads(tpg.load_data_from_json(path_to_benchmark_data))\n",
    "\n",
    "# path_to_benchmark_data = '/scratch/datasets/trafpy/traces/flowcentric/{}_benchmark_data.pickle'.format(DATA_NAME)\n",
    "# benchmark_data = tpg.unpickle_data(path_to_benchmark_data)"
   ]
  },
  {
   "cell_type": "code",
   "execution_count": 2,
   "metadata": {
    "scrolled": true
   },
   "outputs": [],
   "source": [
    "%autoreload\n",
    "import glob\n",
    "\n",
    "if not separate_files:\n",
    "    # organise into list of demand_data dicts\n",
    "    benchmarks = list(benchmark_data.keys())\n",
    "    demand_data_list = []\n",
    "    loads = []\n",
    "    for benchmark in benchmarks:\n",
    "        for load in benchmark_data[benchmark]:\n",
    "            for repeat in benchmark_data[benchmark][load]:\n",
    "                demand_data = benchmark_data[benchmark][load][repeat]\n",
    "                demand_data_list.append(demand_data)\n",
    "                loads.append(load)\n",
    "    num_sets_of_demand_data = len(demand_data_list)\n",
    "    print('Number of sets of demand data: {}'.format(num_sets_of_demand_data))\n",
    "else:\n",
    "    # stored as separate files, already loaded into list of paths to these files\n",
    "    pass"
   ]
  },
  {
   "cell_type": "code",
   "execution_count": 3,
   "metadata": {},
   "outputs": [
    {
     "ename": "FileNotFoundError",
     "evalue": "[Errno 2] No such file or directory: '/scratch/datasets/trafpy/traces/flowcentric/university_k_4_L_2_n_4_chancap3125_numchans1_mldat2e6_bidirectional_benchmark_data/benchmark_university_load_0.7_repeat_0_slotsize_50.0_slots_dict.sqlite.json'",
     "output_type": "error",
     "traceback": [
      "\u001b[0;31m---------------------------------------------------------------------------\u001b[0m",
      "\u001b[0;31mFileNotFoundError\u001b[0m                         Traceback (most recent call last)",
      "\u001b[0;32m<ipython-input-3-00a9aa4ce94e>\u001b[0m in \u001b[0;36m<module>\u001b[0;34m\u001b[0m\n\u001b[1;32m     20\u001b[0m \u001b[0;32melse\u001b[0m\u001b[0;34m:\u001b[0m\u001b[0;34m\u001b[0m\u001b[0;34m\u001b[0m\u001b[0m\n\u001b[1;32m     21\u001b[0m     \u001b[0manalyser\u001b[0m \u001b[0;34m=\u001b[0m \u001b[0mDemandsAnalyser\u001b[0m\u001b[0;34m(\u001b[0m\u001b[0;34m*\u001b[0m\u001b[0mdemand_data_list\u001b[0m\u001b[0;34m,\u001b[0m \u001b[0mnet\u001b[0m\u001b[0;34m=\u001b[0m\u001b[0mnet\u001b[0m\u001b[0;34m.\u001b[0m\u001b[0mgraph\u001b[0m\u001b[0;34m[\u001b[0m\u001b[0;34m'endpoints'\u001b[0m\u001b[0;34m]\u001b[0m\u001b[0;34m,\u001b[0m \u001b[0mjob_centric\u001b[0m\u001b[0;34m=\u001b[0m\u001b[0;32mFalse\u001b[0m\u001b[0;34m)\u001b[0m\u001b[0;34m\u001b[0m\u001b[0;34m\u001b[0m\u001b[0m\n\u001b[0;32m---> 22\u001b[0;31m \u001b[0manalyser\u001b[0m\u001b[0;34m.\u001b[0m\u001b[0mcompute_metrics\u001b[0m\u001b[0;34m(\u001b[0m\u001b[0mprint_summary\u001b[0m\u001b[0;34m=\u001b[0m\u001b[0;32mTrue\u001b[0m\u001b[0;34m)\u001b[0m\u001b[0;34m\u001b[0m\u001b[0;34m\u001b[0m\u001b[0m\n\u001b[0m",
      "\u001b[0;32m~/phd_project/projects/trafpy/trafpy/generator/src/demand.py\u001b[0m in \u001b[0;36mcompute_metrics\u001b[0;34m(self, print_summary)\u001b[0m\n\u001b[1;32m    209\u001b[0m             \u001b[0mself\u001b[0m\u001b[0;34m.\u001b[0m\u001b[0m_compute_job_summary\u001b[0m\u001b[0;34m(\u001b[0m\u001b[0;34m)\u001b[0m\u001b[0;34m\u001b[0m\u001b[0;34m\u001b[0m\u001b[0m\n\u001b[1;32m    210\u001b[0m         \u001b[0;32melse\u001b[0m\u001b[0;34m:\u001b[0m\u001b[0;34m\u001b[0m\u001b[0;34m\u001b[0m\u001b[0m\n\u001b[0;32m--> 211\u001b[0;31m             \u001b[0mself\u001b[0m\u001b[0;34m.\u001b[0m\u001b[0m_compute_flow_summary\u001b[0m\u001b[0;34m(\u001b[0m\u001b[0;34m)\u001b[0m\u001b[0;34m\u001b[0m\u001b[0;34m\u001b[0m\u001b[0m\n\u001b[0m\u001b[1;32m    212\u001b[0m \u001b[0;34m\u001b[0m\u001b[0m\n\u001b[1;32m    213\u001b[0m         \u001b[0;32mif\u001b[0m \u001b[0mprint_summary\u001b[0m\u001b[0;34m:\u001b[0m\u001b[0;34m\u001b[0m\u001b[0;34m\u001b[0m\u001b[0m\n",
      "\u001b[0;32m~/phd_project/projects/trafpy/trafpy/generator/src/demand.py\u001b[0m in \u001b[0;36m_compute_flow_summary\u001b[0;34m(self)\u001b[0m\n\u001b[1;32m    228\u001b[0m             \u001b[0;32mif\u001b[0m \u001b[0mself\u001b[0m\u001b[0;34m.\u001b[0m\u001b[0mseparate_files\u001b[0m\u001b[0;34m:\u001b[0m\u001b[0;34m\u001b[0m\u001b[0;34m\u001b[0m\u001b[0m\n\u001b[1;32m    229\u001b[0m                 \u001b[0;31m# demand is currently a path, instantiate Demand object\u001b[0m\u001b[0;34m\u001b[0m\u001b[0;34m\u001b[0m\u001b[0;34m\u001b[0m\u001b[0m\n\u001b[0;32m--> 230\u001b[0;31m                 \u001b[0mdemand\u001b[0m \u001b[0;34m=\u001b[0m \u001b[0mDemand\u001b[0m\u001b[0;34m(\u001b[0m\u001b[0mdemand\u001b[0m\u001b[0;34m,\u001b[0m \u001b[0mself\u001b[0m\u001b[0;34m.\u001b[0m\u001b[0mkwargs\u001b[0m\u001b[0;34m[\u001b[0m\u001b[0;34m'net'\u001b[0m\u001b[0;34m]\u001b[0m\u001b[0;34m)\u001b[0m\u001b[0;34m\u001b[0m\u001b[0;34m\u001b[0m\u001b[0m\n\u001b[0m\u001b[1;32m    231\u001b[0m             \u001b[0mdemand\u001b[0m\u001b[0;34m.\u001b[0m\u001b[0manalyser\u001b[0m\u001b[0;34m.\u001b[0m\u001b[0mcompute_metrics\u001b[0m\u001b[0;34m(\u001b[0m\u001b[0mprint_summary\u001b[0m\u001b[0;34m=\u001b[0m\u001b[0;32mFalse\u001b[0m\u001b[0;34m)\u001b[0m\u001b[0;34m\u001b[0m\u001b[0;34m\u001b[0m\u001b[0m\n\u001b[1;32m    232\u001b[0m             \u001b[0mself\u001b[0m\u001b[0;34m.\u001b[0m\u001b[0msummary_dict\u001b[0m\u001b[0;34m[\u001b[0m\u001b[0;34m'Name'\u001b[0m\u001b[0;34m]\u001b[0m\u001b[0;34m.\u001b[0m\u001b[0mappend\u001b[0m\u001b[0;34m(\u001b[0m\u001b[0mdemand\u001b[0m\u001b[0;34m.\u001b[0m\u001b[0manalyser\u001b[0m\u001b[0;34m.\u001b[0m\u001b[0msubject_class_name\u001b[0m\u001b[0;34m)\u001b[0m\u001b[0;34m\u001b[0m\u001b[0;34m\u001b[0m\u001b[0m\n",
      "\u001b[0;32m~/phd_project/projects/trafpy/trafpy/generator/src/demand.py\u001b[0m in \u001b[0;36m__init__\u001b[0;34m(self, demand_data, eps, name)\u001b[0m\n\u001b[1;32m     32\u001b[0m         \u001b[0mself\u001b[0m\u001b[0;34m.\u001b[0m\u001b[0mname\u001b[0m \u001b[0;34m=\u001b[0m \u001b[0mname\u001b[0m\u001b[0;34m\u001b[0m\u001b[0;34m\u001b[0m\u001b[0m\n\u001b[1;32m     33\u001b[0m         \u001b[0;32mif\u001b[0m \u001b[0mtype\u001b[0m\u001b[0;34m(\u001b[0m\u001b[0mdemand_data\u001b[0m\u001b[0;34m)\u001b[0m \u001b[0;32mis\u001b[0m \u001b[0mstr\u001b[0m\u001b[0;34m:\u001b[0m\u001b[0;34m\u001b[0m\u001b[0;34m\u001b[0m\u001b[0m\n\u001b[0;32m---> 34\u001b[0;31m             \u001b[0mdemand_data\u001b[0m \u001b[0;34m=\u001b[0m \u001b[0mjson\u001b[0m\u001b[0;34m.\u001b[0m\u001b[0mloads\u001b[0m\u001b[0;34m(\u001b[0m\u001b[0mload_data_from_json\u001b[0m\u001b[0;34m(\u001b[0m\u001b[0mdemand_data\u001b[0m\u001b[0;34m,\u001b[0m \u001b[0mprint_times\u001b[0m\u001b[0;34m=\u001b[0m\u001b[0;32mFalse\u001b[0m\u001b[0;34m)\u001b[0m\u001b[0;34m)\u001b[0m\u001b[0;34m\u001b[0m\u001b[0;34m\u001b[0m\u001b[0m\n\u001b[0m\u001b[1;32m     35\u001b[0m         \u001b[0mself\u001b[0m\u001b[0;34m.\u001b[0m\u001b[0mreset\u001b[0m\u001b[0;34m(\u001b[0m\u001b[0mdemand_data\u001b[0m\u001b[0;34m)\u001b[0m\u001b[0;34m\u001b[0m\u001b[0;34m\u001b[0m\u001b[0m\n\u001b[1;32m     36\u001b[0m \u001b[0;34m\u001b[0m\u001b[0m\n",
      "\u001b[0;32m~/phd_project/projects/trafpy/trafpy/generator/src/tools.py\u001b[0m in \u001b[0;36mload_data_from_json\u001b[0;34m(path_to_load, print_times)\u001b[0m\n\u001b[1;32m    242\u001b[0m     \u001b[0;32melse\u001b[0m\u001b[0;34m:\u001b[0m\u001b[0;34m\u001b[0m\u001b[0;34m\u001b[0m\u001b[0m\n\u001b[1;32m    243\u001b[0m         \u001b[0mfilename\u001b[0m \u001b[0;34m=\u001b[0m \u001b[0mpath_to_load\u001b[0m\u001b[0;34m\u001b[0m\u001b[0;34m\u001b[0m\u001b[0m\n\u001b[0;32m--> 244\u001b[0;31m     \u001b[0;32mwith\u001b[0m \u001b[0mopen\u001b[0m\u001b[0;34m(\u001b[0m\u001b[0mfilename\u001b[0m\u001b[0;34m)\u001b[0m \u001b[0;32mas\u001b[0m \u001b[0mf\u001b[0m\u001b[0;34m:\u001b[0m\u001b[0;34m\u001b[0m\u001b[0;34m\u001b[0m\u001b[0m\n\u001b[0m\u001b[1;32m    245\u001b[0m         \u001b[0mdata\u001b[0m \u001b[0;34m=\u001b[0m \u001b[0mjson\u001b[0m\u001b[0;34m.\u001b[0m\u001b[0mloads\u001b[0m\u001b[0;34m(\u001b[0m\u001b[0mf\u001b[0m\u001b[0;34m.\u001b[0m\u001b[0mread\u001b[0m\u001b[0;34m(\u001b[0m\u001b[0;34m)\u001b[0m\u001b[0;34m)\u001b[0m\u001b[0;34m\u001b[0m\u001b[0;34m\u001b[0m\u001b[0m\n\u001b[1;32m    246\u001b[0m \u001b[0;34m\u001b[0m\u001b[0m\n",
      "\u001b[0;31mFileNotFoundError\u001b[0m: [Errno 2] No such file or directory: '/scratch/datasets/trafpy/traces/flowcentric/university_k_4_L_2_n_4_chancap3125_numchans1_mldat2e6_bidirectional_benchmark_data/benchmark_university_load_0.7_repeat_0_slotsize_50.0_slots_dict.sqlite.json'"
     ]
    }
   ],
   "source": [
    "# COMPUTE METRICS (NO PLOTTING -> FASTER)\n",
    "\n",
    "%autoreload\n",
    "import matplotlib.pyplot as plt\n",
    "plt.rcParams.update({'figure.max_open_warning': 0}) # disable warnings\n",
    "from trafpy.generator import Demand, DemandsAnalyser, DemandPlotter, DemandsPlotter\n",
    "\n",
    "# for plotting\n",
    "net = tpg.gen_fat_tree(k=4, L=2, n=4, num_channels=1, server_to_rack_channel_capacity=3125, rack_to_edge_channel_capacity=1000, edge_to_agg_channel_capacity=1000, agg_to_core_channel_capacity=2000, bidirectional_links=True)\n",
    "# net = tpg.gen_arbitrary_network(ep_label=None, num_eps=64, num_channels=1, server_to_rack_channel_capacity=25000)\n",
    "slot_size = 1e6\n",
    "\n",
    "# create demand objects and print analysis summary\n",
    "if not separate_files:\n",
    "    demands = []\n",
    "    for demand_data, load in zip(demand_data_list, loads):\n",
    "        demand = Demand(demand_data, net.graph['endpoints'])\n",
    "        demands.append(demand)\n",
    "    analyser = DemandsAnalyser(*demands, job_centric=False)\n",
    "else:\n",
    "    analyser = DemandsAnalyser(*demand_data_list, net=net.graph['endpoints'], job_centric=False)\n",
    "analyser.compute_metrics(print_summary=True)"
   ]
  },
  {
   "cell_type": "code",
   "execution_count": null,
   "metadata": {
    "scrolled": false
   },
   "outputs": [],
   "source": [
    "%autoreload\n",
    "from trafpy.generator import Demand, DemandsAnalyser, DemandPlotter, DemandsPlotter\n",
    "\n",
    "for demand_data in demand_data_list:\n",
    "    demand = Demand(demand_data, net.graph['endpoints'])\n",
    "    plotter = DemandPlotter(demand)\n",
    "    plotter.plot_node_dist(eps=net.graph['endpoints'],\n",
    "                           chord_edge_width_range=[1,25],\n",
    "                           chord_edge_display_threshold=0.045)\n",
    "#     plotter.plot_node_load_dists(eps=net.graph['endpoints'], ep_link_bandwidth=net.graph['ep_link_capacity'])\n",
    "#     raise Exception()"
   ]
  },
  {
   "cell_type": "code",
   "execution_count": null,
   "metadata": {
    "scrolled": false
   },
   "outputs": [],
   "source": [
    "# COMPUTE METRICS AND PLOTTING\n",
    "\n",
    "%autoreload\n",
    "import matplotlib.pyplot as plt\n",
    "plt.rcParams.update({'figure.max_open_warning': 0}) # disable warnings\n",
    "from trafpy.generator import Demand, DemandsAnalyser, DemandPlotter, DemandsPlotter\n",
    "\n",
    "# for plotting\n",
    "# net = tpg.gen_fat_tree(k=6, L=2, n=10, num_channels=1, server_to_rack_channel_capacity=500, rack_to_edge_channel_capacity=1000, edge_to_agg_channel_capacity=1000, agg_to_core_channel_capacity=2000, bidirectional_links=True)\n",
    "slot_size = 1e6\n",
    "\n",
    "# create demand objects and print analysis summary\n",
    "demands = []\n",
    "for demand_data in demand_data_list:\n",
    "    demand = Demand(demand_data, net.graph['endpoints'])\n",
    "#     demand.name = 'load_{}'.format(load) # name for multi-plot legend(s)\n",
    "    if not separate_files:\n",
    "        demands.append(demand)\n",
    "    plotter = DemandPlotter(demand)\n",
    "    plotter.plot_flow_size_dist(logscale=True, num_bins=30)\n",
    "    plotter.plot_interarrival_time_dist(logscale=False, num_bins=30)\n",
    "    plotter.plot_node_dist(eps=net.graph['endpoints'],\n",
    "                           chord_edge_width_range=[1,25],\n",
    "                           chord_edge_display_threshold=0.045)\n",
    "    plotter.plot_node_load_dists(eps=net.graph['endpoints'], \n",
    "                                 ep_link_bandwidth=net.graph['ep_link_capacity'])\n",
    "#     plotter.plot_node_load_dists(eps=net.graph['endpoints'], ep_link_bandwidth=500)\n",
    "#     plotter.plot_link_loads_vs_time(net, slot_size, demand, mean_period='all')\n",
    "if not separate_files:\n",
    "    analyser = DemandsAnalyser(*demands, job_centric=False)\n",
    "else:\n",
    "    analyser = DemandsAnalyser(*demand_data_list, net=net.graph['endpoints'], job_centric=False)\n",
    "analyser.compute_metrics(print_summary=True)\n",
    "\n",
    "if not separate_files:\n",
    "    plotters = DemandsPlotter(*demands)\n",
    "else:\n",
    "    plotters = DemandsPlotter(*demand_data_list)\n",
    "_ = plotters.plot_flow_size_dists(logscale=False)\n",
    "_ = plotters.plot_interarrival_time_dists(logscale=False)"
   ]
  },
  {
   "cell_type": "code",
   "execution_count": null,
   "metadata": {
    "scrolled": false
   },
   "outputs": [],
   "source": [
    "%autoreload\n",
    "for demand_data, load in zip(demand_data_list, loads):\n",
    "    plotter.plot_node_dist(eps=net.graph['endpoints'],\n",
    "                           chord_edge_width_range=[1,25],\n",
    "                           chord_edge_display_threshold=0)"
   ]
  },
  {
   "cell_type": "code",
   "execution_count": null,
   "metadata": {},
   "outputs": [],
   "source": [
    "print(demand.num_demands)\n",
    "print(len(demand['flow_id']))"
   ]
  },
  {
   "cell_type": "code",
   "execution_count": null,
   "metadata": {
    "scrolled": true
   },
   "outputs": [],
   "source": [
    "_ = plotters.plot_link_loads_vs_time_for_different_loads(logscale=False)"
   ]
  },
  {
   "cell_type": "code",
   "execution_count": null,
   "metadata": {
    "scrolled": false
   },
   "outputs": [],
   "source": [
    "%autoreload\n",
    "print('Keys of first demand data set:\\n{}'.format(demand_data_list[0].keys()))\n",
    "# print('\\nStructure of first demand data set:\\n{}'.format(demand_data_list[0]))"
   ]
  },
  {
   "cell_type": "code",
   "execution_count": null,
   "metadata": {
    "scrolled": false
   },
   "outputs": [],
   "source": [
    "%autoreload\n",
    "for benchmark in benchmarks:\n",
    "    print(benchmark_data[benchmark].keys())\n",
    "    for load in list(benchmark_data[benchmark].keys()):\n",
    "        for repeat in benchmark_data[benchmark][load]:\n",
    "            print('benchmark: {} | load: {} | repeat: {}'.format(benchmark,load,repeat))"
   ]
  },
  {
   "cell_type": "code",
   "execution_count": null,
   "metadata": {
    "scrolled": true
   },
   "outputs": [],
   "source": [
    "%autoreload\n",
    "from trafpy.generator import Demand\n",
    "import sys\n",
    "import json\n",
    "\n",
    "demand = Demand(demand_data_list[-1])\n",
    "for SLOT_SIZE in [1e4]:\n",
    "    slots_dict = demand.get_slots_dict(SLOT_SIZE, print_info=True)"
   ]
  },
  {
   "cell_type": "code",
   "execution_count": null,
   "metadata": {
    "scrolled": false
   },
   "outputs": [],
   "source": [
    "slots_dict[0]"
   ]
  },
  {
   "cell_type": "code",
   "execution_count": null,
   "metadata": {
    "scrolled": true
   },
   "outputs": [],
   "source": []
  }
 ],
 "metadata": {
  "kernelspec": {
   "display_name": "deep_scheduler",
   "language": "python",
   "name": "deep_scheduler"
  }
 },
 "nbformat": 4,
 "nbformat_minor": 4
}
