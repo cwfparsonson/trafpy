{
 "cells": [
  {
   "cell_type": "code",
   "execution_count": 50,
   "metadata": {
    "scrolled": false
   },
   "outputs": [
    {
     "name": "stdout",
     "output_type": "stream",
     "text": [
      "The autoreload extension is already loaded. To reload it, use:\n",
      "  %reload_ext autoreload\n",
      "Time to load data from /home/zciccwf/phd_project/projects/trafpy/trafpy/../data/benchmark_data/university_chancap500_numchans1_mldat2e6_bidirectional_benchmark_data_v3.json: 1.4074718952178955 s\n"
     ]
    }
   ],
   "source": [
    "%load_ext autoreload\n",
    "import trafpy\n",
    "import trafpy.generator as tpg\n",
    "import os\n",
    "import json\n",
    "\n",
    "# load demand data\n",
    "# DATA_NAME = 'ndf50_mldat6e8_university'\n",
    "DATA_NAME = 'university_chancap500_numchans1_mldat2e6_bidirectional'\n",
    "path_to_benchmark_data = os.path.dirname(trafpy.__file__)+'/../data/benchmark_data/{}_benchmark_data_v3.json'.format(DATA_NAME)\n",
    "benchmark_data = json.loads(tpg.load_data_from_json(path_to_benchmark_data))"
   ]
  },
  {
   "cell_type": "code",
   "execution_count": 51,
   "metadata": {
    "scrolled": true
   },
   "outputs": [
    {
     "name": "stderr",
     "output_type": "stream",
     "text": [
      "IOPub data rate exceeded.\n",
      "The notebook server will temporarily stop sending output\n",
      "to the client in order to avoid crashing it.\n",
      "To change this limit, set the config variable\n",
      "`--NotebookApp.iopub_data_rate_limit`.\n",
      "\n",
      "Current values:\n",
      "NotebookApp.iopub_data_rate_limit=1000000.0 (bytes/sec)\n",
      "NotebookApp.rate_limit_window=3.0 (secs)\n",
      "\n"
     ]
    }
   ],
   "source": [
    "%autoreload\n",
    "\n",
    "# organise into list of demand_data dicts\n",
    "benchmarks = list(benchmark_data.keys())\n",
    "demand_data_list = []\n",
    "loads = []\n",
    "for benchmark in benchmarks:\n",
    "    for load in benchmark_data[benchmark]:\n",
    "        for repeat in benchmark_data[benchmark][load]:\n",
    "            demand_data = benchmark_data[benchmark][load][repeat]\n",
    "            demand_data_list.append(demand_data)\n",
    "            loads.append(load)\n",
    "num_sets_of_demand_data = len(demand_data_list)\n",
    "print('Number of sets of demand data: {}'.format(num_sets_of_demand_data))\n",
    "# print(demand_data_list[0])"
   ]
  },
  {
   "cell_type": "code",
   "execution_count": null,
   "metadata": {
    "scrolled": false
   },
   "outputs": [],
   "source": [
    "%autoreload\n",
    "import matplotlib.pyplot as plt\n",
    "plt.rcParams.update({'figure.max_open_warning': 0}) # disable warnings\n",
    "from trafpy.generator import Demand, DemandsAnalyser, DemandPlotter, DemandsPlotter\n",
    "\n",
    "# for plotting\n",
    "net = tpg.gen_fat_tree(k=3, N=2, num_channels=1, server_to_rack_channel_capacity=500, rack_to_edge_channel_capacity=40000, edge_to_agg_channel_capacity=40000, agg_to_core_channel_capacity=40000, bidirectional_links=True)\n",
    "slot_size = 1e6\n",
    "\n",
    "# create demand objects and print analysis summary\n",
    "demands = []\n",
    "for demand_data, load in zip(demand_data_list, loads):\n",
    "    demand = Demand(demand_data, net.graph['endpoints'])\n",
    "    demand.name = 'load_{}'.format(load) # name for multi-plot jjlegend(s)\n",
    "    demands.append(demand)\n",
    "    plotter = DemandPlotter(demand)\n",
    "    plotter.plot_flow_size_dist(logscale=True, num_bins=30)\n",
    "    plotter.plot_interarrival_time_dist(logscale=False, num_bins=30)\n",
    "    plotter.plot_node_dist(eps=net.graph['endpoints'])\n",
    "    plotter.plot_node_load_dists(eps=net.graph['endpoints'], ep_link_bandwidth=net.graph['ep_link_capacity'])\n",
    "#     plotter.plot_node_load_dists(eps=net.graph['endpoints'], ep_link_bandwidth=500)\n",
    "#     plotter.plot_link_loads_vs_time(net, slot_size, demand, mean_period='all')\n",
    "analyser = DemandsAnalyser(*demands)\n",
    "analyser.compute_metrics(print_summary=True)\n",
    "\n",
    "plotters = DemandsPlotter(*demands)\n",
    "_ = plotters.plot_flow_size_dists(logscale=False)\n",
    "_ = plotters.plot_interarrival_time_dists(logscale=False)"
   ]
  },
  {
   "cell_type": "code",
   "execution_count": 23,
   "metadata": {},
   "outputs": [
    {
     "name": "stdout",
     "output_type": "stream",
     "text": [
      "30\n"
     ]
    },
    {
     "ename": "TypeError",
     "evalue": "'Demand' object is not subscriptable",
     "output_type": "error",
     "traceback": [
      "\u001b[0;31m---------------------------------------------------------------------------\u001b[0m",
      "\u001b[0;31mTypeError\u001b[0m                                 Traceback (most recent call last)",
      "\u001b[0;32m<ipython-input-23-30601d7ded51>\u001b[0m in \u001b[0;36m<module>\u001b[0;34m\u001b[0m\n\u001b[1;32m      1\u001b[0m \u001b[0mprint\u001b[0m\u001b[0;34m(\u001b[0m\u001b[0mdemand\u001b[0m\u001b[0;34m.\u001b[0m\u001b[0mnum_demands\u001b[0m\u001b[0;34m)\u001b[0m\u001b[0;34m\u001b[0m\u001b[0;34m\u001b[0m\u001b[0m\n\u001b[0;32m----> 2\u001b[0;31m \u001b[0mprint\u001b[0m\u001b[0;34m(\u001b[0m\u001b[0mlen\u001b[0m\u001b[0;34m(\u001b[0m\u001b[0mdemand\u001b[0m\u001b[0;34m[\u001b[0m\u001b[0;34m'flow_id'\u001b[0m\u001b[0;34m]\u001b[0m\u001b[0;34m)\u001b[0m\u001b[0;34m)\u001b[0m\u001b[0;34m\u001b[0m\u001b[0;34m\u001b[0m\u001b[0m\n\u001b[0m",
      "\u001b[0;31mTypeError\u001b[0m: 'Demand' object is not subscriptable"
     ]
    }
   ],
   "source": [
    "print(demand.num_demands)\n",
    "print(len(demand['flow_id']))"
   ]
  },
  {
   "cell_type": "code",
   "execution_count": null,
   "metadata": {
    "scrolled": true
   },
   "outputs": [],
   "source": [
    "_ = plotters.plot_link_loads_vs_time_for_different_loads(logscale=False)"
   ]
  },
  {
   "cell_type": "code",
   "execution_count": null,
   "metadata": {
    "scrolled": false
   },
   "outputs": [],
   "source": [
    "%autoreload\n",
    "print('Keys of first demand data set:\\n{}'.format(demand_data_list[0].keys()))\n",
    "# print('\\nStructure of first demand data set:\\n{}'.format(demand_data_list[0]))"
   ]
  },
  {
   "cell_type": "code",
   "execution_count": null,
   "metadata": {
    "scrolled": false
   },
   "outputs": [],
   "source": [
    "%autoreload\n",
    "for benchmark in benchmarks:\n",
    "    print(benchmark_data[benchmark].keys())\n",
    "    for load in list(benchmark_data[benchmark].keys()):\n",
    "        for repeat in benchmark_data[benchmark][load]:\n",
    "            print('benchmark: {} | load: {} | repeat: {}'.format(benchmark,load,repeat))"
   ]
  },
  {
   "cell_type": "code",
   "execution_count": null,
   "metadata": {
    "scrolled": true
   },
   "outputs": [],
   "source": [
    "%autoreload\n",
    "from trafpy.generator import Demand\n",
    "import sys\n",
    "import json\n",
    "\n",
    "demand = Demand(demand_data_list[-1])\n",
    "for SLOT_SIZE in [1e4]:\n",
    "    slots_dict = demand.get_slots_dict(SLOT_SIZE, print_info=True)"
   ]
  },
  {
   "cell_type": "code",
   "execution_count": null,
   "metadata": {
    "scrolled": false
   },
   "outputs": [],
   "source": [
    "slots_dict[0]"
   ]
  },
  {
   "cell_type": "code",
   "execution_count": null,
   "metadata": {
    "scrolled": true
   },
   "outputs": [],
   "source": []
  }
 ],
 "metadata": {
  "kernelspec": {
   "display_name": "deep_scheduler",
   "language": "python",
   "name": "deep_scheduler"
  },
  "language_info": {
   "codemirror_mode": {
    "name": "ipython",
    "version": 3
   },
   "file_extension": ".py",
   "mimetype": "text/x-python",
   "name": "python",
   "nbconvert_exporter": "python",
   "pygments_lexer": "ipython3",
   "version": "3.8.3"
  }
 },
 "nbformat": 4,
 "nbformat_minor": 4
}
