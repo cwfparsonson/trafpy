{
 "cells": [
  {
   "cell_type": "code",
   "execution_count": null,
   "metadata": {},
   "outputs": [],
   "source": [
    "import trafpy.generator as tpg\n",
    "from trafpy.manager import Demand, RWA, SRPT, DCN\n",
    "import config"
   ]
  },
  {
   "cell_type": "code",
   "execution_count": null,
   "metadata": {},
   "outputs": [],
   "source": [
    "# DEFINE FLOW-CENTRIC DISTRIBUTIONS\n",
    "node_dist = tpg.gen_uniform_node_dist(config.ENDPOINT_LABELS, show_fig=True, print_data=False)\n",
    "\n",
    "flow_size_dist, _ = tpg.gen_named_val_dist(dist='weibull',\n",
    "                                       params={'_alpha': 1.4, '_lambda': 7000},\n",
    "                                       show_fig=True,\n",
    "                                       print_data=False,\n",
    "                                       logscale=True,\n",
    "                                       round_to_nearest=1,\n",
    "                                       xlim=[1e2,1e12])\n",
    "\n",
    "interarrival_time_dist, _ = tpg.gen_named_val_dist(dist='lognormal',\n",
    "                                               params={'_mu': 7.4, '_sigma': 2},\n",
    "                                               show_fig=True,\n",
    "                                               print_data=False,\n",
    "                                               logscale=True,\n",
    "                                               xlim=[1e1,1e6])"
   ]
  },
  {
   "cell_type": "code",
   "execution_count": null,
   "metadata": {},
   "outputs": [],
   "source": [
    "# DEFINE NUM_DEMANDS BY NUM_DEMANDS\n",
    "num_demands = 1000\n",
    "\n",
    "flow_centric_demand_data = tpg.create_demand_data(num_demands=num_demands,\n",
    "                                                  eps=config.ENDPOINT_LABELS,\n",
    "                                                  node_dist=node_dist,\n",
    "                                                  flow_size_dist=flow_size_dist,\n",
    "                                                  interarrival_time_dist=interarrival_time_dist,\n",
    "                                                  print_data=True)\n",
    "print('Flow data:\\n{}'.format(flow_centric_demand_data))"
   ]
  },
  {
   "cell_type": "code",
   "execution_count": null,
   "metadata": {},
   "outputs": [],
   "source": [
    "# DEFINE NUM_DEMANDS BY NETWORK LOAD\n",
    "network_load_config = {'network_rate_capacity': 6000, 'target_load_fraction': 0.75}\n",
    "\n",
    "flow_centric_demand_data = tpg.create_demand_data(network_load_config=network_load_config,\n",
    "                                                  eps=config.ENDPOINT_LABELS,\n",
    "                                                  node_dist=node_dist,\n",
    "                                                  flow_size_dist=flow_size_dist,\n",
    "                                                  interarrival_time_dist=interarrival_time_dist,\n",
    "                                                  print_data=True)\n",
    "print('Flow data:\\n{}'.format(flow_centric_demand_data))"
   ]
  },
  {
   "cell_type": "code",
   "execution_count": null,
   "metadata": {},
   "outputs": [],
   "source": [
    "load_rate = tpg.get_flow_centric_demand_data_load_rate(flow_centric_demand_data)\n",
    "print('Load rate: {} Gbps'.format(load_rate))"
   ]
  },
  {
   "cell_type": "code",
   "execution_count": null,
   "metadata": {},
   "outputs": [],
   "source": [
    "_demand_data = flow_centric_demand_data\n",
    "print('demand data:\\n{}\\n'.format(_demand_data))\n",
    "\n",
    "network = tpg.gen_simple_network(ep_label=config.ENDPOINT_LABEL,num_channels=config.NUM_CHANNELS)\n",
    "demand = Demand(demand_data=_demand_data)\n",
    "slots_dict = demand.get_slots_dict(slot_size=1000)\n",
    "\n",
    "network_capacity = network.graph['max_nw_capacity']\n",
    "print('Network capacity: {} Gbps'.format(network_capacity))\n",
    "print('Num slots: {}'.format(len(slots_dict.keys())))\n",
    "# print('Slots dict:\\n{}'.format(_slots_dict))"
   ]
  },
  {
   "cell_type": "code",
   "execution_count": null,
   "metadata": {},
   "outputs": [],
   "source": [
    "net = tpg.gen_fat_tree(k=3, N=5, num_channels=1)\n",
    "fig = tpg.plot_network(net, draw_node_labels=False, network_node_size=1000, linewidths=1)\n"
   ]
  },
  {
   "cell_type": "code",
   "execution_count": null,
   "metadata": {},
   "outputs": [],
   "source": [
    "# rack_prob_config = {'racks_dict': net.graph['rack_to_ep_dict'], 'prob_inter_rack': 0.7}\n",
    "rack_prob_config = None\n",
    "# node_dist, _ = tpg.gen_uniform_node_dist(net.graph['endpoints'], rack_prob_config=rack_prob_config, show_fig=True, print_data=False)\n",
    "node_dist, _ = tpg.gen_multimodal_node_dist(net.graph['endpoints'], rack_prob_config=rack_prob_config, show_fig=True, print_data=False)"
   ]
  },
  {
   "cell_type": "code",
   "execution_count": null,
   "metadata": {},
   "outputs": [],
   "source": [
    "sn, dn = tpg.gen_node_demands(eps=net.graph['endpoints'], node_dist=node_dist, num_demands=5000, rack_prob_config=rack_prob_config)\n",
    "\n",
    "# find total number of intra- & inter-rack requests\n",
    "ep_to_rack = net.graph['ep_to_rack_dict']\n",
    "inter_rack_counter = 0\n",
    "intra_rack_counter = 0\n",
    "for src, dst in zip(sn, dn):\n",
    "    if ep_to_rack[src] == ep_to_rack[dst]:\n",
    "        intra_rack_counter += 1\n",
    "    else:\n",
    "        inter_rack_counter += 1\n",
    "total_counts = intra_rack_counter + inter_rack_counter\n",
    "        \n",
    "print('Total counts: {}'.format(total_counts))\n",
    "print('Num intra rack comms: {} ({}%)'.format(intra_rack_counter, intra_rack_counter*100/total_counts))\n",
    "print('Num inter rack comms: {} ({}%)'.format(inter_rack_counter, inter_rack_counter*100/total_counts))\n",
    "\n",
    "\n",
    "# plot_dict= {'Intra-rack': {'x_values': ['Uni DCN', 'Private DCN', 'Cloud DCN'], 'y_values': [intra_rack_counter*100/total_counts, 40, 80]},\n",
    "#             'Inter-rack': {'x_values': ['Uni DCN', 'Private DCN', 'Cloud DCN'], 'y_values': [inter_rack_counter*100/total_counts, 60, 20]}}\n",
    "plot_dict= {'Intra-rack': {'x_values': ['Priv DCN'], 'y_values': [intra_rack_counter*100/total_counts]},\n",
    "            'Inter-rack': {'x_values': ['Priv DCN'], 'y_values': [inter_rack_counter*100/total_counts]}}\n",
    "tpg.plot_val_stacked_bar(plot_dict, ylabel='% Traffic', ylim=[0,100], show_fig=True)\n",
    "\n"
   ]
  },
  {
   "cell_type": "code",
   "execution_count": null,
   "metadata": {},
   "outputs": [],
   "source": [
    "len(net.graph['endpoints'])\n",
    "print(net.graph['max_nw_capacity'])"
   ]
  },
  {
   "cell_type": "code",
   "execution_count": null,
   "metadata": {},
   "outputs": [],
   "source": [
    "import trafpy.generator as tpg\n",
    "import numpy as np\n",
    "import json\n",
    "\n",
    "path_to_load = '../trafpy/benchmarker/versions/benchmark_v001/data/university/flow_size_dist.json'\n",
    "dist = tpg.load_data_from_json(path_to_load)\n",
    "print(type(dist))\n",
    "print(type(json.loads(dist)))\n",
    "# print(json.loads(dist))\n",
    "# print(np.array(json.loads(dist)).shape)\n",
    "# print(type(np.array(json.loads(dist))))"
   ]
  },
  {
   "cell_type": "code",
   "execution_count": null,
   "metadata": {},
   "outputs": [],
   "source": [
    "import trafpy.generator as tpg\n",
    "import json\n",
    "\n",
    "path_to_load = '../data/benchmark_data/university_benchmark_data.json'\n",
    "demand_data = json.loads(tpg.load_data_from_json(path_to_load))\n",
    "print(type(demand_data))\n",
    "print(demand_data)\n"
   ]
  },
  {
   "cell_type": "code",
   "execution_count": null,
   "metadata": {},
   "outputs": [],
   "source": []
  }
 ],
 "metadata": {
  "kernelspec": {
   "display_name": "deep_scheduler",
   "language": "python",
   "name": "deep_scheduler"
  },
  "language_info": {
   "codemirror_mode": {
    "name": "ipython",
    "version": 3
   },
   "file_extension": ".py",
   "mimetype": "text/x-python",
   "name": "python",
   "nbconvert_exporter": "python",
   "pygments_lexer": "ipython3",
   "version": "3.7.7"
  }
 },
 "nbformat": 4,
 "nbformat_minor": 4
}
