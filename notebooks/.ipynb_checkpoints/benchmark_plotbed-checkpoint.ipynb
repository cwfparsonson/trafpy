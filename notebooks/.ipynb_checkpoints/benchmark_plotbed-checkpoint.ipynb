{
 "cells": [
  {
   "cell_type": "code",
   "execution_count": 1,
   "metadata": {},
   "outputs": [
    {
     "name": "stdout",
     "output_type": "stream",
     "text": [
      "dict_keys(['benchmark_data', 'benchmarks', 'envs', 'config'])\n"
     ]
    }
   ],
   "source": [
    "import trafpy\n",
    "import trafpy.generator as tpg\n",
    "\n",
    "import os\n",
    "import pickle\n",
    "import matplotlib.pyplot as plt\n",
    "\n",
    "path_to_benchmark_data = os.path.dirname(trafpy.__file__)+'/../data/university_benchmark_test_1.obj'\n",
    "filehandler = open(path_to_benchmark_data, 'rb')\n",
    "tb_dict = pickle.load(filehandler)\n",
    "\n",
    "print(tb_dict.keys())"
   ]
  },
  {
   "cell_type": "code",
   "execution_count": 2,
   "metadata": {},
   "outputs": [
    {
     "name": "stdout",
     "output_type": "stream",
     "text": [
      "[<trafpy.manager.src.simulators.dcn.DCN object at 0x7f9e1c766550>, <trafpy.manager.src.simulators.dcn.DCN object at 0x7f9d2111aee0>, <trafpy.manager.src.simulators.dcn.DCN object at 0x7f9d108763a0>, <trafpy.manager.src.simulators.dcn.DCN object at 0x7f9cfedcb370>]\n"
     ]
    }
   ],
   "source": [
    "envs = tb_dict['envs']\n",
    "print(envs)"
   ]
  },
  {
   "cell_type": "markdown",
   "metadata": {},
   "source": [
    "## TODO\n",
    "\n",
    "### Key Stats to Compare\n",
    "- Average flow completion time\n",
    "- 99th percentile flow completion time\n",
    "- Queue length\n",
    "- Throughput\n",
    "\n",
    "### Key Plots"
   ]
  },
  {
   "cell_type": "code",
   "execution_count": 3,
   "metadata": {},
   "outputs": [
    {
     "name": "stdout",
     "output_type": "stream",
     "text": [
      "-=-=-=-=-=-=-= Scheduling Session Ended -=-=-=-=-=-=-=\n",
      "SUMMARY:\n",
      "~* General Info *~\n",
      "Total session duration: 113000000.0 time units\n",
      "Total number of generated demands (jobs or flows): 900\n",
      "Total info arrived: 3302359.0 info units\n",
      "Load: 0.5241569284124231 info unit demands arrived per unit time (from first to last flow arriving)\n",
      "Total info transported: 3302359.0 info units\n",
      "Throughput: 0.02922441592920354 info units transported per unit time\n",
      "\n",
      "~* Flow Info *~\n",
      "Total number generated flows (src!=dst,dependency_type=='data_dep'): 900\n",
      "Time first flow arrived: 0.0 time units\n",
      "Time last flow arrived: 6300325.0 time units\n",
      "Time first flow completed: 1000000.0 time units\n",
      "Time last flow completed: 113000000.0 time units\n",
      "Total number of demands that arrived and became flows: 900\n",
      "Total number of flows that were completed: 900\n",
      "Total number of dropped flows + flows in queues at end of session: 0\n",
      "Average FCT: 41139774.314444445 time units\n",
      "99th percentile FCT: 105419934.1 time units\n",
      "None\n",
      "-=-=-=-=-=-=-= Scheduling Session Ended -=-=-=-=-=-=-=\n",
      "SUMMARY:\n",
      "~* General Info *~\n",
      "Total session duration: 135000000.0 time units\n",
      "Total number of generated demands (jobs or flows): 900\n",
      "Total info arrived: 3302359.0 info units\n",
      "Load: 0.5241569284124231 info unit demands arrived per unit time (from first to last flow arriving)\n",
      "Total info transported: 3302359.0 info units\n",
      "Throughput: 0.02446191851851852 info units transported per unit time\n",
      "\n",
      "~* Flow Info *~\n",
      "Total number generated flows (src!=dst,dependency_type=='data_dep'): 900\n",
      "Time first flow arrived: 0.0 time units\n",
      "Time last flow arrived: 6300325.0 time units\n",
      "Time first flow completed: 1000000.0 time units\n",
      "Time last flow completed: 135000000.0 time units\n",
      "Total number of demands that arrived and became flows: 900\n",
      "Total number of flows that were completed: 900\n",
      "Total number of dropped flows + flows in queues at end of session: 0\n",
      "Average FCT: 53927552.09222222 time units\n",
      "99th percentile FCT: 124418246.49 time units\n",
      "None\n",
      "-=-=-=-=-=-=-= Scheduling Session Ended -=-=-=-=-=-=-=\n",
      "SUMMARY:\n",
      "~* General Info *~\n",
      "Total session duration: 227000000.0 time units\n",
      "Total number of generated demands (jobs or flows): 1978\n",
      "Total info arrived: 6599348.0 info units\n",
      "Load: 0.5342947919489365 info unit demands arrived per unit time (from first to last flow arriving)\n",
      "Total info transported: 6599348.0 info units\n",
      "Throughput: 0.029072017621145373 info units transported per unit time\n",
      "\n",
      "~* Flow Info *~\n",
      "Total number generated flows (src!=dst,dependency_type=='data_dep'): 1978\n",
      "Time first flow arrived: 0.0 time units\n",
      "Time last flow arrived: 12351511.0 time units\n",
      "Time first flow completed: 1000000.0 time units\n",
      "Time last flow completed: 227000000.0 time units\n",
      "Total number of demands that arrived and became flows: 1978\n",
      "Total number of flows that were completed: 1978\n",
      "Total number of dropped flows + flows in queues at end of session: 0\n",
      "Average FCT: 78822048.53791709 time units\n",
      "99th percentile FCT: 212949480.39 time units\n",
      "None\n",
      "-=-=-=-=-=-=-= Scheduling Session Ended -=-=-=-=-=-=-=\n",
      "SUMMARY:\n",
      "~* General Info *~\n",
      "Total session duration: 284000000.0 time units\n",
      "Total number of generated demands (jobs or flows): 1978\n",
      "Total info arrived: 6599348.0 info units\n",
      "Load: 0.5342947919489365 info unit demands arrived per unit time (from first to last flow arriving)\n",
      "Total info transported: 6599348.0 info units\n",
      "Throughput: 0.023237140845070423 info units transported per unit time\n",
      "\n",
      "~* Flow Info *~\n",
      "Total number generated flows (src!=dst,dependency_type=='data_dep'): 1978\n",
      "Time first flow arrived: 0.0 time units\n",
      "Time last flow arrived: 12351511.0 time units\n",
      "Time first flow completed: 1000000.0 time units\n",
      "Time last flow completed: 284000000.0 time units\n",
      "Total number of demands that arrived and became flows: 1978\n",
      "Total number of flows that were completed: 1978\n",
      "Total number of dropped flows + flows in queues at end of session: 0\n",
      "Average FCT: 115573312.44084935 time units\n",
      "99th percentile FCT: 267667528.4 time units\n",
      "None\n"
     ]
    }
   ],
   "source": [
    "for env in envs:\n",
    "    print(env.get_scheduling_session_summary(print_summary=True))"
   ]
  },
  {
   "cell_type": "code",
   "execution_count": 4,
   "metadata": {},
   "outputs": [
    {
     "name": "stdout",
     "output_type": "stream",
     "text": [
      "Average flow completion times:\n",
      "[41139774.314444445, 53927552.09222222, 78822048.53791709, 115573312.44084935]\n"
     ]
    },
    {
     "data": {
      "image/png": "[encoded data removed]",
      "text/plain": [
       "<Figure size 432x288 with 1 Axes>"
      ]
     },
     "metadata": {
      "needs_background": "light"
     },
     "output_type": "display_data"
    }
   ],
   "source": [
    "# avrg fct\n",
    "avrg_fcts = []\n",
    "for env in envs:\n",
    "    avrg_fcts.append(env.avrg_fct)\n",
    "print('Average flow completion times:\\n{}'.format(avrg_fcts))\n",
    "\n",
    "x_values = ['load_0.1_scheduler_srpt',\n",
    "            'load_0.1_scheduler_basrpt',\n",
    "            'load_0.2_scheduler_srpt',\n",
    "            'load_0.2_scheduler_basrpt']\n",
    "\n",
    "fig = tpg.plot_val_bar(x_values=x_values,y_values=avrg_fcts,ylabel='Average Flow Completion Time (us)', show_fig=True)"
   ]
  },
  {
   "cell_type": "code",
   "execution_count": 7,
   "metadata": {},
   "outputs": [
    {
     "name": "stdout",
     "output_type": "stream",
     "text": [
      "99th percentile flow completion times:\n",
      "[105419934.1, 124418246.49, 212949480.39, 267667528.4]\n"
     ]
    },
    {
     "data": {
      "image/png": "[encoded data removed]",
      "text/plain": [
       "<Figure size 432x288 with 1 Axes>"
      ]
     },
     "metadata": {},
     "output_type": "display_data"
    }
   ],
   "source": [
    "# 99th percentile fct\n",
    "nn_fcts = []\n",
    "for env in envs:\n",
    "    nn_fcts.append(env.nn_fct)\n",
    "print('99th percentile flow completion times:\\n{}'.format(nn_fcts))\n",
    "\n",
    "x_values = ['load_0.1_scheduler_srpt',\n",
    "            'load_0.1_scheduler_basrpt',\n",
    "            'load_0.2_scheduler_srpt',\n",
    "            'load_0.2_scheduler_basrpt']\n",
    "\n",
    "fig = tpg.plot_val_bar(x_values=x_values,y_values=nn_fcts,ylabel='99th Percentile Flow Completion Time (us)', show_fig=True)"
   ]
  },
  {
   "cell_type": "code",
   "execution_count": null,
   "metadata": {},
   "outputs": [],
   "source": []
  }
 ],
 "metadata": {
  "kernelspec": {
   "display_name": "deep_scheduler",
   "language": "python",
   "name": "deep_scheduler"
  },
  "language_info": {
   "codemirror_mode": {
    "name": "ipython",
    "version": 3
   },
   "file_extension": ".py",
   "mimetype": "text/x-python",
   "name": "python",
   "nbconvert_exporter": "python",
   "pygments_lexer": "ipython3",
   "version": "3.8.3"
  }
 },
 "nbformat": 4,
 "nbformat_minor": 4
}
