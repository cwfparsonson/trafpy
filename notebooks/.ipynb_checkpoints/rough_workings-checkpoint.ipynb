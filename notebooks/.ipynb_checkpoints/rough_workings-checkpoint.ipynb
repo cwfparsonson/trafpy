{
 "cells": [
  {
   "cell_type": "code",
   "execution_count": null,
   "metadata": {},
   "outputs": [],
   "source": [
    "import trafpy\n",
    "import trafpy.generator as tpg\n",
    "\n",
    "import os\n",
    "import json\n",
    "\n",
    "\n",
    "path_to_benchmark_data = os.path.dirname(trafpy.__file__)+'/../data/benchmark_data/university_benchmark_data.json'\n",
    "benchmark_data = json.loads(tpg.load_data_from_json(path_to_benchmark_data))"
   ]
  },
  {
   "cell_type": "code",
   "execution_count": null,
   "metadata": {},
   "outputs": [],
   "source": [
    "benchmarks = list(benchmark_data.keys())\n",
    "demand_data_list = []\n",
    "\n",
    "for benchmark in benchmarks:\n",
    "    for load in benchmark_data[benchmark]:\n",
    "        for repeat in benchmark_data[benchmark][load]:\n",
    "            demand_data = benchmark_data[benchmark][load][repeat]\n",
    "            demand_data_list.append(demand_data)\n",
    "            \n",
    "num_sets_of_demand_data = len(demand_data_list)\n",
    "print('Number of sets of demand data: {}'.format(num_sets_of_demand_data))"
   ]
  },
  {
   "cell_type": "code",
   "execution_count": null,
   "metadata": {},
   "outputs": [],
   "source": [
    "print('Keys of first demand data set:\\n{}'.format(demand_data_list[0].keys()))\n",
    "\n",
    "print('\\nStructure of first demand data set:\\n{}'.format(demand_data_list[0]))"
   ]
  },
  {
   "cell_type": "code",
   "execution_count": null,
   "metadata": {},
   "outputs": [],
   "source": [
    "num_flows_list = []\n",
    "time_first_flow_arrived_list = []\n",
    "time_last_flow_arrived_list = []\n",
    "smallest_flow_size_list = []\n",
    "largest_flow_size_list = []\n",
    "for demand_data in demand_data_list:\n",
    "    num_flows_list.append(len(demand_data['flow_id']))\n",
    "    time_first_flow_arrived_list.append(min(demand_data['event_time']))\n",
    "    time_last_flow_arrived_list.append(max(demand_data['event_time']))\n",
    "    smallest_flow_size_list.append(min(demand_data['flow_size']))\n",
    "    largest_flow_size_list.append(max(demand_data['flow_size']))\n",
    "\n",
    "print('Num flows in each set of demand data:\\n{}'.format(num_flows_list))\n",
    "print('Times first flow arrived in each set of demand data:\\n{}'.format(time_first_flow_arrived_list))\n",
    "print('Times last flow arrived in each set of demand data:\\n{}'.format(time_last_flow_arrived_list))\n",
    "print('Smallest flow size for each set:\\n{}'.format(smallest_flow_size_list))\n",
    "print('Largest flow size for each set:\\n{}'.format(largest_flow_size_list))\n",
    "\n",
    "slot_size = 1e6\n",
    "num_slots_list = [int(_time/slot_size) for _time in time_last_flow_arrived_list]\n",
    "print('Num slots in each set of demand data:\\n{}'.format(num_slots_list))\n"
   ]
  },
  {
   "cell_type": "code",
   "execution_count": null,
   "metadata": {},
   "outputs": [],
   "source": [
    "for benchmark in benchmarks:\n",
    "    print(benchmark_data[benchmark].keys())\n",
    "    for load in list(benchmark_data[benchmark].keys())[:2]:\n",
    "        for repeat in benchmark_data[benchmark][load]:\n",
    "            print('benchmark: {} | load: {} | repeat: {}'.format(benchmark,load,repeat))"
   ]
  },
  {
   "cell_type": "code",
   "execution_count": null,
   "metadata": {},
   "outputs": [],
   "source": [
    "print(demand_data_list[0]['flow_size'])"
   ]
  },
  {
   "cell_type": "code",
   "execution_count": null,
   "metadata": {},
   "outputs": [],
   "source": [
    "path_to_dist = os.path.dirname(trafpy.__file__)+'/../trafpy/benchmarker/versions/benchmark_v001/data/university/flow_size_dist.json'\n",
    "flow_size_dist = json.loads(tpg.load_data_from_json(path_to_dist))\n",
    "print('flow size dist:\\n{}'.format(flow_size_dist))"
   ]
  },
  {
   "cell_type": "code",
   "execution_count": 1,
   "metadata": {},
   "outputs": [
    {
     "name": "stdout",
     "output_type": "stream",
     "text": [
      "Generated 3840 demands for set 1 of 100 in 0.14048361778259277 seconds.\n",
      "Generated 3840 demands for set 2 of 100 in 0.14199376106262207 seconds.\n",
      "Generated 3840 demands for set 3 of 100 in 0.15147113800048828 seconds.\n",
      "Generated 3840 demands for set 4 of 100 in 0.14417314529418945 seconds.\n",
      "Generated 3840 demands for set 5 of 100 in 0.1462078094482422 seconds.\n",
      "Generated 3840 demands for set 6 of 100 in 0.1469886302947998 seconds.\n",
      "Generated 3840 demands for set 7 of 100 in 0.15015673637390137 seconds.\n",
      "Generated 3840 demands for set 8 of 100 in 0.1420283317565918 seconds.\n",
      "Generated 3840 demands for set 9 of 100 in 0.1546945571899414 seconds.\n",
      "Generated 3840 demands for set 10 of 100 in 0.14831900596618652 seconds.\n",
      "Generated 3840 demands for set 11 of 100 in 0.146897554397583 seconds.\n",
      "Generated 3840 demands for set 12 of 100 in 0.14019346237182617 seconds.\n",
      "Generated 3840 demands for set 13 of 100 in 0.14641332626342773 seconds.\n",
      "Generated 3840 demands for set 14 of 100 in 0.1403639316558838 seconds.\n",
      "Generated 3840 demands for set 15 of 100 in 0.15341973304748535 seconds.\n",
      "Generated 3840 demands for set 16 of 100 in 0.14821743965148926 seconds.\n",
      "Generated 3840 demands for set 17 of 100 in 0.1496269702911377 seconds.\n",
      "Generated 3840 demands for set 18 of 100 in 0.14182353019714355 seconds.\n",
      "Generated 3840 demands for set 19 of 100 in 0.14492130279541016 seconds.\n",
      "Generated 3840 demands for set 20 of 100 in 0.14123845100402832 seconds.\n",
      "Generated 3840 demands for set 21 of 100 in 0.14233779907226562 seconds.\n",
      "Generated 3840 demands for set 22 of 100 in 0.1415724754333496 seconds.\n",
      "Generated 3840 demands for set 23 of 100 in 0.13999342918395996 seconds.\n",
      "Generated 3840 demands for set 24 of 100 in 0.14402484893798828 seconds.\n",
      "Generated 3840 demands for set 25 of 100 in 0.15298748016357422 seconds.\n",
      "Generated 3840 demands for set 26 of 100 in 0.14626073837280273 seconds.\n",
      "Generated 3840 demands for set 27 of 100 in 0.13806605339050293 seconds.\n",
      "Generated 3840 demands for set 28 of 100 in 0.1470627784729004 seconds.\n",
      "Generated 3840 demands for set 29 of 100 in 0.141204833984375 seconds.\n",
      "Generated 3840 demands for set 30 of 100 in 0.1394026279449463 seconds.\n",
      "Generated 3840 demands for set 31 of 100 in 0.14941716194152832 seconds.\n",
      "Generated 3840 demands for set 32 of 100 in 0.15233492851257324 seconds.\n",
      "Generated 3840 demands for set 33 of 100 in 0.15290403366088867 seconds.\n",
      "Generated 3840 demands for set 34 of 100 in 0.14942121505737305 seconds.\n",
      "Generated 3840 demands for set 35 of 100 in 0.14373064041137695 seconds.\n",
      "Generated 3840 demands for set 36 of 100 in 0.14893126487731934 seconds.\n",
      "Generated 3840 demands for set 37 of 100 in 0.1466536521911621 seconds.\n",
      "Generated 3840 demands for set 38 of 100 in 0.1529855728149414 seconds.\n",
      "Generated 3840 demands for set 39 of 100 in 0.1564502716064453 seconds.\n",
      "Generated 3840 demands for set 40 of 100 in 0.14502286911010742 seconds.\n",
      "Generated 3840 demands for set 41 of 100 in 0.1385178565979004 seconds.\n",
      "Generated 3840 demands for set 42 of 100 in 0.14391303062438965 seconds.\n",
      "Generated 3840 demands for set 43 of 100 in 0.15009427070617676 seconds.\n",
      "Generated 3840 demands for set 44 of 100 in 0.15493249893188477 seconds.\n",
      "Generated 3840 demands for set 45 of 100 in 0.15112590789794922 seconds.\n",
      "Generated 3840 demands for set 46 of 100 in 0.14953398704528809 seconds.\n",
      "Generated 3840 demands for set 47 of 100 in 0.14797258377075195 seconds.\n",
      "Generated 3840 demands for set 48 of 100 in 0.13955020904541016 seconds.\n",
      "Generated 3840 demands for set 49 of 100 in 0.15117120742797852 seconds.\n",
      "Generated 3840 demands for set 50 of 100 in 0.14936184883117676 seconds.\n",
      "Generated 3840 demands for set 51 of 100 in 0.1532421112060547 seconds.\n",
      "Generated 3840 demands for set 52 of 100 in 0.1522223949432373 seconds.\n",
      "Generated 3840 demands for set 53 of 100 in 0.14254426956176758 seconds.\n",
      "Generated 3840 demands for set 54 of 100 in 0.13764142990112305 seconds.\n",
      "Generated 3840 demands for set 55 of 100 in 0.14716124534606934 seconds.\n",
      "Generated 3840 demands for set 56 of 100 in 0.14477777481079102 seconds.\n",
      "Generated 3840 demands for set 57 of 100 in 0.1582174301147461 seconds.\n",
      "Generated 3840 demands for set 58 of 100 in 0.1459217071533203 seconds.\n",
      "Generated 3840 demands for set 59 of 100 in 0.15469908714294434 seconds.\n",
      "Generated 3840 demands for set 60 of 100 in 0.13990545272827148 seconds.\n",
      "Generated 3840 demands for set 61 of 100 in 0.14431023597717285 seconds.\n",
      "Generated 3840 demands for set 62 of 100 in 0.14547038078308105 seconds.\n",
      "Generated 3840 demands for set 63 of 100 in 0.14753079414367676 seconds.\n",
      "Generated 3840 demands for set 64 of 100 in 0.14110445976257324 seconds.\n",
      "Generated 3840 demands for set 65 of 100 in 0.16324591636657715 seconds.\n",
      "Generated 3840 demands for set 66 of 100 in 0.15781021118164062 seconds.\n",
      "Generated 3840 demands for set 67 of 100 in 0.1604158878326416 seconds.\n",
      "Generated 3840 demands for set 68 of 100 in 0.14809656143188477 seconds.\n",
      "Generated 3840 demands for set 69 of 100 in 0.15203309059143066 seconds.\n",
      "Generated 3840 demands for set 70 of 100 in 0.13931679725646973 seconds.\n",
      "Generated 3840 demands for set 71 of 100 in 0.15420269966125488 seconds.\n",
      "Generated 3840 demands for set 72 of 100 in 0.14289307594299316 seconds.\n",
      "Generated 3840 demands for set 73 of 100 in 0.15010762214660645 seconds.\n",
      "Generated 3840 demands for set 74 of 100 in 0.1437208652496338 seconds.\n",
      "Generated 3840 demands for set 75 of 100 in 0.1538252830505371 seconds.\n",
      "Generated 3840 demands for set 76 of 100 in 0.13852763175964355 seconds.\n",
      "Generated 3840 demands for set 77 of 100 in 0.14224839210510254 seconds.\n",
      "Generated 3840 demands for set 78 of 100 in 0.14040875434875488 seconds.\n",
      "Generated 3840 demands for set 79 of 100 in 0.1519026756286621 seconds.\n",
      "Generated 3840 demands for set 80 of 100 in 0.14306974411010742 seconds.\n",
      "Generated 3840 demands for set 81 of 100 in 0.1435079574584961 seconds.\n",
      "Generated 3840 demands for set 82 of 100 in 0.1430375576019287 seconds.\n",
      "Generated 3840 demands for set 83 of 100 in 0.14405107498168945 seconds.\n",
      "Generated 3840 demands for set 84 of 100 in 0.14311003684997559 seconds.\n",
      "Generated 3840 demands for set 85 of 100 in 0.15782976150512695 seconds.\n",
      "Generated 3840 demands for set 86 of 100 in 0.1507875919342041 seconds.\n",
      "Generated 3840 demands for set 87 of 100 in 0.14511942863464355 seconds.\n",
      "Generated 3840 demands for set 88 of 100 in 0.1453700065612793 seconds.\n",
      "Generated 3840 demands for set 89 of 100 in 0.14176249504089355 seconds.\n",
      "Generated 3840 demands for set 90 of 100 in 0.13833975791931152 seconds.\n",
      "Generated 3840 demands for set 91 of 100 in 0.14319682121276855 seconds.\n",
      "Generated 3840 demands for set 92 of 100 in 0.1430370807647705 seconds.\n",
      "Generated 3840 demands for set 93 of 100 in 0.14675402641296387 seconds.\n",
      "Generated 3840 demands for set 94 of 100 in 0.14315438270568848 seconds.\n",
      "Generated 3840 demands for set 95 of 100 in 0.14646482467651367 seconds.\n",
      "Generated 3840 demands for set 96 of 100 in 0.14087295532226562 seconds.\n",
      "Generated 3840 demands for set 97 of 100 in 0.14238619804382324 seconds.\n",
      "Generated 3840 demands for set 98 of 100 in 0.13850855827331543 seconds.\n",
      "Generated 3840 demands for set 99 of 100 in 0.14676928520202637 seconds.\n",
      "Generated 3840 demands for set 100 of 100 in 0.14300823211669922 seconds.\n",
      "Time to save data to /home/cwfparsonson/Downloads/distributions.csv: 2.490035057067871 s\n",
      "Time to save data to /home/cwfparsonson/Downloads/data_v2.csv: 5.547299146652222 s\n",
      "Generated 100 sets of 3840 demands in 22.694161415100098 seconds.\n"
     ]
    }
   ],
   "source": []
  },
  {
   "cell_type": "code",
   "execution_count": null,
   "metadata": {},
   "outputs": [],
   "source": []
  }
 ],
 "metadata": {
  "kernelspec": {
   "display_name": "Python 3",
   "language": "python",
   "name": "python3"
  },
  "language_info": {
   "codemirror_mode": {
    "name": "ipython",
    "version": 3
   },
   "file_extension": ".py",
   "mimetype": "text/x-python",
   "name": "python",
   "nbconvert_exporter": "python",
   "pygments_lexer": "ipython3",
   "version": "3.7.7"
  }
 },
 "nbformat": 4,
 "nbformat_minor": 4
}
