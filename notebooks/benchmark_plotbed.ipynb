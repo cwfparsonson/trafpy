{
 "cells": [
  {
   "cell_type": "markdown",
   "metadata": {},
   "source": [
    "## SRPT vs. BASRPT"
   ]
  },
  {
   "cell_type": "code",
   "execution_count": 1,
   "metadata": {},
   "outputs": [
    {
     "name": "stdout",
     "output_type": "stream",
     "text": [
      "dict_keys(['benchmark_data', 'benchmarks', 'envs', 'config'])\n"
     ]
    }
   ],
   "source": [
    "%load_ext autoreload\n",
    "import trafpy\n",
    "import trafpy.generator as tpg\n",
    "\n",
    "import os\n",
    "import pickle\n",
    "import matplotlib.pyplot as plt\n",
    "\n",
    "path_to_benchmark_data = os.path.dirname(trafpy.__file__)+'/../data/testbed_data/ndf50_1s_university_testbed_data_v3.obj'\n",
    "filehandler = open(path_to_benchmark_data, 'rb')\n",
    "tb_dict = pickle.load(filehandler)\n",
    "\n",
    "print(tb_dict.keys())"
   ]
  },
  {
   "cell_type": "code",
   "execution_count": 2,
   "metadata": {},
   "outputs": [
    {
     "name": "stdout",
     "output_type": "stream",
     "text": [
      "[<trafpy.manager.src.simulators.dcn.DCN object at 0x7ff1085b07c0>, <trafpy.manager.src.simulators.dcn.DCN object at 0x7ff017992880>, <trafpy.manager.src.simulators.dcn.DCN object at 0x7ff0143e4820>, <trafpy.manager.src.simulators.dcn.DCN object at 0x7ff01310a6d0>, <trafpy.manager.src.simulators.dcn.DCN object at 0x7ff011d71b20>, <trafpy.manager.src.simulators.dcn.DCN object at 0x7ff01037dca0>, <trafpy.manager.src.simulators.dcn.DCN object at 0x7ff00d617940>, <trafpy.manager.src.simulators.dcn.DCN object at 0x7ff00b3a6580>, <trafpy.manager.src.simulators.dcn.DCN object at 0x7ff00927b640>, <trafpy.manager.src.simulators.dcn.DCN object at 0x7ff0073680d0>, <trafpy.manager.src.simulators.dcn.DCN object at 0x7ff0040c8bb0>, <trafpy.manager.src.simulators.dcn.DCN object at 0x7ff001883820>, <trafpy.manager.src.simulators.dcn.DCN object at 0x7ff00df01190>, <trafpy.manager.src.simulators.dcn.DCN object at 0x7feff9868190>, <trafpy.manager.src.simulators.dcn.DCN object at 0x7feff70e2550>, <trafpy.manager.src.simulators.dcn.DCN object at 0x7feff4e47550>, <trafpy.manager.src.simulators.dcn.DCN object at 0x7feff248cd00>, <trafpy.manager.src.simulators.dcn.DCN object at 0x7fefefcb4850>, <trafpy.manager.src.simulators.dcn.DCN object at 0x7fefed341c10>, <trafpy.manager.src.simulators.dcn.DCN object at 0x7fefea22ee80>]\n"
     ]
    }
   ],
   "source": [
    "%autoreload\n",
    "envs = tb_dict['envs']\n",
    "print(envs)"
   ]
  },
  {
   "cell_type": "markdown",
   "metadata": {},
   "source": [
    "## TODO\n",
    "\n",
    "### Key Stats to Compare\n",
    "- Average flow completion time\n",
    "- 99th percentile flow completion time\n",
    "- Queue length\n",
    "- Throughput\n",
    "\n",
    "### Key Plots"
   ]
  },
  {
   "cell_type": "code",
   "execution_count": null,
   "metadata": {},
   "outputs": [],
   "source": [
    "%autoreload\n",
    "for env in envs:\n",
    "    print('Net capacity: {}'.format(env.network.graph['max_nw_capacity']))\n",
    "    print(env.get_scheduling_session_summary(print_summary=True))"
   ]
  },
  {
   "cell_type": "code",
   "execution_count": null,
   "metadata": {},
   "outputs": [],
   "source": [
    "%autoreload\n",
    "# collect testbed stats into dict\n",
    "testbed_stats = {'test_{}'.format(i): \n",
    "                 {envs[i].scheduler.scheduler_name: \n",
    "                  {'load_rate': envs[i].load, \n",
    "                   'load_frac': envs[i].load/envs[i].network.graph['max_nw_capacity'],\n",
    "                   'avrg_fct': envs[i].avrg_fct,\n",
    "                   'nn_fct': envs[i].nn_fct,\n",
    "                   'q_dict': envs[i].queue_evolution_dict,\n",
    "                   'throughput': envs[i].throughput}\n",
    "                 } for i in range(len(envs))}\n",
    "\n",
    "# find classes\n",
    "classes = []\n",
    "for test in testbed_stats.keys():\n",
    "    for _class in testbed_stats[test].keys():\n",
    "        if _class not in classes:\n",
    "            classes.append(_class)"
   ]
  },
  {
   "cell_type": "code",
   "execution_count": null,
   "metadata": {},
   "outputs": [],
   "source": [
    "%autoreload\n",
    "# avrg fct\n",
    "plot_dict = {_class: {'x_values': [], 'y_values': []} for _class in classes}\n",
    "\n",
    "for test in testbed_stats.keys():\n",
    "    _class = list(testbed_stats[test].keys())[0]\n",
    "    plot_dict[_class]['x_values'].append(testbed_stats[test][_class]['load_frac'])\n",
    "    plot_dict[_class]['y_values'].append(testbed_stats[test][_class]['avrg_fct'])\n",
    "\n",
    "fig = tpg.plot_val_scatter(plot_dict=plot_dict,xlabel='Load', ylabel='Average FCT (us)', show_fig=True)"
   ]
  },
  {
   "cell_type": "code",
   "execution_count": null,
   "metadata": {},
   "outputs": [],
   "source": [
    "%autoreload\n",
    "# 99th percentile fct\n",
    "plot_dict = {_class: {'x_values': [], 'y_values': []} for _class in classes}\n",
    "\n",
    "for test in testbed_stats.keys():\n",
    "    _class = list(testbed_stats[test].keys())[0]\n",
    "    plot_dict[_class]['x_values'].append(testbed_stats[test][_class]['load_frac'])\n",
    "    plot_dict[_class]['y_values'].append(testbed_stats[test][_class]['nn_fct'])\n",
    "\n",
    "fig = tpg.plot_val_scatter(plot_dict=plot_dict,xlabel='Load', ylabel='99th Percentile FCT (us)', show_fig=True)"
   ]
  },
  {
   "cell_type": "code",
   "execution_count": null,
   "metadata": {},
   "outputs": [],
   "source": [
    "%autoreload\n",
    "import numpy\n",
    "\n",
    "# queue length\n",
    "plot_dict = {}\n",
    "for test in testbed_stats.keys():\n",
    "    _class = list(testbed_stats[test].keys())[0]\n",
    "    load = testbed_stats[test][_class]['load_frac']\n",
    "    try:\n",
    "        plot_dict[load][_class]['x_values'] = None\n",
    "        plot_dict[load][_class]['y_values'] = None\n",
    "    except KeyError:\n",
    "        # not yet added this load\n",
    "        try:\n",
    "            plot_dict[load][_class] = {}\n",
    "            plot_dict[load][_class]['x_values'] = None\n",
    "            plot_dict[load][_class]['y_values'] = None\n",
    "        except KeyError:\n",
    "            plot_dict[load] = {}\n",
    "            plot_dict[load][_class] = {}\n",
    "            plot_dict[load][_class]['x_values'] = None\n",
    "            plot_dict[load][_class]['y_values'] = None\n",
    "\n",
    "src = 'server_2'\n",
    "dst='server_10'\n",
    "for test in testbed_stats.keys():\n",
    "    _class = list(testbed_stats[test].keys())[0]\n",
    "    load = testbed_stats[test][_class]['load_frac']\n",
    "    plot_dict[load][_class]['x_values'] = testbed_stats[test][_class]['q_dict'][src][dst]['times'] \n",
    "    plot_dict[load][_class]['y_values'] = testbed_stats[test][_class]['q_dict'][src][dst]['queue_lengths']\n",
    "    \n",
    "for load in plot_dict.keys():\n",
    "    tpg.plot_val_line(plot_dict=plot_dict[load],xlabel='Time (us)', ylabel='{}-{} Queue Length (Bytes)'.format(src,dst), show_fig=True)"
   ]
  },
  {
   "cell_type": "code",
   "execution_count": null,
   "metadata": {},
   "outputs": [],
   "source": [
    "%autoreload\n",
    "# throughput\n",
    "plot_dict = {}\n",
    "for test in testbed_stats.keys():\n",
    "    _class = list(testbed_stats[test].keys())[0]\n",
    "    load = testbed_stats[test][_class]['load_frac']\n",
    "    try:\n",
    "        plot_dict[load]['x_values'].append(_class[0])\n",
    "        plot_dict[load]['y_values'].append(testbed_stats[test][_class]['throughput'])\n",
    "    except KeyError:\n",
    "        try:\n",
    "            plot_dict[load] = {}\n",
    "            plot_dict[load]['x_values'].append(_class[0])\n",
    "            plot_dict[load]['y_values'].append(testbed_stats[test][_class]['throughput'])\n",
    "        except KeyError:\n",
    "            plot_dict[load] = {}\n",
    "            plot_dict[load]['x_values'] = []\n",
    "            plot_dict[load]['y_values'] = []\n",
    "            plot_dict[load]['x_values'].append(_class[0])\n",
    "            plot_dict[load]['y_values'].append(testbed_stats[test][_class]['throughput'])\n",
    "    \n",
    "print(plot_dict)\n",
    "for load in plot_dict.keys():\n",
    "    tpg.plot_val_bar(x_values=plot_dict[load]['x_values'],y_values=plot_dict[load]['y_values'],xlabel='Scheduler', ylabel='Load {} Throughput (B/s)'.format(str(round(load,2))), show_fig=True)"
   ]
  },
  {
   "cell_type": "markdown",
   "metadata": {},
   "source": [
    "## Tuning BASRPT"
   ]
  },
  {
   "cell_type": "code",
   "execution_count": null,
   "metadata": {},
   "outputs": [],
   "source": [
    "%autoreload\n",
    "import trafpy\n",
    "import trafpy.generator as tpg\n",
    "\n",
    "import os\n",
    "import pickle\n",
    "import matplotlib.pyplot as plt\n",
    "\n",
    "path_to_benchmark_data = os.path.dirname(trafpy.__file__)+'/../data/testbed_data/ndf10_university_testbed_data_basrpt_tuning.obj'\n",
    "filehandler = open(path_to_benchmark_data, 'rb')\n",
    "tb_dict = pickle.load(filehandler)\n",
    "\n",
    "print(tb_dict.keys())\n",
    "\n",
    "\n"
   ]
  },
  {
   "cell_type": "code",
   "execution_count": null,
   "metadata": {},
   "outputs": [],
   "source": [
    "envs = tb_dict['envs']\n",
    "print(envs)"
   ]
  },
  {
   "cell_type": "markdown",
   "metadata": {},
   "source": [
    "## TODO\n",
    "\n",
    "### Key Stats to Compare\n",
    "- Throughput vs. V\n",
    "- Average FCT vs. V\n",
    "- 99th Percentile vs. V\n",
    "- Queue Evolution (V composite)\n",
    "\n",
    "### Key Plots"
   ]
  },
  {
   "cell_type": "code",
   "execution_count": null,
   "metadata": {},
   "outputs": [],
   "source": [
    "for env in envs:\n",
    "    print('Net capacity: {}'.format(env.network.graph['max_nw_capacity']))\n",
    "    print(env.get_scheduling_session_summary(print_summary=True))"
   ]
  },
  {
   "cell_type": "code",
   "execution_count": null,
   "metadata": {},
   "outputs": [],
   "source": [
    "# collect testbed stats into dict\n",
    "testbed_stats = {'test_{}'.format(i): \n",
    "                 {envs[i].scheduler.scheduler_name: \n",
    "                  {'load_rate': envs[i].load, \n",
    "                   'load_frac': envs[i].load/envs[i].network.graph['max_nw_capacity'],\n",
    "                   'avrg_fct': envs[i].avrg_fct,\n",
    "                   'nn_fct': envs[i].nn_fct,\n",
    "                   'q_dict': envs[i].queue_evolution_dict,\n",
    "                   'throughput': envs[i].throughput,\n",
    "                   'V': envs[i].scheduler.V}\n",
    "                 } for i in range(len(envs))}\n",
    "\n",
    "# find classes\n",
    "classes = []\n",
    "for test in testbed_stats.keys():\n",
    "    for _class in testbed_stats[test].keys():\n",
    "        if _class not in classes:\n",
    "            classes.append(_class)"
   ]
  },
  {
   "cell_type": "code",
   "execution_count": null,
   "metadata": {},
   "outputs": [],
   "source": [
    "# avrg fct\n",
    "plot_dict = {_class: {'x_values': [], 'y_values': []} for _class in classes}\n",
    "\n",
    "for test in testbed_stats.keys():\n",
    "    _class = list(testbed_stats[test].keys())[0]\n",
    "    plot_dict[_class]['x_values'].append(testbed_stats[test][_class]['V'])\n",
    "    plot_dict[_class]['y_values'].append(testbed_stats[test][_class]['avrg_fct'])\n",
    "\n",
    "fig = tpg.plot_val_scatter(plot_dict=plot_dict,xlabel='V', ylabel='Average FCT (us)', show_fig=True)"
   ]
  },
  {
   "cell_type": "code",
   "execution_count": null,
   "metadata": {},
   "outputs": [],
   "source": [
    "# 99th percentile fct\n",
    "plot_dict = {_class: {'x_values': [], 'y_values': []} for _class in classes}\n",
    "\n",
    "for test in testbed_stats.keys():\n",
    "    _class = list(testbed_stats[test].keys())[0]\n",
    "    plot_dict[_class]['x_values'].append(testbed_stats[test][_class]['V'])\n",
    "    plot_dict[_class]['y_values'].append(testbed_stats[test][_class]['nn_fct'])\n",
    "\n",
    "fig = tpg.plot_val_scatter(plot_dict=plot_dict,xlabel='V', ylabel='99th Percentile FCT (us)', show_fig=True)"
   ]
  },
  {
   "cell_type": "code",
   "execution_count": null,
   "metadata": {},
   "outputs": [],
   "source": [
    "# throughput\n",
    "plot_dict = {_class: {'x_values': [], 'y_values': []} for _class in classes}\n",
    "\n",
    "for test in testbed_stats.keys():\n",
    "    _class = list(testbed_stats[test].keys())[0]\n",
    "    plot_dict[_class]['x_values'].append(testbed_stats[test][_class]['V'])\n",
    "    plot_dict[_class]['y_values'].append(testbed_stats[test][_class]['throughput'])\n",
    "\n",
    "fig = tpg.plot_val_scatter(plot_dict=plot_dict,xlabel='V', ylabel='Throughput (B/s)', show_fig=True)"
   ]
  },
  {
   "cell_type": "code",
   "execution_count": null,
   "metadata": {},
   "outputs": [],
   "source": [
    "import numpy\n",
    "\n",
    "# queue length\n",
    "plot_dict = {}\n",
    "for test in testbed_stats.keys():\n",
    "    _class = list(testbed_stats[test].keys())[0]\n",
    "    load = testbed_stats[test][_class]['load_frac']\n",
    "    try:\n",
    "        plot_dict[load][_class]['x_values'] = None\n",
    "        plot_dict[load][_class]['y_values'] = None\n",
    "    except KeyError:\n",
    "        # not yet added this load\n",
    "        try:\n",
    "            plot_dict[load][_class] = {}\n",
    "            plot_dict[load][_class]['x_values'] = None\n",
    "            plot_dict[load][_class]['y_values'] = None\n",
    "        except KeyError:\n",
    "            plot_dict[load] = {}\n",
    "            plot_dict[load][_class] = {}\n",
    "            plot_dict[load][_class]['x_values'] = None\n",
    "            plot_dict[load][_class]['y_values'] = None\n",
    "\n",
    "src = 'server_2'\n",
    "dst='server_10'\n",
    "for test in testbed_stats.keys():\n",
    "    _class = list(testbed_stats[test].keys())[0]\n",
    "    load = testbed_stats[test][_class]['load_frac']\n",
    "    plot_dict[load][_class]['x_values'] = testbed_stats[test][_class]['q_dict'][src][dst]['times'] \n",
    "    plot_dict[load][_class]['y_values'] = testbed_stats[test][_class]['q_dict'][src][dst]['queue_lengths']\n",
    "    \n",
    "for load in plot_dict.keys():\n",
    "    tpg.plot_val_line(plot_dict=plot_dict[load],xlabel='Time (us)', ylabel='{}-{} Queue Length (Bytes)'.format(src,dst), show_fig=True)"
   ]
  },
  {
   "cell_type": "code",
   "execution_count": 8,
   "metadata": {},
   "outputs": [
    {
     "name": "stdout",
     "output_type": "stream",
     "text": [
      "8337581.9310495285\n"
     ]
    }
   ],
   "source": [
    "%autoreload\n",
    "import trafpy\n",
    "from trafpy.manager import EnvAnalyser\n",
    "\n",
    "analyser = EnvAnalyser(env=envs[0])\n",
    "\n",
    "analyser.compute_flow_summary()\n",
    "print(analyser.measurement_duration)"
   ]
  },
  {
   "cell_type": "code",
   "execution_count": null,
   "metadata": {},
   "outputs": [],
   "source": []
  }
 ],
 "metadata": {
  "kernelspec": {
   "display_name": "deep_scheduler",
   "language": "python",
   "name": "deep_scheduler"
  },
  "language_info": {
   "codemirror_mode": {
    "name": "ipython",
    "version": 3
   },
   "file_extension": ".py",
   "mimetype": "text/x-python",
   "name": "python",
   "nbconvert_exporter": "python",
   "pygments_lexer": "ipython3",
   "version": "3.8.3"
  }
 },
 "nbformat": 4,
 "nbformat_minor": 4
}
