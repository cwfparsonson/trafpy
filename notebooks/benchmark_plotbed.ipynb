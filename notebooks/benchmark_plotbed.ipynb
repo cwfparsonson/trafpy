{
 "cells": [
  {
   "cell_type": "code",
   "execution_count": 7,
   "metadata": {},
   "outputs": [
    {
     "name": "stdout",
     "output_type": "stream",
     "text": [
      "dict_keys(['benchmark_data', 'benchmarks', 'envs', 'config'])\n"
     ]
    }
   ],
   "source": [
    "import trafpy\n",
    "import trafpy.generator as tpg\n",
    "\n",
    "import os\n",
    "import pickle\n",
    "\n",
    "path_to_benchmark_data = os.path.dirname(trafpy.__file__)+'/../data/university_benchmark_test_1.obj'\n",
    "filehandler = open(path_to_benchmark_data, 'rb')\n",
    "tb_dict = pickle.load(filehandler)\n",
    "\n",
    "print(tb_dict.keys())"
   ]
  },
  {
   "cell_type": "code",
   "execution_count": 8,
   "metadata": {},
   "outputs": [
    {
     "name": "stdout",
     "output_type": "stream",
     "text": [
      "[<trafpy.manager.src.simulators.dcn.DCN object at 0x7f12388ad460>, <trafpy.manager.src.simulators.dcn.DCN object at 0x7f1225db1e50>, <trafpy.manager.src.simulators.dcn.DCN object at 0x7f12163cc2e0>, <trafpy.manager.src.simulators.dcn.DCN object at 0x7f12067de2b0>]\n"
     ]
    }
   ],
   "source": [
    "envs = tb_dict['envs']\n",
    "print(envs)"
   ]
  },
  {
   "cell_type": "code",
   "execution_count": 9,
   "metadata": {},
   "outputs": [
    {
     "name": "stdout",
     "output_type": "stream",
     "text": [
      "-=-=-=-=-=-=-= Scheduling Session Ended -=-=-=-=-=-=-=\n",
      "SUMMARY:\n",
      "~* General Info *~\n",
      "Total session duration: 113000000.0 time units\n",
      "Total number of generated demands (jobs or flows): 900\n",
      "Total info arrived: 3302359.0 info units\n",
      "Load: 0.5241569284124231 info unit demands arrived per unit time (from first to last flow arriving)\n",
      "Total info transported: 3302359.0 info units\n",
      "Throughput: 0.02922441592920354 info units transported per unit time\n",
      "\n",
      "~* Flow Info *~\n",
      "Total number generated flows (src!=dst,dependency_type=='data_dep'): 900\n",
      "Time first flow arrived: 0.0 time units\n",
      "Time last flow arrived: 6300325.0 time units\n",
      "Time first flow completed: 1000000.0 time units\n",
      "Time last flow completed: 113000000.0 time units\n",
      "Total number of demands that arrived and became flows: 900\n",
      "Total number of flows that were completed: 900\n",
      "Total number of dropped flows + flows in queues at end of session: 0\n",
      "Average FCT: 41139774.314444445 time units\n",
      "99th percentile FCT: 105419934.1 time units\n",
      "None\n",
      "-=-=-=-=-=-=-= Scheduling Session Ended -=-=-=-=-=-=-=\n",
      "SUMMARY:\n",
      "~* General Info *~\n",
      "Total session duration: 135000000.0 time units\n",
      "Total number of generated demands (jobs or flows): 900\n",
      "Total info arrived: 3302359.0 info units\n",
      "Load: 0.5241569284124231 info unit demands arrived per unit time (from first to last flow arriving)\n",
      "Total info transported: 3302359.0 info units\n",
      "Throughput: 0.02446191851851852 info units transported per unit time\n",
      "\n",
      "~* Flow Info *~\n",
      "Total number generated flows (src!=dst,dependency_type=='data_dep'): 900\n",
      "Time first flow arrived: 0.0 time units\n",
      "Time last flow arrived: 6300325.0 time units\n",
      "Time first flow completed: 1000000.0 time units\n",
      "Time last flow completed: 135000000.0 time units\n",
      "Total number of demands that arrived and became flows: 900\n",
      "Total number of flows that were completed: 900\n",
      "Total number of dropped flows + flows in queues at end of session: 0\n",
      "Average FCT: 53927552.09222222 time units\n",
      "99th percentile FCT: 124418246.49 time units\n",
      "None\n",
      "-=-=-=-=-=-=-= Scheduling Session Ended -=-=-=-=-=-=-=\n",
      "SUMMARY:\n",
      "~* General Info *~\n",
      "Total session duration: 227000000.0 time units\n",
      "Total number of generated demands (jobs or flows): 1978\n",
      "Total info arrived: 6599348.0 info units\n",
      "Load: 0.5342947919489365 info unit demands arrived per unit time (from first to last flow arriving)\n",
      "Total info transported: 6599348.0 info units\n",
      "Throughput: 0.029072017621145373 info units transported per unit time\n",
      "\n",
      "~* Flow Info *~\n",
      "Total number generated flows (src!=dst,dependency_type=='data_dep'): 1978\n",
      "Time first flow arrived: 0.0 time units\n",
      "Time last flow arrived: 12351511.0 time units\n",
      "Time first flow completed: 1000000.0 time units\n",
      "Time last flow completed: 227000000.0 time units\n",
      "Total number of demands that arrived and became flows: 1978\n",
      "Total number of flows that were completed: 1978\n",
      "Total number of dropped flows + flows in queues at end of session: 0\n",
      "Average FCT: 78822048.53791709 time units\n",
      "99th percentile FCT: 212949480.39 time units\n",
      "None\n",
      "-=-=-=-=-=-=-= Scheduling Session Ended -=-=-=-=-=-=-=\n",
      "SUMMARY:\n",
      "~* General Info *~\n",
      "Total session duration: 284000000.0 time units\n",
      "Total number of generated demands (jobs or flows): 1978\n",
      "Total info arrived: 6599348.0 info units\n",
      "Load: 0.5342947919489365 info unit demands arrived per unit time (from first to last flow arriving)\n",
      "Total info transported: 6599348.0 info units\n",
      "Throughput: 0.023237140845070423 info units transported per unit time\n",
      "\n",
      "~* Flow Info *~\n",
      "Total number generated flows (src!=dst,dependency_type=='data_dep'): 1978\n",
      "Time first flow arrived: 0.0 time units\n",
      "Time last flow arrived: 12351511.0 time units\n",
      "Time first flow completed: 1000000.0 time units\n",
      "Time last flow completed: 284000000.0 time units\n",
      "Total number of demands that arrived and became flows: 1978\n",
      "Total number of flows that were completed: 1978\n",
      "Total number of dropped flows + flows in queues at end of session: 0\n",
      "Average FCT: 115573312.44084935 time units\n",
      "99th percentile FCT: 267667528.4 time units\n",
      "None\n"
     ]
    }
   ],
   "source": [
    "for env in envs:\n",
    "    print(env.get_scheduling_session_summary(print_summary=True))"
   ]
  },
  {
   "cell_type": "code",
   "execution_count": null,
   "metadata": {},
   "outputs": [],
   "source": []
  }
 ],
 "metadata": {
  "kernelspec": {
   "display_name": "deep_scheduler",
   "language": "python",
   "name": "deep_scheduler"
  },
  "language_info": {
   "codemirror_mode": {
    "name": "ipython",
    "version": 3
   },
   "file_extension": ".py",
   "mimetype": "text/x-python",
   "name": "python",
   "nbconvert_exporter": "python",
   "pygments_lexer": "ipython3",
   "version": "3.8.3"
  }
 },
 "nbformat": 4,
 "nbformat_minor": 4
}
