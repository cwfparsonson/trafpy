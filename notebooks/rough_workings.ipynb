{
 "cells": [
  {
   "cell_type": "code",
   "execution_count": 1,
   "metadata": {},
   "outputs": [
    {
     "name": "stdout",
     "output_type": "stream",
     "text": [
      "Time to load data from /home/zciccwf/phd_project/projects/trafpy/trafpy/../data/benchmark_data/university_benchmark_data.json: 0.059393882751464844 s\n"
     ]
    }
   ],
   "source": [
    "import trafpy\n",
    "import trafpy.generator as tpg\n",
    "\n",
    "import os\n",
    "import json\n",
    "\n",
    "\n",
    "path_to_benchmark_data = os.path.dirname(trafpy.__file__)+'/../data/benchmark_data/university_benchmark_data.json'\n",
    "benchmark_data = json.loads(tpg.load_data_from_json(path_to_benchmark_data))"
   ]
  },
  {
   "cell_type": "code",
   "execution_count": null,
   "metadata": {},
   "outputs": [],
   "source": [
    "benchmarks = list(benchmark_data.keys())\n",
    "demand_data_list = []\n",
    "\n",
    "for benchmark in benchmarks:\n",
    "    for load in benchmark_data[benchmark]:\n",
    "        for repeat in benchmark_data[benchmark][load]:\n",
    "            demand_data = benchmark_data[benchmark][load][repeat]\n",
    "            demand_data_list.append(demand_data)\n",
    "            \n",
    "num_sets_of_demand_data = len(demand_data_list)\n",
    "print('Number of sets of demand data: {}'.format(num_sets_of_demand_data))"
   ]
  },
  {
   "cell_type": "code",
   "execution_count": null,
   "metadata": {},
   "outputs": [],
   "source": [
    "print('Keys of first demand data set:\\n{}'.format(demand_data_list[0].keys()))\n",
    "\n",
    "print('\\nStructure of first demand data set:\\n{}'.format(demand_data_list[0]))"
   ]
  },
  {
   "cell_type": "code",
   "execution_count": null,
   "metadata": {},
   "outputs": [],
   "source": [
    "num_flows_list = []\n",
    "time_first_flow_arrived_list = []\n",
    "time_last_flow_arrived_list = []\n",
    "smallest_flow_size_list = []\n",
    "largest_flow_size_list = []\n",
    "for demand_data in demand_data_list:\n",
    "    num_flows_list.append(len(demand_data['flow_id']))\n",
    "    time_first_flow_arrived_list.append(min(demand_data['event_time']))\n",
    "    time_last_flow_arrived_list.append(max(demand_data['event_time']))\n",
    "    smallest_flow_size_list.append(min(demand_data['flow_size']))\n",
    "    largest_flow_size_list.append(max(demand_data['flow_size']))\n",
    "\n",
    "print('Num flows in each set of demand data:\\n{}'.format(num_flows_list))\n",
    "print('Times first flow arrived in each set of demand data:\\n{}'.format(time_first_flow_arrived_list))\n",
    "print('Times last flow arrived in each set of demand data:\\n{}'.format(time_last_flow_arrived_list))\n",
    "print('Smallest flow size for each set:\\n{}'.format(smallest_flow_size_list))\n",
    "print('Largest flow size for each set:\\n{}'.format(largest_flow_size_list))\n",
    "\n",
    "slot_size = 1e6\n",
    "num_slots_list = [int(_time/slot_size) for _time in time_last_flow_arrived_list]\n",
    "print('Num slots in each set of demand data:\\n{}'.format(num_slots_list))\n"
   ]
  },
  {
   "cell_type": "code",
   "execution_count": null,
   "metadata": {},
   "outputs": [],
   "source": [
    "for benchmark in benchmarks:\n",
    "    print(benchmark_data[benchmark].keys())\n",
    "    for load in list(benchmark_data[benchmark].keys())[:2]:\n",
    "        for repeat in benchmark_data[benchmark][load]:\n",
    "            print('benchmark: {} | load: {} | repeat: {}'.format(benchmark,load,repeat))"
   ]
  },
  {
   "cell_type": "code",
   "execution_count": null,
   "metadata": {},
   "outputs": [],
   "source": [
    "print(demand_data_list[0]['flow_size'])"
   ]
  },
  {
   "cell_type": "code",
   "execution_count": null,
   "metadata": {},
   "outputs": [],
   "source": [
    "path_to_dist = os.path.dirname(trafpy.__file__)+'/../trafpy/benchmarker/versions/benchmark_v001/data/university/flow_size_dist.json'\n",
    "flow_size_dist = json.loads(tpg.load_data_from_json(path_to_dist))\n",
    "print('flow size dist:\\n{}'.format(flow_size_dist))"
   ]
  },
  {
   "cell_type": "code",
   "execution_count": null,
   "metadata": {},
   "outputs": [],
   "source": [
    "test_flow_size_dist = tpg.gen_named_val_dist(dist='lognormal',\n",
    "                                       params={'_mu': 7, '_sigma': 2.5},\n",
    "                                       show_fig=False,\n",
    "                                       print_data=False,\n",
    "                                       min_val=1,\n",
    "                                       max_val='None',\n",
    "                                       round_to_nearest=1,\n",
    "                                       xlim=[1e2,1e12])\n",
    "print(min(list(test_flow_size_dist.keys())))\n",
    "print(test_flow_size_dist)"
   ]
  },
  {
   "cell_type": "code",
   "execution_count": 4,
   "metadata": {},
   "outputs": [
    {
     "data": {
      "application/vnd.jupyter.widget-view+json": {
       "model_id": "53e9f6a6a8b54e19a2661850c5d7da04",
       "version_major": 2,
       "version_minor": 0
      },
      "text/plain": [
       "interactive(children=(FloatText(value=0.1, description='_mu:', step=0.05), FloatText(value=1.0, description='_…"
      ]
     },
     "metadata": {},
     "output_type": "display_data"
    }
   ],
   "source": [
    "NUM_DEMANDS = 5000\n",
    "rand_vars = tpg.gen_named_val_dist(dist='lognormal',\n",
    "                                   interactive_plot=True,\n",
    "                                   xlim=[1e0,1e7],\n",
    "                                   min_val=1,\n",
    "                                   max_val=None,\n",
    "                                   rand_var_name='Flow Size (Bytes)',\n",
    "                                   prob_rand_var_less_than=[10000],\n",
    "                                   num_bins=20,\n",
    "                                   size=NUM_DEMANDS)"
   ]
  },
  {
   "cell_type": "code",
   "execution_count": 5,
   "metadata": {},
   "outputs": [
    {
     "name": "stdout",
     "output_type": "stream",
     "text": [
      "1.202115789289051\n"
     ]
    }
   ],
   "source": [
    "print(min(rand_vars.result))"
   ]
  },
  {
   "cell_type": "code",
   "execution_count": null,
   "metadata": {},
   "outputs": [],
   "source": []
  }
 ],
 "metadata": {
  "kernelspec": {
   "display_name": "Python 3",
   "language": "python",
   "name": "python3"
  },
  "language_info": {
   "codemirror_mode": {
    "name": "ipython",
    "version": 3
   },
   "file_extension": ".py",
   "mimetype": "text/x-python",
   "name": "python",
   "nbconvert_exporter": "python",
   "pygments_lexer": "ipython3",
   "version": "3.8.3"
  }
 },
 "nbformat": 4,
 "nbformat_minor": 4
}
