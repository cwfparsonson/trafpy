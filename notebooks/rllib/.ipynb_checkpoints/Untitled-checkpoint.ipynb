{
 "cells": [
  {
   "cell_type": "code",
   "execution_count": null,
   "metadata": {},
   "outputs": [],
   "source": [
    "import ray\n",
    "import ray.rllib.agents.ppo as ppo\n",
    "\n",
    "ray.shutdown()\n",
    "ray.init(ignore_reinit_error=True)\n",
    "\n",
    "\n",
    "\n",
    "\n",
    "import shutil\n",
    "import os\n",
    "\n",
    "# clear saved agent folder\n",
    "CHECKPOINT_ROOT = 'tmp/ppo/cartpole_v0'\n",
    "shutil.rmtree(CHECKPOINT_ROOT, ignore_errors=True, onerror=None)\n",
    "\n",
    "# clear ray results folder\n",
    "RAY_RESULTS = os.getenv('HOME') + '/ray_results'\n",
    "print(RAY_RESULTS)\n",
    "shutil.rmtree(RAY_RESULTS, ignore_errors=True, onerror=None)\n",
    "\n",
    "config = ppo.DEFAULT_CONFIG.copy()\n",
    "\n",
    "config['num_gpus'] = 1\n",
    "config['num_workers'] = 1\n",
    "config['eager_tracing'] = False\n",
    "config['log_level'] = 'WARN'\n",
    "\n",
    "\n",
    "agent = ppo.PPOTrainer(config=config, env='CartPole-v0')"
   ]
  }
 ],
 "metadata": {
  "kernelspec": {
   "display_name": "deep_scheduler",
   "language": "python",
   "name": "deep_scheduler"
  },
  "language_info": {
   "codemirror_mode": {
    "name": "ipython",
    "version": 3
   },
   "file_extension": ".py",
   "mimetype": "text/x-python",
   "name": "python",
   "nbconvert_exporter": "python",
   "pygments_lexer": "ipython3",
   "version": "3.8.3"
  }
 },
 "nbformat": 4,
 "nbformat_minor": 4
}
