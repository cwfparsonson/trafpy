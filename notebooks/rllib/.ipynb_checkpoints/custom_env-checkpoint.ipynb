{
 "cells": [
  {
   "cell_type": "markdown",
   "metadata": {},
   "source": [
    "https://medium.com/distributed-computing-with-ray/anatomy-of-a-custom-environment-for-rllib-327157f269e5"
   ]
  },
  {
   "cell_type": "code",
   "execution_count": 8,
   "metadata": {},
   "outputs": [],
   "source": [
    "import gym\n",
    "from gym.utils import seeding"
   ]
  },
  {
   "cell_type": "markdown",
   "metadata": {},
   "source": [
    "## Define Custom Env\n",
    "\n",
    "Gym classes should inherit from the gym.Env class\n",
    "\n",
    "Gym classes should have 6 methods:\n",
    "- **__init__()** with self.action_space and self.observation_space\n",
    "- **reset()** resets the state of the environment for a new episode and returns initial observation\n",
    "- **step(action)** how an agent takes an action during one step in an episode\n",
    "- **render()** (*optional*) visualise the state of the environment\n",
    "- **seed()** (*optional*) set seet for env's random generators\n",
    "- **close()** (*optional*) how to close an environment"
   ]
  },
  {
   "cell_type": "code",
   "execution_count": 40,
   "metadata": {},
   "outputs": [],
   "source": [
    "import numpy as np\n",
    "\n",
    "class Example_v0(gym.Env):\n",
    "    \n",
    "    def __init__(self, env_config=None):\n",
    "        # extra vars useful for this specific env\n",
    "        self.left_min, self.right_max = 1, 10\n",
    "        self.move_left, self.move_right = 0, 1\n",
    "        self.max_steps = 10\n",
    "        self.reward_away = -2\n",
    "        self.reward_step = -1\n",
    "        self.reward_goal = self.max_steps\n",
    "        self.metadata = {'render.modes': ['human']}\n",
    "        self.goal = int((self.left_min+self.right_max-1)/2) # place goal in middle of observation space array (makes env simpler)\n",
    "        self.init_positions = list(range(self.left_min, self.right_max))\n",
    "        self.init_positions.remove(self.goal)\n",
    "        \n",
    "        # vars required by gym\n",
    "        self.action_space = gym.spaces.Discrete(2) # 2 poss actions\n",
    "        self.observation_space = gym.spaces.Discrete(self.right_max+1) # observation space recieved by agent\n",
    "        \n",
    "        # optional\n",
    "        self.seed()\n",
    "        \n",
    "        \n",
    "    def reset(self):\n",
    "        # extra vars useful for this specific env\n",
    "        self.position = self.np_random.choice(self.init_positions) # agent position in array\n",
    "        self.count = 0 # number of steps taken this episode\n",
    "        \n",
    "        # vars required by gym\n",
    "        self.state = self.position\n",
    "        self.reward = 0\n",
    "        self.done = False\n",
    "        self.info = {}\n",
    "        \n",
    "        return self.state\n",
    "        \n",
    "    \n",
    "    def step(self, action):\n",
    "        if self.done:\n",
    "            # should never happen!\n",
    "            print('Episode done.')\n",
    "        elif self.count == self.max_steps:\n",
    "            self.done = True\n",
    "        else:\n",
    "            assert self.action_space.contains(action)\n",
    "            self.count += 1\n",
    "            \n",
    "            # simulation logic to handle action\n",
    "            if action == self.move_left:\n",
    "                if self.position == self.left_min:\n",
    "                    # invalid action\n",
    "                    self.reward = self.reward_away\n",
    "                else:\n",
    "                    # update position\n",
    "                    self.position -= 1\n",
    "                \n",
    "                if self.position == self.goal:\n",
    "                    # agent reached goal\n",
    "                    self.reward = self.reward_goal\n",
    "                    self.done = True\n",
    "                elif self.position < self.goal:\n",
    "                    # moving away from goal\n",
    "                    self.reward = self.reward_away\n",
    "                else:\n",
    "                    # moving towards goal\n",
    "                    self.reward = self.reward_step\n",
    "                    \n",
    "            elif action == self.move_right:\n",
    "                if self.position == self.right_max:\n",
    "                    # invalid action\n",
    "                    self.reward = self.reward_away\n",
    "                else:\n",
    "                    # update position\n",
    "                    self.position += 1\n",
    "                \n",
    "                if self.position == self.goal:\n",
    "                    # agent reached goal\n",
    "                    self.reward = self.reward_goal\n",
    "                    self.done = True\n",
    "                elif self.position > self.goal:\n",
    "                    # moving away from goal\n",
    "                    self.reward = self.reward_away\n",
    "                else:\n",
    "                    # moving towards goal\n",
    "                    self.reward = self.reward_step\n",
    "                    \n",
    "        # update env state\n",
    "        self.state = self.position\n",
    "        try:\n",
    "            assert self.observation_space.contains(self.state)\n",
    "        except AssertionError:\n",
    "            print('Invalid state', self.state)\n",
    "        \n",
    "        # (optional) define info dict (useful for diagnositc info & troubleshooting)\n",
    "        self.info['dist'] = self.goal - self.position\n",
    "            \n",
    "        return [self.state, self.reward, self.done, self.info]\n",
    "            \n",
    "        \n",
    "        \n",
    "    \n",
    "    def render(self, mode='human'):\n",
    "        s = \"position: {:2d}  reward: {:2d}  info: {}\"\n",
    "        print(s.format(self.state, self.reward, self.info))\n",
    "        \n",
    "    \n",
    "    def seed(self, seed=None):\n",
    "        self.np_random, seed = seeding.np_random(seed)\n",
    "        \n",
    "        return [seed]\n",
    "    \n",
    "    def close(self):\n",
    "        pass"
   ]
  },
  {
   "cell_type": "markdown",
   "metadata": {},
   "source": [
    "## Measure Random-Action Baseline"
   ]
  },
  {
   "cell_type": "code",
   "execution_count": 29,
   "metadata": {},
   "outputs": [],
   "source": [
    "def run_one_episode(env):\n",
    "    env.reset()\n",
    "    sum_reward = 0\n",
    "    \n",
    "    for i in range(env.max_steps):\n",
    "        action = env.action_space.sample()\n",
    "        state, reward, done, info = env.step(action)\n",
    "        sum_reward += reward\n",
    "        \n",
    "        if done:\n",
    "            break\n",
    "            \n",
    "    return sum_reward"
   ]
  },
  {
   "cell_type": "code",
   "execution_count": 30,
   "metadata": {},
   "outputs": [
    {
     "name": "stdout",
     "output_type": "stream",
     "text": [
      "Random action baseline: -4.9992\n"
     ]
    }
   ],
   "source": [
    "env = Example_v0()\n",
    "\n",
    "history = []\n",
    "\n",
    "for _ in range(10000):\n",
    "    sum_reward = run_one_episode(env)\n",
    "    history.append(sum_reward)\n",
    "    \n",
    "avrg_sum_reward = sum(history) / len(history)\n",
    "print('Random action baseline: {}'.format(avrg_sum_reward))"
   ]
  },
  {
   "cell_type": "markdown",
   "metadata": {},
   "source": [
    "## Train a Policy with RLLib"
   ]
  },
  {
   "cell_type": "code",
   "execution_count": 32,
   "metadata": {},
   "outputs": [
    {
     "name": "stdout",
     "output_type": "stream",
     "text": [
      "WARNING:tensorflow:From /home/zciccwf/.conda/envs/deep_scheduler/lib/python3.8/site-packages/tensorflow/python/compat/v2_compat.py:96: disable_resource_variables (from tensorflow.python.ops.variable_scope) is deprecated and will be removed in a future version.\n",
      "Instructions for updating:\n",
      "non-resource variables are not supported in the long term\n"
     ]
    },
    {
     "name": "stderr",
     "output_type": "stream",
     "text": [
      "2020-11-08 11:36:33,934\tINFO services.py:1164 -- View the Ray dashboard at \u001b[1m\u001b[32mhttp://127.0.0.1:8265\u001b[39m\u001b[22m\n"
     ]
    },
    {
     "data": {
      "text/plain": [
       "{'node_ip_address': '128.40.41.23',\n",
       " 'raylet_ip_address': '128.40.41.23',\n",
       " 'redis_address': '128.40.41.23:41352',\n",
       " 'object_store_address': '/tmp/ray/session_2020-11-08_11-36-31_984135_20585/sockets/plasma_store',\n",
       " 'raylet_socket_name': '/tmp/ray/session_2020-11-08_11-36-31_984135_20585/sockets/raylet',\n",
       " 'webui_url': '127.0.0.1:8265',\n",
       " 'session_dir': '/tmp/ray/session_2020-11-08_11-36-31_984135_20585',\n",
       " 'metrics_export_port': 53385}"
      ]
     },
     "execution_count": 32,
     "metadata": {},
     "output_type": "execute_result"
    }
   ],
   "source": [
    "import ray\n",
    "import ray.rllib.agents.ppo as ppo\n",
    "\n",
    "ray.shutdown()\n",
    "ray.init(ignore_reinit_error=True)"
   ]
  },
  {
   "cell_type": "markdown",
   "metadata": {},
   "source": [
    "### Configure Checkpoint Saving"
   ]
  },
  {
   "cell_type": "code",
   "execution_count": 31,
   "metadata": {},
   "outputs": [
    {
     "name": "stdout",
     "output_type": "stream",
     "text": [
      "/home/zciccwf/ray_results\n"
     ]
    }
   ],
   "source": [
    "import shutil\n",
    "import os\n",
    "\n",
    "# clear saved agent folder\n",
    "CHECKPOINT_ROOT = 'tmp/ppo/custom_env'\n",
    "shutil.rmtree(CHECKPOINT_ROOT, ignore_errors=True, onerror=None)\n",
    "\n",
    "# clear ray results folder\n",
    "RAY_RESULTS = os.getenv('HOME') + '/ray_results'\n",
    "print(RAY_RESULTS)\n",
    "shutil.rmtree(RAY_RESULTS, ignore_errors=True, onerror=None)"
   ]
  },
  {
   "cell_type": "markdown",
   "metadata": {},
   "source": [
    "### Configure RL Params"
   ]
  },
  {
   "cell_type": "code",
   "execution_count": 37,
   "metadata": {},
   "outputs": [
    {
     "name": "stdout",
     "output_type": "stream",
     "text": [
      "WARNING:tensorflow:From /home/zciccwf/.conda/envs/deep_scheduler/lib/python3.8/site-packages/tensorflow/python/ops/resource_variable_ops.py:1659: calling BaseResourceVariable.__init__ (from tensorflow.python.ops.resource_variable_ops) with constraint is deprecated and will be removed in a future version.\n",
      "Instructions for updating:\n",
      "If using Keras pass *_constraint arguments to layers.\n"
     ]
    },
    {
     "name": "stderr",
     "output_type": "stream",
     "text": [
      "\u001b[2m\u001b[36m(pid=80409)\u001b[0m WARNING:tensorflow:From /home/zciccwf/.conda/envs/deep_scheduler/lib/python3.8/site-packages/tensorflow/python/compat/v2_compat.py:96: disable_resource_variables (from tensorflow.python.ops.variable_scope) is deprecated and will be removed in a future version.\n",
      "\u001b[2m\u001b[36m(pid=80409)\u001b[0m Instructions for updating:\n",
      "\u001b[2m\u001b[36m(pid=80409)\u001b[0m non-resource variables are not supported in the long term\n",
      "\u001b[2m\u001b[36m(pid=80409)\u001b[0m WARNING:tensorflow:From /home/zciccwf/.conda/envs/deep_scheduler/lib/python3.8/site-packages/tensorflow/python/ops/resource_variable_ops.py:1659: calling BaseResourceVariable.__init__ (from tensorflow.python.ops.resource_variable_ops) with constraint is deprecated and will be removed in a future version.\n",
      "\u001b[2m\u001b[36m(pid=80409)\u001b[0m Instructions for updating:\n",
      "\u001b[2m\u001b[36m(pid=80409)\u001b[0m If using Keras pass *_constraint arguments to layers.\n",
      "2020-11-08 11:40:12,300\tINFO trainable.py:252 -- Trainable.setup took 22.998 seconds. If your trainable is slow to initialize, consider setting reuse_actors=True to reduce actor creation overheads.\n",
      "2020-11-08 11:40:12,302\tWARNING util.py:39 -- Install gputil for GPU system monitoring.\n"
     ]
    }
   ],
   "source": [
    "config = ppo.DEFAULT_CONFIG.copy() # use 'proximal policy optimisation' policy optimiser\n",
    "config['num_gpus'] = 1\n",
    "config['num_workers'] = 1\n",
    "config['eager_tracing'] = False\n",
    "config['log_level'] = 'WARN'\n",
    "\n",
    "agent = ppo.PPOTrainer(config=config, env=Example_v0)"
   ]
  },
  {
   "cell_type": "markdown",
   "metadata": {},
   "source": [
    "### Train Agent"
   ]
  },
  {
   "cell_type": "code",
   "execution_count": 39,
   "metadata": {},
   "outputs": [
    {
     "name": "stdout",
     "output_type": "stream",
     "text": [
      "WARNING:tensorflow:From /home/zciccwf/.conda/envs/deep_scheduler/lib/python3.8/site-packages/ray/rllib/policy/tf_policy.py:872: Variable.load (from tensorflow.python.ops.variables) is deprecated and will be removed in a future version.\n",
      "Instructions for updating:\n",
      "Prefer Variable.assign which has equivalent behavior in 2.X.\n"
     ]
    },
    {
     "name": "stderr",
     "output_type": "stream",
     "text": [
      "\u001b[2m\u001b[36m(pid=80409)\u001b[0m WARNING:tensorflow:From /home/zciccwf/.conda/envs/deep_scheduler/lib/python3.8/site-packages/ray/rllib/policy/tf_policy.py:872: Variable.load (from tensorflow.python.ops.variables) is deprecated and will be removed in a future version.\n",
      "\u001b[2m\u001b[36m(pid=80409)\u001b[0m Instructions for updating:\n",
      "\u001b[2m\u001b[36m(pid=80409)\u001b[0m Prefer Variable.assign which has equivalent behavior in 2.X.\n"
     ]
    },
    {
     "name": "stdout",
     "output_type": "stream",
     "text": [
      "  1 | reward -21.00/ -4.95/ 10.00 | len   7.38 | saved agent to tmp/ppo/custom_env/checkpoint_1/checkpoint-1\n",
      "  2 | reward -20.00/  1.23/ 10.00 | len   5.55 | saved agent to tmp/ppo/custom_env/checkpoint_2/checkpoint-2\n",
      "  3 | reward -18.00/  5.77/ 10.00 | len   3.90 | saved agent to tmp/ppo/custom_env/checkpoint_3/checkpoint-3\n",
      "  4 | reward -17.00/  7.02/ 10.00 | len   3.41 | saved agent to tmp/ppo/custom_env/checkpoint_4/checkpoint-4\n",
      "  5 | reward -18.00/  7.66/ 10.00 | len   3.03 | saved agent to tmp/ppo/custom_env/checkpoint_5/checkpoint-5\n"
     ]
    }
   ],
   "source": [
    "N_ITER = 5\n",
    "s = \"{:3d} | reward {:6.2f}/{:6.2f}/{:6.2f} | len {:6.2f} | saved agent to {}\"\n",
    "\n",
    "for i in range(N_ITER):\n",
    "    result = agent.train()\n",
    "    file_name = agent.save(CHECKPOINT_ROOT)\n",
    "    \n",
    "    print(s.format(\n",
    "    i + 1,\n",
    "    result[\"episode_reward_min\"],\n",
    "    result[\"episode_reward_mean\"],\n",
    "    result[\"episode_reward_max\"],\n",
    "    result[\"episode_len_mean\"],\n",
    "    file_name\n",
    "   ))"
   ]
  },
  {
   "cell_type": "markdown",
   "metadata": {},
   "source": [
    "### Rollout Trained Agent"
   ]
  },
  {
   "cell_type": "code",
   "execution_count": 41,
   "metadata": {},
   "outputs": [
    {
     "name": "stderr",
     "output_type": "stream",
     "text": [
      "2020-11-08 11:46:57,951\tINFO trainable.py:481 -- Restored on 128.40.41.23 from checkpoint: tmp/ppo/custom_env/checkpoint_5/checkpoint-5\n",
      "2020-11-08 11:46:57,953\tINFO trainable.py:489 -- Current state after restoring: {'_iteration': 5, '_timesteps_total': None, '_time_total': 36.64543581008911, '_episodes_total': 4779}\n"
     ]
    },
    {
     "name": "stdout",
     "output_type": "stream",
     "text": [
      "position:  6  reward: -1  info: {'dist': -1}\n",
      "position:  5  reward: 10  info: {'dist': 0}\n",
      "Cumulative reward: 9\n",
      "position:  5  reward: 10  info: {'dist': 0}\n",
      "Cumulative reward: 10\n",
      "position:  4  reward: -1  info: {'dist': 1}\n",
      "position:  5  reward: 10  info: {'dist': 0}\n",
      "Cumulative reward: 9\n",
      "position:  3  reward: -1  info: {'dist': 2}\n",
      "position:  4  reward: -1  info: {'dist': 1}\n",
      "position:  5  reward: 10  info: {'dist': 0}\n",
      "Cumulative reward: 8\n",
      "position:  5  reward: 10  info: {'dist': 0}\n",
      "Cumulative reward: 10\n",
      "position:  7  reward: -1  info: {'dist': -2}\n",
      "position:  6  reward: -1  info: {'dist': -1}\n",
      "position:  5  reward: 10  info: {'dist': 0}\n",
      "Cumulative reward: 8\n",
      "position:  5  reward: 10  info: {'dist': 0}\n",
      "Cumulative reward: 10\n",
      "position:  6  reward: -1  info: {'dist': -1}\n",
      "position:  5  reward: 10  info: {'dist': 0}\n",
      "Cumulative reward: 9\n",
      "position:  6  reward: -1  info: {'dist': -1}\n",
      "position:  5  reward: 10  info: {'dist': 0}\n",
      "Cumulative reward: 9\n",
      "position:  2  reward: -1  info: {'dist': 3}\n",
      "position:  3  reward: -1  info: {'dist': 2}\n",
      "position:  4  reward: -1  info: {'dist': 1}\n"
     ]
    }
   ],
   "source": [
    "agent.restore(file_name) # load last saved agent\n",
    "env = Example_v0()\n",
    "state = env.reset()\n",
    "\n",
    "sum_reward = 0\n",
    "n_step = 20\n",
    "\n",
    "for i in range(n_step):\n",
    "    action = agent.compute_action(state)\n",
    "    state, reward, done, info = env.step(action)\n",
    "    \n",
    "    sum_reward += reward\n",
    "    env.render()\n",
    "    \n",
    "    if done:\n",
    "        print('Cumulative reward: {}'.format(sum_reward))\n",
    "        state = env.reset()\n",
    "        sum_reward = 0"
   ]
  },
  {
   "cell_type": "code",
   "execution_count": null,
   "metadata": {},
   "outputs": [],
   "source": []
  }
 ],
 "metadata": {
  "kernelspec": {
   "display_name": "deep_scheduler",
   "language": "python",
   "name": "deep_scheduler"
  },
  "language_info": {
   "codemirror_mode": {
    "name": "ipython",
    "version": 3
   },
   "file_extension": ".py",
   "mimetype": "text/x-python",
   "name": "python",
   "nbconvert_exporter": "python",
   "pygments_lexer": "ipython3",
   "version": "3.8.3"
  }
 },
 "nbformat": 4,
 "nbformat_minor": 4
}
